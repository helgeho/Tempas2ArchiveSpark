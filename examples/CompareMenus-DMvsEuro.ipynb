{
 "cells": [
  {
   "cell_type": "code",
   "execution_count": 1,
   "metadata": {
    "collapsed": false
   },
   "outputs": [],
   "source": [
    "import de.l3s.archivespark._\n",
    "import de.l3s.archivespark.implicits._\n",
    "import de.l3s.archivespark.enrich._\n",
    "import de.l3s.archivespark.enrich.functions._\n",
    "import de.l3s.archivespark.specific.warc.implicits._\n",
    "import de.l3s.archivespark.specific.warc.tempas._\n",
    "import de.l3s.archivespark.specific.warc.enrichfunctions._\n",
    "import scala.util._"
   ]
  },
  {
   "cell_type": "code",
   "execution_count": 89,
   "metadata": {
    "collapsed": true
   },
   "outputs": [],
   "source": [
    "val minAmountsPerPage = 3\n",
    "val verifyTerm = \"speise\""
   ]
  },
  {
   "cell_type": "code",
   "execution_count": 3,
   "metadata": {
    "collapsed": true
   },
   "outputs": [],
   "source": [
    "val speisekarte = ArchiveSpark.load(sc, TempasWaybackSpec(\"speisekarte\", from = 2000, to = 2003, pages = 10, resultsPerPage = 100)).cache"
   ]
  },
  {
   "cell_type": "code",
   "execution_count": 4,
   "metadata": {
    "collapsed": true
   },
   "outputs": [],
   "source": [
    "val restaurant = ArchiveSpark.load(sc, TempasWaybackSpec(\"restaurant\", from = 2000, to = 2003, pages = 10, resultsPerPage = 100)).cache"
   ]
  },
  {
   "cell_type": "code",
   "execution_count": 5,
   "metadata": {
    "collapsed": false
   },
   "outputs": [],
   "source": [
    "val records = speisekarte.union(restaurant)"
   ]
  },
  {
   "cell_type": "code",
   "execution_count": 6,
   "metadata": {
    "collapsed": false
   },
   "outputs": [
    {
     "data": {
      "text/plain": [
       "3567"
      ]
     },
     "execution_count": 6,
     "metadata": {},
     "output_type": "execute_result"
    }
   ],
   "source": [
    "records.count"
   ]
  },
  {
   "cell_type": "code",
   "execution_count": 7,
   "metadata": {
    "collapsed": false
   },
   "outputs": [],
   "source": [
    "val recordsWithContents = records.enrich(StringContent).cache"
   ]
  },
  {
   "cell_type": "code",
   "execution_count": 9,
   "metadata": {
    "collapsed": true
   },
   "outputs": [],
   "source": [
    "var menus = recordsWithContents.filterValue(StringContent) {s => s.isDefined && s.get.toLowerCase.contains(verifyTerm)}"
   ]
  },
  {
   "cell_type": "code",
   "execution_count": 88,
   "metadata": {
    "collapsed": false
   },
   "outputs": [
    {
     "data": {
      "text/plain": [
       "391"
      ]
     },
     "execution_count": 88,
     "metadata": {},
     "output_type": "execute_result"
    }
   ],
   "source": [
    "menus.count"
   ]
  },
  {
   "cell_type": "code",
   "execution_count": 102,
   "metadata": {
    "collapsed": false
   },
   "outputs": [],
   "source": [
    "val regexSuffix = \"\"\"([\\d\\.\\, ]+)(dm|€|eur|euro|\\&euro\\;|\\&\\#8364\\;|\\&\\#x20AC\\;)\"\"\".r\n",
    "val regexPrefix = \"\"\"(dm|€|eur|euro|\\&euro\\;|\\&\\#8364\\;|\\&\\#x20AC\\;)([\\d\\.\\, ]+)\"\"\".r\n",
    "val amounts = StringContent.map(\"amounts\") {text: String =>\n",
    "    val matches = {\n",
    "        val lc = text.toLowerCase.replace(\"\\r\", \" \")\n",
    "        val suffixMatches = regexSuffix.findAllMatchIn(lc).map(m => (m.group(1).trim, m.group(2)))\n",
    "        val prefixMatches = regexPrefix.findAllMatchIn(lc).map(m => (m.group(2), m.group(1).trim))\n",
    "        suffixMatches ++ prefixMatches\n",
    "    }.toList\n",
    "    matches.flatMap{case (a, c) =>\n",
    "        val amount = a.trim\n",
    "        val currency = if (c == \"dm\") \"dm\" else \"eur\"\n",
    "        if (amount.isEmpty) None\n",
    "        else scala.util.Try {\n",
    "            val comma = amount.lastIndexOf(\",\")\n",
    "            val point = amount.lastIndexOf(\".\")\n",
    "            if (comma > point) amount.replace(\".\", \"\").replace(\",\", \".\").toDouble\n",
    "            else if (point > comma) amount.replace(\",\", \"\").toDouble\n",
    "            else amount.toDouble\n",
    "        }.toOption.map(currency + _)\n",
    "    }\n",
    "}"
   ]
  },
  {
   "cell_type": "code",
   "execution_count": 103,
   "metadata": {
    "collapsed": true
   },
   "outputs": [],
   "source": [
    "val menusWithAmounts = menus.enrich(amounts).filterValue(amounts) {a => a.isDefined && a.get.size >= minAmountsPerPage}"
   ]
  },
  {
   "cell_type": "code",
   "execution_count": 104,
   "metadata": {
    "collapsed": false
   },
   "outputs": [
    {
     "data": {
      "text/plain": [
       "49"
      ]
     },
     "execution_count": 104,
     "metadata": {},
     "output_type": "execute_result"
    }
   ],
   "source": [
    "menusWithAmounts.count"
   ]
  },
  {
   "cell_type": "code",
   "execution_count": 70,
   "metadata": {
    "collapsed": false
   },
   "outputs": [
    {
     "name": "stdout",
     "output_type": "stream",
     "text": [
      "{\n",
      "  \"record\":{\n",
      "    \"url\":\"http://ganz-muenchen.de/01essen_resto_sitar2.html\",\n",
      "    \"year\":2001\n",
      "  },\n",
      "  \"payload\":{\n",
      "    \"string\":{\n",
      "      \"_\":\"<html>\\n\\n\\t<head>\\n\\t\\t<meta http-equiv=\\\"content-type\\\" content=\\\"text/html;charset=ISO-8859-1\\\">\\n\\t\\t<title>Essen + Trinken: Sitar - die Karte</title>\\n\\t\\t<meta name=\\\"keywords\\\" content=\\\"Alles &uuml;ber M&uuml;nchen, Restaurant, Sitar, indisch, indisch essen, Inder, Tandoor, essen, trinken, ausgehen, Leute treffen, Stadtf&uuml;hrer, munich, m&uuml;nchen, Muenchen\\\">\\n\\t\\t<meta name=\\\"description\\\" content=\\\"Das Sitar erwartet Sie mit nordindischer K&uuml;che, die weniger Hot, weniger scharf gew&uuml;rzt dem bayerischen Gaumen sehr mundet. Ein Blick in die K&uuml;che verr&auml;t, hier wird typisch indisch zubereitet. Da steht der Tandoor, ein Holzkohlenlehmofen. So eine Art gro&szlig;er Topf, in dem die Glut rund 400 bis 500 Grad Hitze entwickelt, mit der die Gerichte zubereitet werden. Da zieht dann schon einmal der Ober die Blicke auf sich, wenn er rechts und links mit dampfenden oder vor Hitze noch knackenden Gerichten beladen einen anderen Tisch ansteuert. \\\">\\n\\t\\t<meta name=\\\"Robots\\\" content=\\\"INDEX,FOLLOW\\\">\\n\\t\\t<meta name=\\\"distribution\\\" content=\\\"global\\\">\\n\\t\\t<meta name=\\\"Audience\\\" content=\\\"Alle\\\">\\n\\t\\t<meta name=\\\"Content-language\\\" content=\\\"DE\\\">\\n\\t\\t<meta http-equiv=\\\"expires\\\" content=\\\"0\\\">\\n\\t\\t<meta http-equiv=\\\"cache control\\\" content=\\\"no-cache, must-revalidate\\\">\\n\\t\\t<meta name=\\\"Copyright\\\" content=\\\"www.ganz-muenchen.de 2001, 2002\\\">\\n\\t\\t<meta name=\\\"Author\\\" content=\\\"Martin Schmitz\\\">\\n\\t\\t<meta name=\\\"Page-type\\\" content=\\\"Private Homepage\\\">\\n\\t\\t<meta http-equiv=\\\"pragma\\\" content=\\\"no-cache\\\">\\n\\t\\t<csimport user=\\\"../ganzmuc_test.data/Komponenten/fussleiste.html\\\" occur=\\\"64\\\"></csimport>\\n\\t\\t<csimport user=\\\"../ganzmuc_test.data/Komponenten/banner_1.html\\\" occur=\\\"31\\\"></csimport>\\n\\t\\t<csimport user=\\\"../ganzmuc_test.data/Komponenten/navbar.html\\\" occur=\\\"19\\\"></csimport>\\n\\t</head>\\n\\n\\t<body bgcolor=\\\"#ffffff\\\" link=\\\"black\\\">\\n\\t\\t<p><font face=\\\"Arial,Helvetica,Geneva,sans-serif\\\" size=\\\"1\\\"><a href=\\\"index.html\\\" target=\\\"_blank\\\"><img src=\\\"Media/logo_blau.gif\\\" width=\\\"200\\\" height=\\\"33\\\" border=\\\"0\\\" alt=\\\"www.ganz-muenchen.de\\\" align=\\\"absmiddle\\\"></a> </font><font face=\\\"Arial,Helvetica,Geneva,sans-serif\\\" size=\\\"2\\\"><b>die private Seite M&uuml;nchens</b></font><font face=\\\"Arial,Helvetica,Geneva,sans-serif\\\" size=\\\"1\\\"><br>\\n\\t\\t\\t</font></p>\\n\\t\\t<csobj w=\\\"604\\\" h=\\\"21\\\" t=\\\"Component\\\" csref=\\\"../ganzmuc_test.data/Komponenten/navbar.html\\\" occur=\\\"19\\\">\\n\\t\\t\\t<table border=\\\"0\\\" cellpadding=\\\"0\\\" cellspacing=\\\"1\\\" width=\\\"589\\\">\\n\\t\\t\\t\\t<tr>\\n\\t\\t\\t\\t\\t<td bgcolor=\\\"#dcdcdc\\\" valign=\\\"top\\\" align=\\\"left\\\">\\n\\t\\t\\t\\t\\t\\t<p><font size=\\\"1\\\" face=\\\"Arial,Helvetica,Geneva,sans-serif\\\">| </font><font size=\\\"1\\\" color=\\\"black\\\" face=\\\"Arial,Helvetica,Geneva,sans-serif\\\"><a href=\\\"index.html\\\">Startseite</a><span class=\\\"text12px\\\"> | <a href=\\\"01essen.html\\\">Essen+Trinken</a> | <a href=\\\"02freiz.html\\\">Freizeit+Fitness</a> | <a href=\\\"kino/startseite.html\\\">Filme+Kinos</a> | <a href=\\\"04artcult.html\\\">Art+Culture</a> | <a href=\\\"umland/intro.html\\\">Umland</a> | <a href=\\\"tourist/start.html\\\">Tourist?</a> | <a href=\\\"hotel/startseite.html\\\" target=\\\"_blank\\\">Hotels</a> </span>|<span class=\\\"text12px\\\"> </span><span class=\\\"text12px\\\"><a href=\\\"shopping/center.html\\\">Shopping</a></span> <span class=\\\"text12px\\\">| Nachrichten</span>| <a href=\\\"sitemap/aktuell.html\\\">&Uuml;bersicht</a> | <a href=\\\"impressum.html\\\">Impressum</a> | <span class=\\\"text12px\\\"><a href=\\\"mailto:ganzmuenchen@web.de\\\">Kontakt</a> </span>| <a href=\\\"oktoberfest.html\\\">Oktoberfest</a> | <a href=\\\"fasching/home.html\\\">Fasching</a> | <a href=\\\"gastro/biergarten/startseite.html\\\">Bierg&auml;rten</a> | <a href=\\\"volksfeste/kalender/2002/intro.html\\\">Volksfeste</a> | <a href=\\\"http://donnerwetter.de/extern/region.mv?13386\\\" target=\\\"_blank\\\">Wetter</a> | <a href=\\\"http://gb.webmart.de/guestbook.cfm?bookid=172406\\\" target=\\\"_blank\\\">G&auml;stebuch</a> | <a href=\\\"http://www.forumromanum.de/member/forum/forum.cgi?USER=user_136482\\\">Forum</a><span class=\\\"text12px\\\"> </span></font><font size=\\\"1\\\" face=\\\"Arial,Helvetica,Geneva,sans-serif\\\">|</font><font size=\\\"1\\\" color=\\\"black\\\" face=\\\"Arial,Helvetica,Geneva,sans-serif\\\"><span class=\\\"text12px\\\"> </span></font></p>\\n\\t\\t\\t\\t\\t</td>\\n\\t\\t\\t\\t</tr>\\n\\t\\t\\t</table>\\n\\t\\t</csobj><csobj w=\\\"604\\\" h=\\\"21\\\" t=\\\"Component\\\" csref=\\\"../ganzmuc_test.data/Komponenten/banner_1.html\\\" occur=\\\"31\\\">\\n\\t\\t\\t<table border=\\\"0\\\" cellpadding=\\\"0\\\" cellspacing=\\\"0\\\" width=\\\"461\\\">\\n\\t\\t\\t\\t<tr>\\n\\t\\t\\t\\t\\t<td valign=\\\"top\\\" align=\\\"center\\\" width=\\\"54\\\"><font size=\\\"1\\\" face=\\\"Arial,Helvetica,Geneva,sans-serif\\\"><br>\\n\\t\\t\\t\\t\\t\\t</font><a href=\\\"http://www.munig.com/shared/extern.php?anbieter=munig&art=url&pid=home&platz=ganzmuen468x60-1\\\" target=\\\"_blank\\\"><img src=\\\"http://www.munig.com/shared/extern.php?anbieter=munig&art=img&pid=home&platz=ganzmuen468x60-1\\\" width=\\\"468\\\" height=\\\"60\\\" border=\\\"0\\\"></a><font size=\\\"1\\\" face=\\\"Arial,Helvetica,Geneva,sans-serif\\\"><br>\\n\\t\\t\\t\\t\\t\\t</font></td>\\n\\t\\t\\t\\t</tr>\\n\\t\\t\\t</table>\\n\\t\\t</csobj>\\n\\t\\t<table border=\\\"0\\\" cellpadding=\\\"4\\\" cellspacing=\\\"0\\\" width=\\\"587\\\">\\n\\t\\t\\t<tr>\\n\\t\\t\\t\\t<td>\\n\\t\\t\\t\\t\\t<p><font size=\\\"4\\\" face=\\\"Arial,Helvetica,Geneva,sans-serif\\\"><b><span class=\\\"profilehead\\\"><font color=\\\"#2e8b57\\\">Sitar - das Essen</font></span><br>\\n\\t\\t\\t\\t\\t\\t\\t</b></font></p>\\n\\t\\t\\t\\t\\t<p><font size=\\\"1\\\" face=\\\"Arial,Helvetica,Geneva,sans-serif\\\">Das Sitar erwartet Sie mit nordindischer K&uuml;che, die weniger Hot, weniger scharf gew&uuml;rzt dem bayerischen Gaumen sehr mundet. Ein Blick in die K&uuml;che verr&auml;t, hier wird typisch indisch zubereitet. Da steht der <b>Tandoor</b>, ein Holzkohlenlehmofen. So eine Art gro&szlig;er Topf, in dem die Glut rund 400 bis 500 Grad Hitze entwickelt, mit der die Gerichte zubereitet werden. Da zieht dann schon einmal der Ober die Blicke auf sich, wenn er rechts und links mit dampfenden oder vor Hitze noch knackenden Gerichten beladen einen anderen Tisch ansteuert. </font></p>\\n\\t\\t\\t\\t\\t<p><font size=\\\"1\\\" face=\\\"Arial,Helvetica,Geneva,sans-serif\\\">15 verschiedene Gerichte stehen beim Mittagsmen&uuml; Montags bis Freitags zur Auswahl, die Preise liegen zwischen 10,50 und 14,50 DM. Serviert wird alles wahlweise mit einer Tagessuppe oder einem kleinen, gemischten Salat, zu allen Gerichten geh&ouml;rt schmackhafter Basmati-Reis. Potentielle Kundschaft f&uuml;r das Mittagsmen&uuml; gibt es ausreichend in Laufweite, die Regierung von Oberbayern, die Bayerische Versicherungskammer, aber auf viele Kanzleien und B&uuml;ros liegen in der N&auml;he.</font></p>\\n\\t\\t\\t\\t\\t<p><font size=\\\"1\\\" face=\\\"Arial,Helvetica,Geneva,sans-serif\\\">Die Karte selbst ist umfangreich und liebevoll geschrieben, kleine indische Weisheiten auf jeder Seite geben wahlweise Anlass zum schmunzeln oder zum nachdenken. &quot;Nur der Unwissende wird b&ouml;se, der Weise versteht&quot;. Darum wird der Gast auch auf der Karte im Vorwort ausf&uuml;hrlich &uuml;ber die Geheimnisse der indische K&uuml;che und die Zubereitungsarten informiert.</font></p>\\n\\t\\t\\t\\t\\t<p><font size=\\\"1\\\" face=\\\"Arial,Helvetica,Geneva,sans-serif\\\">Die <b>Spezialit&auml;ten aus dem Tandoor</b> werden Sie lieben lernen: das 1/2 Tandoori-Chicken nach dem ber&uuml;hmten nordindischen Rezept zubereitet kommt dampfend und zischend auf den Tisch (Bild rechts), die Preise liegen zwischen 20,50 DM f&uuml;r das eingangs erw&auml;hnte Huhn bis hinzu 34,50 DM f&uuml;r ein Jheenga Tandoori, knusprig gegrillten Riesengarnelen in Joghurt und Gew&uuml;rzen eingelegt,</font></p>\\n\\t\\t\\t\\t\\t<p><font size=\\\"1\\\" face=\\\"Arial,Helvetica,Geneva,sans-serif\\\"><b>Chicken- , Lamm-, Enten-, Beef- und Fischspezialit&auml;te</b>n f&uuml;llen weitere Seiten der Speisekarte, aber auch an die Vegetarier und Veganer ist gedacht, mehr als ein Dutzend Gerichte stehen zur Wahl.</font></p>\\n\\t\\t\\t\\t\\t<p><font size=\\\"1\\\" face=\\\"Arial,Helvetica,Geneva,sans-serif\\\">K&ouml;nnen Sie sich gar nicht entscheiden, so empfehlen sich Thalis, verschiedene Gerichte auf original indischen Platten nach indischer Tradition serviert. Der <b>Sitar Thali</b> mit zwei verschiedenen Fleischgerichten, einem Gem&uuml;segericht, Raita (Joghurt), Salat, Pappad (Linsenwaffeln), Nan (Fladenbrot) und Basmati Reis kostet so beispielsweise 27,50 DM, der Vegetable Thali f&uuml;r 2 Personen mit 6 verschiedenen Gem&uuml;segerichten 49 DM.</font></p>\\n\\t\\t\\t\\t\\t<p><font size=\\\"1\\\" face=\\\"Arial,Helvetica,Geneva,sans-serif\\\">Dazu vielleicht Tandoor Brotspezialit&auml;ten? An die durch die Glut erhitzten Au&szlig;enw&auml;nde wird der tellerf&ouml;rmige Nan geklebt und dort frisch gebacken. Als Beilagen empfehlen sich zu allen Speisen hausgemachte Joghurts. Zum Dessert listet die Karte zahlreiche Leckereien, eine k&ouml;stlicher als die andere: z.B. Mango-Creme mit Vanilleeis (7,80 DM) , Kulfi (Honigmilch mit Maismehl, Mandeln und Pistazien, 7,50 DM) oder Gajar Halwa (geriebene Karotten mit Mandeln und Rosinen zubereitet, 7,50 DM). </font></p>\\n\\t\\t\\t\\t\\t<p><font size=\\\"1\\\" face=\\\"Arial,Helvetica,Geneva,sans-serif\\\">Neben reichlich Weinen, noch vom Vorg&auml;ngerlokal &uuml;bernommen und daher &uuml;berwiegend italienischer Herkunft begleiten Sie das Mahl doch einmal mit einem der diversen angebotenen Lassi (hausgemachtes indisches Joghurtgetr&auml;nk).</font></p>\\n\\t\\t\\t\\t\\t<p><font size=\\\"1\\\" face=\\\"Arial,Helvetica,Geneva,sans-serif\\\">Reichhaltig ist auch das mit Sorgfalt und Sachverst&auml;ndnis getroffene Teeangebot indischer und internationaler Mischungen. Der Tee wird wahlweise mit Kandiszucker oder fl&uuml;ssiger Sahne serviert.</font></p>\\n\\t\\t\\t\\t\\t<p><font size=\\\"1\\\" face=\\\"Arial,Helvetica,Geneva,sans-serif\\\">Bodenst&auml;ndiger geht es auch: der Wirt empfiehlt ausdr&uuml;cklich das hier angebotene Augustiner Helles, weil es so gut zum indischen Essen passt. Daneben gibt es Pils vom Krombacher und Erdinger Wei&szlig;bier.</font></p>\\n\\t\\t\\t\\t\\t<p><font size=\\\"1\\\" face=\\\"Arial,Helvetica,Geneva,sans-serif\\\">zur&uuml;ck <a href=\\\"gastro/restaurants/indisch/sitar/ambiente.html\\\">zum Haupttext Sitar - indisch essen im Lehel</a></font></p>\\n\\t\\t\\t\\t\\t<p><font size=\\\"1\\\" face=\\\"Arial,Helvetica,Geneva,sans-serif\\\"><b>Sitar - Indisches Restaurant</b><br>\\n\\t\\t\\t\\t\\t\\t\\t\\n\\t\\t\\t\\t\\t\\t\\t\\n\\t\\t\\t\\t\\t\\t\\t\\t\\n\\t\\t\\t\\t\\t\\t\\t\\n\\t\\t\\t\\t\\t\\t\\tRobert-Koch Str. 4<br>\\n\\t\\t\\t\\t\\t\\t\\t\\n\\t\\t\\t\\t\\t\\t\\t\\n\\t\\t\\t\\t\\t\\t\\t\\t\\n\\t\\t\\t\\t\\t\\t\\t\\n\\t\\t\\t\\t\\t\\t\\t80538 M&uuml;nchen<br>\\n\\t\\t\\t\\t\\t\\t\\t<b>ge&ouml;ffnet</b> tgl. 11.30-14.30 Uhr und 17.30-01Uhr<br>\\n\\t\\t\\t\\t\\t\\t\\t<b>Tel. + Res.:</b> 089 / 2112361<br>\\n\\t\\t\\t\\t\\t\\t\\t<b>MVV:</b> U-Bahn Lehel<br>\\n\\t\\t\\t\\t\\t\\t\\t\\n\\t\\t\\t\\t\\t\\t\\t\\n\\t\\t\\t\\t\\t\\t\\t\\t\\n\\t\\t\\t\\t\\t\\t\\t\\n\\t\\t\\t\\t\\t\\t\\tTram Linie ...Haltestelle Maxmonument<br>\\n\\t\\t\\t\\t\\t\\t\\t\\n\\t\\t\\t\\t\\t\\t\\t\\n\\t\\t\\t\\t\\t\\t\\t\\t\\n\\t\\t\\t\\t\\t\\t\\t\\n\\t\\t\\t\\t\\t\\t\\tMit dem Auto: ist die Anfahrt wenig empfehlenswert. Parklizenzgebiete in der N&auml;he verleiden allabendlich die Parkplatzsuche<br>\\n\\t\\t\\t\\t\\t\\t\\t<b>In der N&auml;he von: </b>Regierung von Oberbayern, Isar, Bay. Versicherungskammer</font></p>\\n\\t\\t\\t\\t\\t<p><font size=\\\"1\\\" face=\\\"Arial,Helvetica,Geneva,sans-serif\\\">SWAGAT hei&szlig;t das andere Lokal des Betreibers am Prinzregentenplatz 3. </font></p>\\n\\t\\t\\t\\t\\t<p><font size=\\\"1\\\" face=\\\"Arial,Helvetica,Geneva,sans-serif\\\">Stichworte: <a href=\\\"gastro/restaurants/indisch/sitar/begriffe.html\\\">Sitar, Ganesha</a></font></p>\\n\\t\\t\\t\\t\\t<hr>\\n\\t\\t\\t\\t\\t<ul>\\n\\t\\t\\t\\t\\t\\t<li><b></b><b></b>\\n\\t\\t\\t\\t\\t</ul>\\n\\t\\t\\t\\t\\t<div align=\\\"center\\\">\\n\\t\\t\\t\\t\\t\\t<p><font size=\\\"2\\\" face=\\\"Arial,Helvetica,Geneva,Swiss,SunSans-Regular\\\"><span class=\\\"text12px\\\"></span></font></p>\\n\\t\\t\\t\\t\\t</div>\\n\\t\\t\\t\\t</td>\\n\\t\\t\\t</tr>\\n\\t\\t</table>\\n\\t\\t<csobj w=\\\"604\\\" h=\\\"21\\\" t=\\\"Component\\\" csref=\\\"../ganzmuc_test.data/Komponenten/fussleiste.html\\\" occur=\\\"64\\\">\\n\\t\\t\\t<table border=\\\"0\\\" cellpadding=\\\"0\\\" cellspacing=\\\"0\\\" width=\\\"560\\\">\\n\\t\\t\\t\\t<tr>\\n\\t\\t\\t\\t\\t<td valign=\\\"top\\\" align=\\\"center\\\">\\n\\t\\t\\t\\t\\t\\t<div align=\\\"center\\\">\\n\\t\\t\\t\\t\\t\\t\\t<p><font size=\\\"1\\\" face=\\\"Arial,Helvetica,Geneva,sans-serif\\\"><br>\\n\\t\\t\\t\\t\\t\\t\\t\\t\\t\\n\\t\\t\\t\\t\\t\\t\\t\\t\\t\\t| <a href=\\\"index.html\\\" target=\\\"_blank\\\">Startseite</a> <span class=\\\"text12px\\\">| <a href=\\\"sitemap/aktuell.html\\\">&Uuml;bersicht</a> | <a href=\\\"mailto:ganzmuenchen@web.de\\\">Kontakt</a> | Hilfe | <a href=\\\"suche.html\\\">Suche</a> | <a href=\\\"haftungsausschluss.html\\\">Haftungsausschluss</a> | </span></font></p>\\n\\t\\t\\t\\t\\t\\t\\t<p><span class=\\\"text12px\\\"><font size=\\\"1\\\" face=\\\"Arial,Helvetica,Geneva,sans-serif\\\">Copyright www.ganz-muenchen.de 2001, 2002</font></span></p>\\n\\t\\t\\t\\t\\t\\t\\t<p><font size=\\\"1\\\" face=\\\"Arial,Helvetica,Geneva,sans-serif\\\">HINWEIS: diese Seiten wurden unter Adobe GoLive 5.0 f&uuml;r<br>\\n\\t\\t\\t\\t\\t\\t\\t\\t\\t\\n\\t\\t\\t\\t\\t\\t\\t\\t\\t\\tBrowser ab der Version 5.0 oder h&ouml;her hergestellt.<br>\\n\\t\\t\\t\\t\\t\\t\\t\\t\\t\\n\\t\\t\\t\\t\\t\\t\\t\\t\\t\\tBei &auml;lteren Browsern k&ouml;nnen Darstellungsprobleme auftreten<br>\\n\\t\\t\\t\\t\\t\\t\\t\\t</font></p>\\n\\t\\t\\t\\t\\t\\t</div>\\n\\t\\t\\t\\t\\t</td>\\n\\t\\t\\t\\t</tr>\\n\\t\\t\\t</table>\\n\\t\\t</csobj><font face=\\\"Arial,Helvetica,Geneva,sans-serif\\\" size=\\\"1\\\"><br>\\n\\t\\t\\t<!-- Begin Nedstat Basic code --><!-- Title: Ganz M�nchen im Netz --><!-- URL: http://www.ganz-muenchen.de -->\\n\\t\\t\\t<script language=\\\"JavaScript\\\" src=\\\"http://m1.nedstatbasic.net/basic.js\\\">\\n</script>\\n\\t\\t\\t<script language=\\\"JavaScript\\\">\\n<!--\\n  nedstatbasic(\\\"ABHHOAWF1yRwiIAJjUjKlixVQKcA\\\", 0);\\n// -->\\n</script>\\n\\t\\t</font>\\n\\t\\t<noscript>\\n\\t\\t\\t<a target=\\\"_blank\\\" href=\\\"http://v1.nedstatbasic.net/stats?ABHHOAWF1yRwiIAJjUjKlixVQKcA\\\"><img src=\\\"http://m1.nedstatbasic.net/n?id=ABHHOAWF1yRwiIAJjUjKlixVQKcA\\\" border=\\\"0\\\" nosave width=\\\"18\\\" height=\\\"18\\\"></a>\\n\\t\\t</noscript>\\n\\t\\t<font face=\\\"Arial,Helvetica,Geneva,sans-serif\\\" size=\\\"1\\\"><!-- End Nedstat Basic code --></font>\\n\\t</body>\\n\\n</html>\",\n",
      "      \"amounts\":[\n",
      "        \"dm14.5\",\n",
      "        \"dm20.5\",\n",
      "        \"dm34.5\",\n",
      "        \"dm27.5\",\n",
      "        \"dm49.0\",\n",
      "        \"dm7.8\"\n",
      "      ]\n",
      "    }\n",
      "  }\n",
      "}\n"
     ]
    }
   ],
   "source": [
    "println(menusWithAmounts.peekJson)"
   ]
  },
  {
   "cell_type": "code",
   "execution_count": 35,
   "metadata": {
    "collapsed": false
   },
   "outputs": [],
   "source": [
    "val links = HtmlAttribute(\"href\").ofEach(Html.all(\"a\"))"
   ]
  },
  {
   "cell_type": "code",
   "execution_count": 36,
   "metadata": {
    "collapsed": false
   },
   "outputs": [],
   "source": [
    "val recordsWithLinks = recordsWithContents.enrich(links).filterValue(links) {l => l.isDefined && l.nonEmpty}"
   ]
  },
  {
   "cell_type": "code",
   "execution_count": 37,
   "metadata": {
    "collapsed": false
   },
   "outputs": [
    {
     "name": "stdout",
     "output_type": "stream",
     "text": [
      "{\n",
      "  \"record\":{\n",
      "    \"url\":\"http://home.t-online.de/home/lotus-gg/lotus.htm\",\n",
      "    \"year\":2002\n",
      "  },\n",
      "  \"payload\":{\n",
      "    \"string\":{\n",
      "      \"_\":\"<HTML>\\n<HEAD>\\n   <META HTTP-EQUIV=\\\"Content-Type\\\" CONTENT=\\\"text/html; charset=iso-8859-1\\\">\\n   <TITLE>Private Homepages in T-Online - Error 404</TITLE>\\n</HEAD>\\n<BODY BGCOLOR=\\\"#FFFFFF\\\">\\n<IMG SRC=\\\"/err_img/logo.gif\\\" HEIGHT=30 WIDTH=164>\\n<BR><B><FONT SIZE=+2 FACE=\\\"Arial,Helvetica\\\">Private Homepage</FONT></B><BR>\\n<BR><HR WIDTH=\\\"100%\\\">\\n<B><FONT FACE=\\\"Arial,Helvetica\\\">Das Dokument konnte nicht gefunden\\nwerden.</FONT>\\n<BR>\\n<FONT Size=-1 FACE=\\\"Arial,Helvetica\\\">Bitte �berpr�fen Sie Ihren URL\\n<HR Size=1>\\nHinweis : <BR>\\nBei Dateinamen wird auf Gro�- und Kleinschreibung unterschieden</FONT></B>\\n<BR>\\n<HR WIDTH=\\\"100%\\\">\\n<FONT Size=-1 FACE=\\\"Arial,Helvetica\\\">We are sorry, but the private homepage server could not find the file you asked for.\\n<BR>\\nPlease check the URL to ensure that the path is correct.\\n<BR>\\n<HR WIDTH=\\\"100%\\\">\\n<FONT SIZE=+3>404</FONT>\\n<BR>\\n<HR WIDTH=\\\"100%\\\">\\n<FONT SIZE=+0 FACE=\\\"Arial,Helvetica\\\"><B>Weiter mit </B></FONT><A HREF=\\\"http://t-online.t-online.de\\\"><IMG SRC=\\\"/err_img/home.gif\\\" ALT=\\\"Home\\\" BORDER=0 HEIGHT=16 WIDTH=16 ALIGN=BOTTOM></A>\\n</BODY>\\n</HTML>\",\n",
      "      \"html\":{\n",
      "        \"a\":[\n",
      "          {\n",
      "            \"href\":\"http://t-online.t-online.de\"\n",
      "          }\n",
      "        ]\n",
      "      }\n",
      "    }\n",
      "  }\n",
      "}\n"
     ]
    }
   ],
   "source": [
    "println(recordsWithLinks.peekJson)"
   ]
  },
  {
   "cell_type": "code",
   "execution_count": 38,
   "metadata": {
    "collapsed": false
   },
   "outputs": [],
   "source": [
    "val outLinks = recordsWithLinks.flatMap { record =>\n",
    "    val url = new java.net.URI(record.url)\n",
    "    val year = record.year\n",
    "    record.value(links).get.flatMap{l =>\n",
    "        Try{url.resolve(l)}.toOption.filter(_.getHost == url.getHost).map(_.toString)\n",
    "    }.distinct.map((record.url, year, _))\n",
    "}"
   ]
  },
  {
   "cell_type": "code",
   "execution_count": 39,
   "metadata": {
    "collapsed": false
   },
   "outputs": [
    {
     "data": {
      "text/plain": [
       "(http://home.t-online.de/home/sebgast/speisek.htm,2000,http://home.t-online.de/home/sebgast)"
      ]
     },
     "execution_count": 39,
     "metadata": {},
     "output_type": "execute_result"
    }
   ],
   "source": [
    "outLinks.peek"
   ]
  },
  {
   "cell_type": "code",
   "execution_count": 40,
   "metadata": {
    "collapsed": false
   },
   "outputs": [],
   "source": [
    "val level1 = outLinks.map{case (from, year, to) =>\n",
    "    TempasYearResult(to, year)\n",
    "}.distinct.map(new TempasWaybackRecord(_)).enrich(StringContent).cache"
   ]
  },
  {
   "cell_type": "code",
   "execution_count": 85,
   "metadata": {
    "collapsed": false
   },
   "outputs": [
    {
     "data": {
      "text/plain": [
       "6082"
      ]
     },
     "execution_count": 85,
     "metadata": {},
     "output_type": "execute_result"
    }
   ],
   "source": [
    "level1.count"
   ]
  },
  {
   "cell_type": "code",
   "execution_count": 86,
   "metadata": {
    "collapsed": false
   },
   "outputs": [],
   "source": [
    "val level1Menus = level1.filterValue(StringContent) {s => s.isDefined && s.get.toLowerCase.contains(verifyTerm)}"
   ]
  },
  {
   "cell_type": "code",
   "execution_count": 87,
   "metadata": {
    "collapsed": false
   },
   "outputs": [
    {
     "data": {
      "text/plain": [
       "192"
      ]
     },
     "execution_count": 87,
     "metadata": {},
     "output_type": "execute_result"
    }
   ],
   "source": [
    "level1Menus.count"
   ]
  },
  {
   "cell_type": "code",
   "execution_count": 105,
   "metadata": {
    "collapsed": true
   },
   "outputs": [],
   "source": [
    "val level1WithAmounts = level1Menus.enrich(amounts).filterValue(amounts) {a => a.isDefined && a.get.size >= minAmountsPerPage}"
   ]
  },
  {
   "cell_type": "code",
   "execution_count": 106,
   "metadata": {
    "collapsed": false
   },
   "outputs": [
    {
     "data": {
      "text/plain": [
       "22"
      ]
     },
     "execution_count": 106,
     "metadata": {},
     "output_type": "execute_result"
    }
   ],
   "source": [
    "level1WithAmounts.count"
   ]
  },
  {
   "cell_type": "code",
   "execution_count": 44,
   "metadata": {
    "collapsed": false,
    "scrolled": true
   },
   "outputs": [
    {
     "name": "stdout",
     "output_type": "stream",
     "text": [
      "{\n",
      "  \"record\":{\n",
      "    \"url\":\"http://hotel-ponyhof-knotte.de/abendkarte.htm\",\n",
      "    \"year\":2000\n",
      "  },\n",
      "  \"payload\":{\n",
      "    \"string\":{\n",
      "      \"_\":\"<html>\\n\\n<head>\\n<title>Abendkarte</title>\\n<meta name=\\\"GENERATOR\\\" content=\\\"Microsoft FrontPage 4.0\\\">\\n<meta name=\\\"ProgId\\\" content=\\\"FrontPage.Editor.Document\\\">\\n\\n\\n<meta name=\\\"Microsoft Theme\\\" content=\\\"ponyhof 111, default\\\"><meta name=\\\"Microsoft Border\\\" content=\\\"l, default\\\"></head>\\n\\n<body background=\\\"_themes/ponyhof/hinterg.jpg\\\" bgcolor=\\\"#FFFFCC\\\" text=\\\"#000000\\\" link=\\\"#0033CC\\\" vlink=\\\"#993399\\\" alink=\\\"#FF9900\\\"><!--msnavigation--><table border=\\\"0\\\" cellpadding=\\\"0\\\" cellspacing=\\\"0\\\" width=\\\"100%\\\"><tr><td valign=\\\"top\\\" width=\\\"1%\\\"><!--mstheme--><font face=\\\"verdana, arial, helvetica\\\">\\n\\n<p align=\\\"center\\\"><img border=\\\"0\\\" src=\\\"_borders/logo.gif\\\" width=\\\"126\\\" height=\\\"124\\\"></p>\\n<p><script language=\\\"JavaScript\\\"><!--\\nMSFPhover = \\n  (((navigator.appName == \\\"Netscape\\\") && \\n  (parseInt(navigator.appVersion) >= 3 )) || \\n  ((navigator.appName == \\\"Microsoft Internet Explorer\\\") && \\n  (parseInt(navigator.appVersion) >= 4 ))); \\nfunction MSFPpreload(img) \\n{\\n  var a=new Image(); a.src=img; return a; \\n}\\n// --></script><script language=\\\"JavaScript\\\"><!--\\nif(MSFPhover) { MSFPnav1n=MSFPpreload('_derived/home_cmp_ponyhof110_vbtn.gif'); MSFPnav1h=MSFPpreload('_derived/home_cmp_ponyhof110_vbtn_a.gif'); }\\n// --></script><a href=\\\"./\\\" onmouseover=\\\"if(MSFPhover) document['MSFPnav1'].src=MSFPnav1h.src\\\" onmouseout=\\\"if(MSFPhover) document['MSFPnav1'].src=MSFPnav1n.src\\\"><img src=\\\"_derived/home_cmp_ponyhof110_vbtn.gif\\\" width=\\\"140\\\" height=\\\"50\\\" border=\\\"0\\\" alt=\\\"Home\\\" name=\\\"MSFPnav1\\\"></a><br><script language=\\\"JavaScript\\\"><!--\\nif(MSFPhover) { MSFPnav2n=MSFPpreload('_derived/up_cmp_ponyhof110_vbtn.gif'); MSFPnav2h=MSFPpreload('_derived/up_cmp_ponyhof110_vbtn_a.gif'); }\\n// --></script><a href=\\\"restaurant.htm\\\" onmouseover=\\\"if(MSFPhover) document['MSFPnav2'].src=MSFPnav2h.src\\\" onmouseout=\\\"if(MSFPhover) document['MSFPnav2'].src=MSFPnav2n.src\\\"><img src=\\\"_derived/up_cmp_ponyhof110_vbtn.gif\\\" width=\\\"140\\\" height=\\\"50\\\" border=\\\"0\\\" alt=\\\"Nach oben\\\" name=\\\"MSFPnav2\\\"></a>\\n</p>\\n        <h6><!--mstheme--><font color=\\\"#0033CC\\\"><img src=\\\"http://cgicounter.onlinehome.de/cgi-bin/cnt?clsid=d80a963fe049dfa100bf2736b89161ae1\\\">\\n      Besucher&nbsp;<!--mstheme--></font></h6>\\n        <h6><!--mstheme--><font color=\\\"#0033CC\\\"><small><small>27. November 2000</small></small><!--mstheme--></font></h6>\\n<!--mstheme--></font></td><td valign=\\\"top\\\" width=\\\"24\\\"></td><!--msnavigation--><td valign=\\\"top\\\"><!--mstheme--><font face=\\\"verdana, arial, helvetica\\\">\\n<p><!--webbot bot=\\\"Navigation\\\" S-Type=\\\"banner\\\" S-Rendering S-Orientation B-Include-Home B-Include-Up U-Page S-Target startspan --><img src=\\\"_derived/abendkarte.htm_cmp_ponyhof110_bnr.gif\\\" width=\\\"600\\\" height=\\\"60\\\" border=\\\"0\\\" alt=\\\"Abendkarte\\\"><!--webbot bot=\\\"Navigation\\\" endspan i-checksum=\\\"51823\\\" -->\\n</p>\\n<!--mstheme--></font><table border=\\\"1\\\" width=\\\"100%\\\" bordercolordark=\\\"#3333CC\\\" bordercolorlight=\\\"#6699FF\\\">\\n  <tr>\\n    <td width=\\\"50%\\\"><!--mstheme--><font face=\\\"verdana, arial, helvetica\\\">\\n      <h1><!--mstheme--><font color=\\\"#0033CC\\\"><span style=\\\"font-family:&quot;Book Antiqua&quot;\\\">Herzlich willkommen\\n      im</span><!--mstheme--></font></h1>\\n      <h2><!--mstheme--><font color=\\\"#0033CC\\\"><span style=\\\"font-family:&quot;Book Antiqua&quot;\\\">Hotel &#150;\\n      Restaurant &#150; Ponyhof</span><!--mstheme--></font></h2>\\n      <!--msthemeseparator--><p align=\\\"center\\\"><img src=\\\"_themes/ponyhof/acdrule.gif\\\" width=\\\"600\\\" height=\\\"10\\\"></p>\\n      <p class=\\\"MsoNormal\\\">&nbsp;</p>\\n      <h4><!--mstheme--><font color=\\\"#0033CC\\\"><span style=\\\"font-family:&quot;Book Antiqua&quot;\\\"><b>Auf Wunsch\\n      liefern wir zu allen festlichen Anl�ssen warme Speisen</b></span> <span style=\\\"font-family:&quot;Book Antiqua&quot;\\\"><b>Und\\n      kalte Platten ins Haus. Fragen Sie nach unserem Lieferservice!</b></span><!--mstheme--></font></h4>\\n      <p>&nbsp;</p>\\n      <!--mstheme--></font><!--msthemelist--><table border=\\\"0\\\" cellpadding=\\\"0\\\" cellspacing=\\\"0\\\" width=\\\"100%\\\">\\n        <!--msthemelist--><tr><td valign=\\\"baseline\\\" width=\\\"42\\\"><img src=\\\"_themes/ponyhof/acdbull1.gif\\\" width=\\\"15\\\" height=\\\"15\\\" hspace=\\\"13\\\"></td><td valign=\\\"top\\\" width=\\\"100%\\\"><!--mstheme--><font face=\\\"verdana, arial, helvetica\\\">\\n          <h3><!--mstheme--><font color=\\\"#0033CC\\\"><span style=\\\"mso-tab-count: 1; font-size: 10.0pt; font-family: Book Antiqua; color: windowtext\\\">&nbsp;\\n          </span><span style=\\\"font-family:&quot;Book Antiqua&quot;\\\">Festliche\\n          Tafeln</span><!--mstheme--></font></h3>\\n        <!--mstheme--></font><!--msthemelist--></td></tr>\\n      <!--msthemelist--></table><!--mstheme--><font face=\\\"verdana, arial, helvetica\\\">\\n      <h4><!--mstheme--><font color=\\\"#0033CC\\\"><span style=\\\"font-family:&quot;Book Antiqua&quot;\\\"><b>Auf Wunsch\\n      bieten wir Ihnen die M�glichkeit bei Tischreservierungen. </b></span> <b><span style=\\\"font-family:&quot;Book Antiqua&quot;\\\">Ihre\\n      individuellen W�nsche zu ber�cksichtigen und fertigen Men�karten,</span></b>\\n      <b><span style=\\\"font-family:&quot;Book Antiqua&quot;\\\">Platzkarten und\\n      ausgefallene Tischdekoration f�r Sie an. Siehe Festtafelordner </span></b><!--mstheme--></font></h4>\\n      <p>&nbsp;</p>\\n      <!--mstheme--></font><!--msthemelist--><table border=\\\"0\\\" cellpadding=\\\"0\\\" cellspacing=\\\"0\\\" width=\\\"100%\\\">\\n        <!--msthemelist--><tr><td valign=\\\"baseline\\\" width=\\\"42\\\"><img src=\\\"_themes/ponyhof/acdbull1.gif\\\" width=\\\"15\\\" height=\\\"15\\\" hspace=\\\"13\\\"></td><td valign=\\\"top\\\" width=\\\"100%\\\"><!--mstheme--><font face=\\\"verdana, arial, helvetica\\\">\\n          <h3><!--mstheme--><font color=\\\"#0033CC\\\"><span style=\\\"font-family:&quot;Book Antiqua&quot;\\\">Ein tolles\\n          Vergn�gen</span><!--mstheme--></font></h3>\\n        <!--mstheme--></font><!--msthemelist--></td></tr>\\n      <!--msthemelist--></table><!--mstheme--><font face=\\\"verdana, arial, helvetica\\\">\\n      <h4><!--mstheme--><font color=\\\"#0033CC\\\"><span style=\\\"font-family:&quot;Book Antiqua&quot;\\\"><b>Bereiten unsere\\n      Planwagen- und Kutschfahrten in das herrliche &#132;Homburger L�ndchen&#147;.\\n      Oder g�nnen Sie Ihren Kindern doch mal einen Ausritt auf einem Pony!</b></span>\\n      <span style=\\\"font-family:&quot;Book Antiqua&quot;\\\"><b>Es besteht auch die\\n      M�glichkeit Pensionspferde unterzustellen.</b></span><!--mstheme--></font></h4>\\n      <p class=\\\"MsoNormal\\\"><b><span style=\\\"font-family:&quot;Book Antiqua&quot;\\\">&nbsp;</span></b></p>\\n      <!--msthemeseparator--><p align=\\\"center\\\"><img src=\\\"_themes/ponyhof/acdrule.gif\\\" width=\\\"600\\\" height=\\\"10\\\"></p>\\n      <h2 align=\\\"center\\\" style=\\\"text-align:center\\\"><!--mstheme--><font color=\\\"#0033CC\\\"><span style=\\\"font-size:20.0pt;mso-bidi-font-size:12.0pt;font-family:&quot;Book Antiqua&quot;\\\">Vorspeisen\\n      </span><!--mstheme--></font></h2>\\n      <!--mstheme--></font><!--msthemelist--><table border=\\\"0\\\" cellpadding=\\\"0\\\" cellspacing=\\\"0\\\" width=\\\"100%\\\">\\n        <!--msthemelist--><tr><td valign=\\\"baseline\\\" width=\\\"42\\\"><img src=\\\"_themes/ponyhof/acdbull1.gif\\\" width=\\\"15\\\" height=\\\"15\\\" hspace=\\\"13\\\"></td><td valign=\\\"top\\\" width=\\\"100%\\\"><!--mstheme--><font face=\\\"verdana, arial, helvetica\\\">\\n          <h3><!--mstheme--><font color=\\\"#0033CC\\\">Champignons in Knoblauchsauce<span style=\\\"mso-spacerun: yes\\\">&nbsp;&nbsp;&nbsp;</span><!--mstheme--></font></h3>\\n        <!--mstheme--></font><!--msthemelist--></td></tr>\\n      <!--msthemelist--></table><!--mstheme--><font face=\\\"verdana, arial, helvetica\\\">\\n      <h4 style=\\\"margin-left:18.0pt\\\"><!--mstheme--><font color=\\\"#0033CC\\\"><span style=\\\"font-family:&quot;Book Antiqua&quot;\\\">&nbsp;&nbsp;&nbsp;\\n      Mit K�se �berbacken</span><!--mstheme--></font></h4>\\n      <h4 style=\\\"margin-left:18.0pt\\\"><!--mstheme--><font color=\\\"#0033CC\\\"><span style=\\\"font-family:&quot;Book Antiqua&quot;\\\">&nbsp;&nbsp;\\n      Toast und Butter&nbsp;&nbsp; 15,50 DM /</span><span style=\\\"font-size:10.0pt;mso-bidi-font-size:12.0pt;font-family:\\n&quot;Book Antiqua&quot;\\\">8.00&#128;</span><!--mstheme--></font></h4>\\n      <p class=\\\"MsoNormal\\\" style=\\\"margin-left:354.0pt\\\"><span style=\\\"font-family:&quot;Book Antiqua&quot;\\\">&nbsp;</span></p>\\n      <p class=\\\"MsoNormal\\\" style=\\\"margin-left:354.0pt\\\"><span style=\\\"font-family:&quot;Book Antiqua&quot;\\\">&nbsp;</span></p>\\n      <!--mstheme--></font><!--msthemelist--><table border=\\\"0\\\" cellpadding=\\\"0\\\" cellspacing=\\\"0\\\" width=\\\"100%\\\">\\n        <!--msthemelist--><tr><td valign=\\\"baseline\\\" width=\\\"42\\\"><img src=\\\"_themes/ponyhof/acdbull1.gif\\\" width=\\\"15\\\" height=\\\"15\\\" hspace=\\\"13\\\"></td><td valign=\\\"top\\\" width=\\\"100%\\\"><!--mstheme--><font face=\\\"verdana, arial, helvetica\\\">\\n          <h3 style=\\\"margin-left:18.0pt;tab-stops:list 36.0pt\\\"><!--mstheme--><font color=\\\"#0033CC\\\">Kleiner\\n          Salatteller mit Kr�uterdressing<!--mstheme--></font></h3>\\n        <!--mstheme--></font><!--msthemelist--></td></tr>\\n      <!--msthemelist--></table><!--mstheme--><font face=\\\"verdana, arial, helvetica\\\">\\n      <h4 style=\\\"margin-left:18.0pt\\\"><!--mstheme--><font color=\\\"#0033CC\\\"><span style=\\\"font-family:&quot;Book Antiqua&quot;\\\">&nbsp;&nbsp;&nbsp;&nbsp;&nbsp;&nbsp;&nbsp;&nbsp;&nbsp;&nbsp;\\n      H�hnchenbrust streifen<span style=\\\"mso-spacerun: yes\\\">&nbsp;</span><span style=\\\"mso-spacerun: yes\\\">\\n      </span>8,00 DM / </span><span style=\\\"font-size:10.0pt;\\nmso-bidi-font-size:12.0pt;font-family:&quot;Book Antiqua&quot;\\\">4,10&#128;</span><!--mstheme--></font></h4>\\n      <!--msthemeseparator--><p align=\\\"center\\\"><img src=\\\"_themes/ponyhof/acdrule.gif\\\" width=\\\"600\\\" height=\\\"10\\\"></p>\\n      <h3 align=\\\"center\\\"><!--mstheme--><font color=\\\"#0033CC\\\"><span style=\\\"font-family: Book Antiqua\\\">&nbsp;&nbsp; </span><span style=\\\"font-size:20.0pt;mso-bidi-font-size:14.0pt;font-family:&quot;Book Antiqua&quot;\\\">Suppen</span><!--mstheme--></font></h3>\\n      <p class=\\\"MsoNormal\\\" align=\\\"center\\\" style=\\\"text-align:center\\\"><span style=\\\"font-size:20.0pt;mso-bidi-font-size:12.0pt;font-family:&quot;Book Antiqua&quot;\\\">&nbsp;</span></p>\\n      <!--mstheme--></font><!--msthemelist--><table border=\\\"0\\\" cellpadding=\\\"0\\\" cellspacing=\\\"0\\\" width=\\\"100%\\\">\\n        <!--msthemelist--><tr><td valign=\\\"baseline\\\" width=\\\"42\\\"><img src=\\\"_themes/ponyhof/acdbull1.gif\\\" width=\\\"15\\\" height=\\\"15\\\" hspace=\\\"13\\\"></td><td valign=\\\"top\\\" width=\\\"100%\\\"><!--mstheme--><font face=\\\"verdana, arial, helvetica\\\">\\n          <h3 style=\\\"margin-left:18.0pt;tab-stops:list 36.0pt\\\"><!--mstheme--><font color=\\\"#0033CC\\\">H�hnersuppe mit\\n          Einlage&nbsp; <span style=\\\"font-family:&quot;Book Antiqua&quot;\\\">6,00\\n          DM / </span><span style=\\\"font-size:10.0pt;\\nmso-bidi-font-size:12.0pt;font-family:&quot;Book Antiqua&quot;\\\">3,10&#128;</span><!--mstheme--></font></h3>\\n        <!--mstheme--></font><!--msthemelist--></td></tr>\\n        <!--msthemelist--><tr><td valign=\\\"baseline\\\" width=\\\"42\\\"><img src=\\\"_themes/ponyhof/acdbull1.gif\\\" width=\\\"15\\\" height=\\\"15\\\" hspace=\\\"13\\\"></td><td valign=\\\"top\\\" width=\\\"100%\\\"><!--mstheme--><font face=\\\"verdana, arial, helvetica\\\">\\n          <h3 style=\\\"margin-left:18.0pt;tab-stops:list 36.0pt\\\"><!--mstheme--><font color=\\\"#0033CC\\\">Dill-\\n          Krabben-Suppe<span style=\\\"mso-spacerun:\\nyes\\\">&nbsp; </span><span style=\\\"font-family:&quot;Book Antiqua&quot;\\\">8,50DM/</span><span style=\\\"font-size:10.0pt;\\nmso-bidi-font-size:12.0pt;font-family:&quot;Book Antiqua&quot;\\\">4,40&#128;</span><!--mstheme--></font></h3>\\n        <!--mstheme--></font><!--msthemelist--></td></tr>\\n      <!--msthemelist--></table><!--mstheme--><font face=\\\"verdana, arial, helvetica\\\">\\n      <!--mstheme--></font><!--msthemelist--><table border=\\\"0\\\" cellpadding=\\\"0\\\" cellspacing=\\\"0\\\" width=\\\"100%\\\">\\n        <!--msthemelist--><tr><td valign=\\\"baseline\\\" width=\\\"42\\\"><img src=\\\"_themes/ponyhof/acdbull1.gif\\\" width=\\\"15\\\" height=\\\"15\\\" hspace=\\\"13\\\"></td><td valign=\\\"top\\\" width=\\\"100%\\\"><!--mstheme--><font face=\\\"verdana, arial, helvetica\\\">\\n          <h3 style=\\\"margin-left:18.0pt;tab-stops:list 36.0pt\\\"><!--mstheme--><font color=\\\"#0033CC\\\">Kartoffel- Lauch-\\n          Suppe<span style=\\\"font-family:&quot;Book Antiqua&quot;\\\"><span style=\\\"mso-spacerun: yes\\\">&nbsp;\\n          </span>6,00 DM / </span><span style=\\\"font-size:10.0pt;\\nmso-bidi-font-size:12.0pt;font-family:&quot;Book Antiqua&quot;\\\">3,10&#128;</span><!--mstheme--></font></h3>\\n        <!--mstheme--></font><!--msthemelist--></td></tr>\\n        <!--msthemelist--><tr><td valign=\\\"baseline\\\" width=\\\"42\\\"><img src=\\\"_themes/ponyhof/acdbull1.gif\\\" width=\\\"15\\\" height=\\\"15\\\" hspace=\\\"13\\\"></td><td valign=\\\"top\\\" width=\\\"100%\\\"><!--mstheme--><font face=\\\"verdana, arial, helvetica\\\">\\n          <h3 style=\\\"margin-left:18.0pt;tab-stops:list 36.0pt\\\"><!--mstheme--><font color=\\\"#0033CC\\\">Franz�sische\\n          Zwiebelsuppe mit<!--mstheme--></font></h3>\\n        <!--mstheme--></font><!--msthemelist--></td></tr>\\n      <!--msthemelist--></table><!--mstheme--><font face=\\\"verdana, arial, helvetica\\\">\\n      <h4 style=\\\"margin-left:18.0pt\\\"><!--mstheme--><font color=\\\"#0033CC\\\"><span style=\\\"font-family:&quot;Book Antiqua&quot;\\\">&nbsp;&nbsp;&nbsp;&nbsp;&nbsp;&nbsp;&nbsp;&nbsp;&nbsp;\\n      K�se �berbacken&nbsp;&nbsp; 7,50 DM / </span><span style=\\\"font-size:10.0pt;\\nmso-bidi-font-size:12.0pt;font-family:&quot;Book Antiqua&quot;\\\">3,90&#128;</span><!--mstheme--></font></h4>\\n      <!--mstheme--></font><!--msthemelist--><table border=\\\"0\\\" cellpadding=\\\"0\\\" cellspacing=\\\"0\\\" width=\\\"100%\\\">\\n        <!--msthemelist--><tr><td valign=\\\"baseline\\\" width=\\\"42\\\"><img src=\\\"_themes/ponyhof/acdbull1.gif\\\" width=\\\"15\\\" height=\\\"15\\\" hspace=\\\"13\\\"></td><td valign=\\\"top\\\" width=\\\"100%\\\"><!--mstheme--><font face=\\\"verdana, arial, helvetica\\\">\\n          <h3 style=\\\"margin-left:18.0pt;tab-stops:list 36.0pt\\\"><!--mstheme--><font color=\\\"#0033CC\\\">Tomatencreme\\n          Suppe&nbsp; <span style=\\\"font-family:&quot;Book Antiqua&quot;\\\">6,50 DM\\n          / </span><span style=\\\"font-size:10.0pt;\\nmso-bidi-font-size:12.0pt;font-family:&quot;Book Antiqua&quot;\\\">3,40&#128;</span><!--mstheme--></font></h3>\\n        <!--mstheme--></font><!--msthemelist--></td></tr>\\n      <!--msthemelist--></table><!--mstheme--><font face=\\\"verdana, arial, helvetica\\\">\\n      <p class=\\\"MsoNormal\\\"><span style=\\\"font-family:&quot;Book Antiqua&quot;\\\">&nbsp;</span></p>\\n      <!--msthemeseparator--><p align=\\\"center\\\"><img src=\\\"_themes/ponyhof/acdrule.gif\\\" width=\\\"600\\\" height=\\\"10\\\"></p>\\n      <h2 align=\\\"center\\\"><!--mstheme--><font color=\\\"#0033CC\\\"><span style=\\\"font-size:20.0pt;mso-bidi-font-size:14.0pt;font-family:&quot;Book Antiqua&quot;\\\">Fleischgerichte</span><!--mstheme--></font></h2>\\n      <p class=\\\"MsoNormal\\\"><span style=\\\"font-family:&quot;Book Antiqua&quot;\\\">&nbsp;</span></p>\\n      <!--mstheme--></font><!--msthemelist--><table border=\\\"0\\\" cellpadding=\\\"0\\\" cellspacing=\\\"0\\\" width=\\\"100%\\\">\\n        <!--msthemelist--><tr><td valign=\\\"baseline\\\" width=\\\"42\\\"><img src=\\\"_themes/ponyhof/acdbull1.gif\\\" width=\\\"15\\\" height=\\\"15\\\" hspace=\\\"13\\\"></td><td valign=\\\"top\\\" width=\\\"100%\\\"><!--mstheme--><font face=\\\"verdana, arial, helvetica\\\">\\n          <h3 style=\\\"margin-left:18.0pt;tab-stops:list 36.0pt\\\"><!--mstheme--><font color=\\\"#0033CC\\\"><span style=\\\"font-size: 14.0pt; mso-bidi-font-size: 12.0pt; font-family: Book Antiqua\\\">�berbackene\\n          Schweinemedallions</span><!--mstheme--></font></h3>\\n        <!--mstheme--></font><!--msthemelist--></td></tr>\\n      <!--msthemelist--></table><!--mstheme--><font face=\\\"verdana, arial, helvetica\\\">\\n      <h4 style=\\\"margin-left:18.0pt\\\"><!--mstheme--><font color=\\\"#0033CC\\\"><span style=\\\"font-family: Book Antiqua\\\">Schweinelendchen\\n      mit Tomaten, Mozzarella</span><!--mstheme--></font></h4>\\n      <h4 style=\\\"margin-left:18.0pt\\\"><!--mstheme--><font color=\\\"#0033CC\\\"><span style=\\\"font-family: Book Antiqua\\\">und\\n      Basilikum �berbacken</span><!--mstheme--></font></h4>\\n      <h4 style=\\\"margin-left:18.0pt\\\"><!--mstheme--><font color=\\\"#0033CC\\\"><span style=\\\"font-family: Book Antiqua\\\">Reis,\\n      Salatteller&nbsp;&nbsp; </span><span style=\\\"font-family:&quot;Book Antiqua&quot;\\\">28,00\\n      DM / </span><span style=\\\"font-size:10.0pt;mso-bidi-font-size:12.0pt;font-family:\\n&quot;Book Antiqua&quot;\\\">14,40&#128;</span><!--mstheme--></font></h4>\\n      <p class=\\\"MsoNormal\\\" style=\\\"margin-left:354.0pt\\\">&nbsp;</p>\\n      <!--mstheme--></font><!--msthemelist--><table border=\\\"0\\\" cellpadding=\\\"0\\\" cellspacing=\\\"0\\\" width=\\\"100%\\\">\\n        <!--msthemelist--><tr><td valign=\\\"baseline\\\" width=\\\"42\\\"><img src=\\\"_themes/ponyhof/acdbull1.gif\\\" width=\\\"15\\\" height=\\\"15\\\" hspace=\\\"13\\\"></td><td valign=\\\"top\\\" width=\\\"100%\\\"><!--mstheme--><font face=\\\"verdana, arial, helvetica\\\">\\n          <h3 style=\\\"margin-left:18.0pt;tab-stops:list 36.0pt\\\"><!--mstheme--><font color=\\\"#0033CC\\\"><span style=\\\"font-size:14.0pt;\\nmso-bidi-font-size:12.0pt;font-family:&quot;Book Antiqua&quot;\\\">Rahmschnitzel\\n          mit Champignons</span><!--mstheme--></font></h3>\\n        <!--mstheme--></font><!--msthemelist--></td></tr>\\n      <!--msthemelist--></table><!--mstheme--><font face=\\\"verdana, arial, helvetica\\\">\\n      <h4 style=\\\"margin-left:18.0pt\\\"><!--mstheme--><font color=\\\"#0033CC\\\"><span style=\\\"font-family:&quot;Book Antiqua&quot;\\\">Pommes\\n      frites, Salatteller&nbsp; 22,00 DM / </span><span style=\\\"font-size:10.0pt;mso-bidi-font-size:12.0pt;font-family:\\n&quot;Book Antiqua&quot;\\\">11,30&#128;</span><!--mstheme--></font></h4>\\n      <p class=\\\"MsoNormal\\\" style=\\\"margin-left:354.0pt\\\">&nbsp;</p>\\n      <!--mstheme--></font><!--msthemelist--><table border=\\\"0\\\" cellpadding=\\\"0\\\" cellspacing=\\\"0\\\" width=\\\"100%\\\">\\n        <!--msthemelist--><tr><td valign=\\\"baseline\\\" width=\\\"42\\\"><img src=\\\"_themes/ponyhof/acdbull1.gif\\\" width=\\\"15\\\" height=\\\"15\\\" hspace=\\\"13\\\"></td><td valign=\\\"top\\\" width=\\\"100%\\\"><!--mstheme--><font face=\\\"verdana, arial, helvetica\\\">\\n          <h3 style=\\\"margin-left:18.0pt;tab-stops:list 36.0pt\\\"><!--mstheme--><font color=\\\"#0033CC\\\"><span style=\\\"font-size:14.0pt;\\nmso-bidi-font-size:12.0pt;font-family:&quot;Book Antiqua&quot;\\\">Paniertes H�hnchenbrustfilet</span><!--mstheme--></font></h3>\\n        <!--mstheme--></font><!--msthemelist--></td></tr>\\n      <!--msthemelist--></table><!--mstheme--><font face=\\\"verdana, arial, helvetica\\\">\\n      <h4 style=\\\"margin-left:18.0pt\\\"><!--mstheme--><font color=\\\"#0033CC\\\"><span style=\\\"font-family:&quot;Book Antiqua&quot;\\\">In\\n      Currysauce mit Fr�chten</span><!--mstheme--></font></h4>\\n      <h4 style=\\\"margin-left:18.0pt\\\"><!--mstheme--><font color=\\\"#0033CC\\\"><span style=\\\"font-family:&quot;Book Antiqua&quot;\\\">Reis,\\n      Salatteller&nbsp; 20,00 DM / </span><span style=\\\"font-size:10.0pt;mso-bidi-font-size:12.0pt;font-family:\\n&quot;Book Antiqua&quot;\\\">10,30&#128;</span><!--mstheme--></font></h4>\\n      <p class=\\\"MsoNormal\\\" style=\\\"margin-left:354.0pt\\\">&nbsp;</p>\\n      <!--mstheme--></font><!--msthemelist--><table border=\\\"0\\\" cellpadding=\\\"0\\\" cellspacing=\\\"0\\\" width=\\\"100%\\\">\\n        <!--msthemelist--><tr><td valign=\\\"baseline\\\" width=\\\"42\\\"><img src=\\\"_themes/ponyhof/acdbull1.gif\\\" width=\\\"15\\\" height=\\\"15\\\" hspace=\\\"13\\\"></td><td valign=\\\"top\\\" width=\\\"100%\\\"><!--mstheme--><font face=\\\"verdana, arial, helvetica\\\">\\n          <h3 style=\\\"margin-left:18.0pt;tab-stops:list 36.0pt\\\"><!--mstheme--><font color=\\\"#0033CC\\\"><span style=\\\"font-size:14.0pt;\\nmso-bidi-font-size:12.0pt;font-family:&quot;Book Antiqua&quot;\\\">Filetsteak in gr�ner\\n          Pfeffersauce</span><!--mstheme--></font></h3>\\n        <!--mstheme--></font><!--msthemelist--></td></tr>\\n      <!--msthemelist--></table><!--mstheme--><font face=\\\"verdana, arial, helvetica\\\">\\n      <h4 style=\\\"margin-left:18.0pt\\\"><!--mstheme--><font color=\\\"#0033CC\\\"><span style=\\\"font-family:&quot;Book Antiqua&quot;\\\">R�stkartoffeln,\\n      Prinzessb�hnchen</span><!--mstheme--></font></h4>\\n      <h4 style=\\\"margin-left:18.0pt\\\"><!--mstheme--><font color=\\\"#0033CC\\\"><span style=\\\"font-family:&quot;Book Antiqua&quot;\\\">Im\\n      Speckmantel&nbsp; 30,00 DM / </span><span style=\\\"font-size:10.0pt;mso-bidi-font-size:12.0pt;font-family:\\n&quot;Book Antiqua&quot;\\\">15,40&#128;</span><!--mstheme--></font></h4>\\n      <p class=\\\"MsoNormal\\\" style=\\\"margin-left:354.0pt\\\">&nbsp;</p>\\n      <!--mstheme--></font><!--msthemelist--><table border=\\\"0\\\" cellpadding=\\\"0\\\" cellspacing=\\\"0\\\" width=\\\"100%\\\">\\n        <!--msthemelist--><tr><td valign=\\\"baseline\\\" width=\\\"42\\\"><img src=\\\"_themes/ponyhof/acdbull1.gif\\\" width=\\\"15\\\" height=\\\"15\\\" hspace=\\\"13\\\"></td><td valign=\\\"top\\\" width=\\\"100%\\\"><!--mstheme--><font face=\\\"verdana, arial, helvetica\\\">\\n          <h3 style=\\\"margin-left:18.0pt;tab-stops:list 36.0pt\\\"><!--mstheme--><font color=\\\"#0033CC\\\"><span style=\\\"font-size:14.0pt;\\nmso-bidi-font-size:12.0pt;font-family:&quot;Book Antiqua&quot;\\\">Bauernsteak</span><!--mstheme--></font></h3>\\n        <!--mstheme--></font><!--msthemelist--></td></tr>\\n      <!--msthemelist--></table><!--mstheme--><font face=\\\"verdana, arial, helvetica\\\">\\n      <h4 style=\\\"margin-left:18.0pt\\\"><!--mstheme--><font color=\\\"#0033CC\\\"><span style=\\\"font-family:&quot;Book Antiqua&quot;\\\">Rumpsteak\\n      mit Speck, Zwiebeln und K�se</span><!--mstheme--></font></h4>\\n      <h4 style=\\\"margin-left:18.0pt\\\"><!--mstheme--><font color=\\\"#0033CC\\\"><span style=\\\"font-family:&quot;Book Antiqua&quot;\\\">�berbacken,\\n      Pommes frites<span style=\\\"mso-spacerun: yes\\\">&nbsp; </span>Salatteller&nbsp;\\n      </span><span style=\\\"font-size:\\n10.0pt;mso-bidi-font-size:12.0pt;font-family:&quot;Book Antiqua&quot;\\\">13,60&#128;</span><!--mstheme--></font></h4>\\n      <p class=\\\"MsoNormal\\\" style=\\\"margin-left:354.0pt\\\">&nbsp;</p>\\n      <!--mstheme--></font><!--msthemelist--><table border=\\\"0\\\" cellpadding=\\\"0\\\" cellspacing=\\\"0\\\" width=\\\"100%\\\">\\n        <!--msthemelist--><tr><td valign=\\\"baseline\\\" width=\\\"42\\\"><img src=\\\"_themes/ponyhof/acdbull1.gif\\\" width=\\\"15\\\" height=\\\"15\\\" hspace=\\\"13\\\"></td><td valign=\\\"top\\\" width=\\\"100%\\\"><!--mstheme--><font face=\\\"verdana, arial, helvetica\\\">\\n          <h3 style=\\\"margin-left:18.0pt;tab-stops:list 36.0pt\\\"><!--mstheme--><font color=\\\"#0033CC\\\"><span style=\\\"mso-tab-count: 1; font-size: 10.0pt; font-family: Book Antiqua; color: windowtext\\\">&nbsp;</span><span style=\\\"font-size:14.0pt;\\nmso-bidi-font-size:12.0pt;font-family:&quot;Book Antiqua&quot;\\\">Pustaspie�</span><!--mstheme--></font></h3>\\n        <!--mstheme--></font><!--msthemelist--></td></tr>\\n      <!--msthemelist--></table><!--mstheme--><font face=\\\"verdana, arial, helvetica\\\">\\n      <h4 style=\\\"margin-left:18.0pt\\\"><!--mstheme--><font color=\\\"#0033CC\\\"><span style=\\\"font-family:&quot;Book Antiqua&quot;\\\">Verschiedene\\n      Steaks am Spie� gegrillt</span><!--mstheme--></font></h4>\\n      <h4 style=\\\"margin-left:18.0pt\\\"><!--mstheme--><font color=\\\"#0033CC\\\"><span style=\\\"font-family:&quot;Book Antiqua&quot;\\\">Mit\\n      pikanter Sauce</span><!--mstheme--></font></h4>\\n      <h4 style=\\\"margin-left:18.0pt\\\"><!--mstheme--><font color=\\\"#0033CC\\\"><span style=\\\"font-family:&quot;Book Antiqua&quot;\\\">Pommes\\n      frites , Salatteller&nbsp; 23,50 DM / </span><span style=\\\"font-size:10.0pt;mso-bidi-font-size:12.0pt;font-family:\\n&quot;Book Antiqua&quot;\\\">12,10&#128;</span><!--mstheme--></font></h4>\\n      <p class=\\\"MsoNormal\\\" style=\\\"margin-left:354.0pt\\\">&nbsp;</p>\\n      <!--mstheme--></font><!--msthemelist--><table border=\\\"0\\\" cellpadding=\\\"0\\\" cellspacing=\\\"0\\\" width=\\\"100%\\\">\\n        <!--msthemelist--><tr><td valign=\\\"baseline\\\" width=\\\"42\\\"><img src=\\\"_themes/ponyhof/acdbull1.gif\\\" width=\\\"15\\\" height=\\\"15\\\" hspace=\\\"13\\\"></td><td valign=\\\"top\\\" width=\\\"100%\\\"><!--mstheme--><font face=\\\"verdana, arial, helvetica\\\">\\n          <h3 style=\\\"margin-left:18.0pt;tab-stops:list 36.0pt\\\"><!--mstheme--><font color=\\\"#0033CC\\\"><span style=\\\"font-size:14.0pt;\\nmso-bidi-font-size:12.0pt;font-family:&quot;Book Antiqua&quot;\\\">Reiterhappen</span><!--mstheme--></font></h3>\\n        <!--mstheme--></font><!--msthemelist--></td></tr>\\n      <!--msthemelist--></table><!--mstheme--><font face=\\\"verdana, arial, helvetica\\\">\\n      <h4 style=\\\"margin-left:18.0pt\\\"><!--mstheme--><font color=\\\"#0033CC\\\"><span style=\\\"font-family:&quot;Book Antiqua&quot;\\\">Schweinesteak\\n      mit Champignons auf Toast&nbsp; 15,00 DM /<span style=\\\"mso-spacerun: yes\\\">&nbsp;\\n      </span></span><span style=\\\"font-size:\\n10.0pt;mso-bidi-font-size:12.0pt;font-family:&quot;Book Antiqua&quot;\\\">7,70&#128;</span><!--mstheme--></font></h4>\\n      <!--msthemeseparator--><p align=\\\"center\\\"><img src=\\\"_themes/ponyhof/acdrule.gif\\\" width=\\\"600\\\" height=\\\"10\\\"></p>\\n      <p style=\\\"margin-left:18.0pt\\\">&nbsp;</p>\\n      <h2><!--mstheme--><font color=\\\"#0033CC\\\"><span style=\\\"font-size:20.0pt;mso-bidi-font-size:14.0pt;font-family:&quot;Book Antiqua&quot;\\\">Eierspeisen</span><!--mstheme--></font></h2>\\n      <p>&nbsp;</p>\\n      <!--mstheme--></font><!--msthemelist--><table border=\\\"0\\\" cellpadding=\\\"0\\\" cellspacing=\\\"0\\\" width=\\\"100%\\\">\\n        <!--msthemelist--><tr><td valign=\\\"baseline\\\" width=\\\"42\\\"><img src=\\\"_themes/ponyhof/acdbull1.gif\\\" width=\\\"15\\\" height=\\\"15\\\" hspace=\\\"13\\\"></td><td valign=\\\"top\\\" width=\\\"100%\\\"><!--mstheme--><font face=\\\"verdana, arial, helvetica\\\">\\n          <h3 style=\\\"margin-left:18.0pt;tab-stops:list 36.0pt\\\"><!--mstheme--><font color=\\\"#0033CC\\\"><span style=\\\"mso-tab-count: 1; font-size: 10.0pt; font-family: Book Antiqua; color: windowtext\\\">&nbsp;</span><span style=\\\"font-size:14.0pt;\\nmso-bidi-font-size:12.0pt;font-family:&quot;Book Antiqua&quot;\\\">Omelett mit\\n          frischen Champignons</span><!--mstheme--></font></h3>\\n        <!--mstheme--></font><!--msthemelist--></td></tr>\\n      <!--msthemelist--></table><!--mstheme--><font face=\\\"verdana, arial, helvetica\\\">\\n      <h4 style=\\\"margin-left:18.0pt\\\"><!--mstheme--><font color=\\\"#0033CC\\\"><span style=\\\"font-family:&quot;Book Antiqua&quot;\\\">Pommes\\n      frites&nbsp; 16,00 DM / </span><span style=\\\"font-size:\\n10.0pt;mso-bidi-font-size:12.0pt;font-family:&quot;Book Antiqua&quot;\\\">8,20&#128;</span><!--mstheme--></font></h4>\\n      <p class=\\\"MsoNormal\\\" style=\\\"margin-left:354.0pt\\\">&nbsp;</p>\\n      <!--mstheme--></font><!--msthemelist--><table border=\\\"0\\\" cellpadding=\\\"0\\\" cellspacing=\\\"0\\\" width=\\\"100%\\\">\\n        <!--msthemelist--><tr><td valign=\\\"baseline\\\" width=\\\"42\\\"><img src=\\\"_themes/ponyhof/acdbull1.gif\\\" width=\\\"15\\\" height=\\\"15\\\" hspace=\\\"13\\\"></td><td valign=\\\"top\\\" width=\\\"100%\\\"><!--mstheme--><font face=\\\"verdana, arial, helvetica\\\">\\n          <h3><!--mstheme--><font color=\\\"#0033CC\\\"><span style=\\\"font-size:14.0pt;mso-bidi-font-size:12.0pt;\\nfont-family:&quot;Book Antiqua&quot;\\\">&nbsp;</span><span style=\\\"font-size:14.0pt;\\nmso-bidi-font-size:12.0pt;font-family:&quot;Book Antiqua&quot;\\\">Speckpfannekuchen\\n          mit Zwiebeln</span><!--mstheme--></font></h3>\\n        <!--mstheme--></font><!--msthemelist--></td></tr>\\n      <!--msthemelist--></table><!--mstheme--><font face=\\\"verdana, arial, helvetica\\\">\\n      <h4 style=\\\"margin-left:18.0pt\\\"><!--mstheme--><font color=\\\"#0033CC\\\"><span style=\\\"font-family:&quot;Book Antiqua&quot;\\\">Salatteller&nbsp;\\n      15,00 DM /</span><span style=\\\"font-size:10.0pt;mso-bidi-font-size:12.0pt;font-family:\\n&quot;Book Antiqua&quot;\\\"> 7,70&#128;</span><!--mstheme--></font></h4>\\n      <!--msthemeseparator--><p align=\\\"center\\\"><img src=\\\"_themes/ponyhof/acdrule.gif\\\" width=\\\"600\\\" height=\\\"10\\\"></p>\\n      <p style=\\\"margin-left:18.0pt\\\">&nbsp;</p>\\n      <h2><!--mstheme--><font color=\\\"#0033CC\\\"><span style=\\\"font-size:20.0pt;mso-bidi-font-size:14.0pt;font-family:&quot;Book Antiqua&quot;\\\">Fischgerichte</span><!--mstheme--></font></h2>\\n      <!--mstheme--></font><!--msthemelist--><table border=\\\"0\\\" cellpadding=\\\"0\\\" cellspacing=\\\"0\\\" width=\\\"100%\\\">\\n        <!--msthemelist--><tr><td valign=\\\"baseline\\\" width=\\\"42\\\"><img src=\\\"_themes/ponyhof/acdbull1.gif\\\" width=\\\"15\\\" height=\\\"15\\\" hspace=\\\"13\\\"></td><td valign=\\\"top\\\" width=\\\"100%\\\"><!--mstheme--><font face=\\\"verdana, arial, helvetica\\\">\\n          <h3><!--mstheme--><font color=\\\"#0033CC\\\"><span style=\\\"font-size:14.0pt;\\nmso-bidi-font-size:12.0pt;font-family:&quot;Book Antiqua&quot;\\\">Hering\\n          Hausfrauenart</span><!--mstheme--></font></h3>\\n        <!--mstheme--></font><!--msthemelist--></td></tr>\\n      <!--msthemelist--></table><!--mstheme--><font face=\\\"verdana, arial, helvetica\\\">\\n      <h4 style=\\\"margin-left:18.0pt\\\"><!--mstheme--><font color=\\\"#0033CC\\\"><span style=\\\"font-family:&quot;Book Antiqua&quot;\\\">Butterkartoffeln,\\n      Salatteller&nbsp; 16,50 DM / </span><span style=\\\"font-size:10.0pt;mso-bidi-font-size:12.0pt;font-family:\\n&quot;Book Antiqua&quot;\\\">8,50&#128;</span><!--mstheme--></font></h4>\\n      <p class=\\\"MsoNormal\\\" style=\\\"margin-left:354.0pt\\\">&nbsp;</p>\\n      <!--mstheme--></font><!--msthemelist--><table border=\\\"0\\\" cellpadding=\\\"0\\\" cellspacing=\\\"0\\\" width=\\\"100%\\\">\\n        <!--msthemelist--><tr><td valign=\\\"baseline\\\" width=\\\"42\\\"><img src=\\\"_themes/ponyhof/acdbull1.gif\\\" width=\\\"15\\\" height=\\\"15\\\" hspace=\\\"13\\\"></td><td valign=\\\"top\\\" width=\\\"100%\\\"><!--mstheme--><font face=\\\"verdana, arial, helvetica\\\">\\n          <h3><!--mstheme--><font color=\\\"#0033CC\\\"><span style=\\\"font-family:&quot;Book Antiqua&quot;\\\">&nbsp;</span><span style=\\\"font-size:14.0pt;\\nmso-bidi-font-size:12.0pt;font-family:&quot;Book Antiqua&quot;\\\">Forelle blau</span><!--mstheme--></font></h3>\\n        <!--mstheme--></font><!--msthemelist--></td></tr>\\n      <!--msthemelist--></table><!--mstheme--><font face=\\\"verdana, arial, helvetica\\\">\\n      <h4 style=\\\"margin-left:18.0pt\\\"><!--mstheme--><font color=\\\"#0033CC\\\"><span style=\\\"font-family:&quot;Book Antiqua&quot;\\\">Zerlassene\\n      Butter, Salzkartoffeln</span><!--mstheme--></font></h4>\\n      <h4 style=\\\"margin-left:18.0pt\\\"><!--mstheme--><font color=\\\"#0033CC\\\"><span style=\\\"font-family:&quot;Book Antiqua&quot;\\\">Gr�ner\\n      Salat&nbsp; </span><span style=\\\"font-size:10.0pt;mso-bidi-font-size:12.0pt;font-family:\\n&quot;Book Antiqua&quot;\\\">11,30&#128;</span><!--mstheme--></font></h4>\\n      <p class=\\\"MsoNormal\\\" style=\\\"margin-left:354.0pt\\\">&nbsp;</p>\\n      <!--mstheme--></font><!--msthemelist--><table border=\\\"0\\\" cellpadding=\\\"0\\\" cellspacing=\\\"0\\\" width=\\\"100%\\\">\\n        <!--msthemelist--><tr><td valign=\\\"baseline\\\" width=\\\"42\\\"><img src=\\\"_themes/ponyhof/acdbull1.gif\\\" width=\\\"15\\\" height=\\\"15\\\" hspace=\\\"13\\\"></td><td valign=\\\"top\\\" width=\\\"100%\\\"><!--mstheme--><font face=\\\"verdana, arial, helvetica\\\">\\n          <h3><!--mstheme--><font color=\\\"#0033CC\\\"><span style=\\\"font-size:14.0pt;\\nmso-bidi-font-size:12.0pt;font-family:&quot;Book Antiqua&quot;\\\">Lachs in\\n          Sahnesauce</span><!--mstheme--></font></h3>\\n        <!--mstheme--></font><!--msthemelist--></td></tr>\\n      <!--msthemelist--></table><!--mstheme--><font face=\\\"verdana, arial, helvetica\\\">\\n      <h4 style=\\\"margin-left:18.0pt\\\"><!--mstheme--><font color=\\\"#0033CC\\\"><span style=\\\"font-family:&quot;Book Antiqua&quot;\\\">Mit\\n      Bandnudeln</span><!--mstheme--></font></h4>\\n      <h4 style=\\\"margin-left:18.0pt\\\"><!--mstheme--><font color=\\\"#0033CC\\\"><span style=\\\"font-family:&quot;Book Antiqua&quot;\\\">Salatteller&nbsp;\\n      24,00 DM / </span><span style=\\\"font-size:10.0pt;mso-bidi-font-size:12.0pt;font-family:\\n&quot;Book Antiqua&quot;\\\">12,30&#128;</span><!--mstheme--></font></h4>\\n      <p class=\\\"MsoNormal\\\" style=\\\"margin-left:354.0pt\\\">&nbsp;</p>\\n      <!--mstheme--></font><!--msthemelist--><table border=\\\"0\\\" cellpadding=\\\"0\\\" cellspacing=\\\"0\\\" width=\\\"100%\\\">\\n        <!--msthemelist--><tr><td valign=\\\"baseline\\\" width=\\\"42\\\"><img src=\\\"_themes/ponyhof/acdbull1.gif\\\" width=\\\"15\\\" height=\\\"15\\\" hspace=\\\"13\\\"></td><td valign=\\\"top\\\" width=\\\"100%\\\"><!--mstheme--><font face=\\\"verdana, arial, helvetica\\\">\\n          <h3 style=\\\"margin-left:18.0pt;tab-stops:list 36.0pt\\\"><!--mstheme--><font color=\\\"#0033CC\\\"><span style=\\\"font-size:14.0pt;\\nmso-bidi-font-size:12.0pt;font-family:&quot;Book Antiqua&quot;\\\">Salm in\\n          Dillsauce</span><!--mstheme--></font></h3>\\n        <!--mstheme--></font><!--msthemelist--></td></tr>\\n      <!--msthemelist--></table><!--mstheme--><font face=\\\"verdana, arial, helvetica\\\">\\n      <h4 style=\\\"margin-left:18.0pt\\\"><!--mstheme--><font color=\\\"#0033CC\\\"><span style=\\\"font-family:&quot;Book Antiqua&quot;\\\">Butterkartoffeln,\\n      Salatteller&nbsp; 24,50 DM / </span><span style=\\\"font-size:10.0pt;mso-bidi-font-size:12.0pt;font-family:\\n&quot;Book Antiqua&quot;\\\">12,60&#128;</span><!--mstheme--></font></h4>\\n      <!--msthemeseparator--><p align=\\\"center\\\"><img src=\\\"_themes/ponyhof/acdrule.gif\\\" width=\\\"600\\\" height=\\\"10\\\"></p>\\n      <p style=\\\"margin-left:18.0pt\\\">&nbsp;</p>\\n      <h2><!--mstheme--><font color=\\\"#0033CC\\\"><span style=\\\"font-size:20.0pt;mso-bidi-font-size:10.0pt;font-family:&quot;Book Antiqua&quot;\\\">Wildgerichte</span><!--mstheme--></font></h2>\\n      <p class=\\\"MsoNormal\\\"><span style=\\\"font-family:&quot;Book Antiqua&quot;\\\">&nbsp;</span></p>\\n      <!--mstheme--></font><!--msthemelist--><table border=\\\"0\\\" cellpadding=\\\"0\\\" cellspacing=\\\"0\\\" width=\\\"100%\\\">\\n        <!--msthemelist--><tr><td valign=\\\"baseline\\\" width=\\\"42\\\"><img src=\\\"_themes/ponyhof/acdbull1.gif\\\" width=\\\"15\\\" height=\\\"15\\\" hspace=\\\"13\\\"></td><td valign=\\\"top\\\" width=\\\"100%\\\"><!--mstheme--><font face=\\\"verdana, arial, helvetica\\\">\\n          <h3><!--mstheme--><font color=\\\"#0033CC\\\"><span style=\\\"font-size:14.0pt;\\nmso-bidi-font-size:12.0pt;font-family:&quot;Book Antiqua&quot;\\\">Flugentenbrust</span><!--mstheme--></font></h3>\\n        <!--mstheme--></font><!--msthemelist--></td></tr>\\n      <!--msthemelist--></table><!--mstheme--><font face=\\\"verdana, arial, helvetica\\\">\\n      <h4 style=\\\"margin-left:18.0pt\\\"><!--mstheme--><font color=\\\"#0033CC\\\"><span style=\\\"font-family:&quot;Book Antiqua&quot;\\\">Rosa\\n      gebraten auf K�mmelsauce</span><!--mstheme--></font></h4>\\n      <h4 style=\\\"margin-left:18.0pt\\\"><!--mstheme--><font color=\\\"#0033CC\\\"><span style=\\\"font-family:&quot;Book Antiqua&quot;\\\">Herzogin\\n      Kartoffeln</span><!--mstheme--></font></h4>\\n      <h4 style=\\\"margin-left:18.0pt\\\"><!--mstheme--><font color=\\\"#0033CC\\\"><span style=\\\"font-family:&quot;Book Antiqua&quot;\\\">Blattsalat\\n      mit Speckgrieben&nbsp; 28,00 DM / </span><span style=\\\"font-size:10.0pt;mso-bidi-font-size:12.0pt;font-family:\\n&quot;Book Antiqua&quot;\\\">14,40&#128;</span><!--mstheme--></font></h4>\\n      <h4 style=\\\"margin-left:18.0pt\\\"><!--mstheme--><font color=\\\"#0033CC\\\">&nbsp;<!--mstheme--></font></h4>\\n      <!--mstheme--></font><!--msthemelist--><table border=\\\"0\\\" cellpadding=\\\"0\\\" cellspacing=\\\"0\\\" width=\\\"100%\\\">\\n        <!--msthemelist--><tr><td valign=\\\"baseline\\\" width=\\\"42\\\"><img src=\\\"_themes/ponyhof/acdbull1.gif\\\" width=\\\"15\\\" height=\\\"15\\\" hspace=\\\"13\\\"></td><td valign=\\\"top\\\" width=\\\"100%\\\"><!--mstheme--><font face=\\\"verdana, arial, helvetica\\\">\\n          <h4 style=\\\"margin-left:18.0pt\\\"><!--mstheme--><font color=\\\"#0033CC\\\"><span style=\\\"font-size:14.0pt;\\nmso-bidi-font-size:12.0pt;font-family:&quot;Book Antiqua&quot;\\\">Rehsteak\\n          Baden-Baden</span><!--mstheme--></font></h4>\\n        <!--mstheme--></font><!--msthemelist--></td></tr>\\n      <!--msthemelist--></table><!--mstheme--><font face=\\\"verdana, arial, helvetica\\\">\\n      <h4 style=\\\"margin-left:18.0pt\\\"><!--mstheme--><font color=\\\"#0033CC\\\"><span style=\\\"font-family:&quot;Book Antiqua&quot;\\\">Mit\\n      Pfifferlingen, gef�llter Birne</span><!--mstheme--></font></h4>\\n      <h4 style=\\\"margin-left:18.0pt\\\"><!--mstheme--><font color=\\\"#0033CC\\\"><span style=\\\"font-family:&quot;Book Antiqua&quot;\\\">Apfelmus\\n      und Preiselbeeren</span><!--mstheme--></font></h4>\\n      <h4 style=\\\"margin-left:18.0pt\\\"><!--mstheme--><font color=\\\"#0033CC\\\"><span style=\\\"font-family:&quot;Book Antiqua&quot;\\\">Kroketten&nbsp;\\n      30,00 DM / </span><span style=\\\"font-size:10.0pt;mso-bidi-font-size:12.0pt;font-family:\\n&quot;Book Antiqua&quot;\\\">15,40&#128;</span><!--mstheme--></font></h4>\\n      <!--msthemeseparator--><p align=\\\"center\\\"><img src=\\\"_themes/ponyhof/acdrule.gif\\\" width=\\\"600\\\" height=\\\"10\\\"></p>\\n      <p style=\\\"margin-left:18.0pt\\\" align=\\\"center\\\"><img border=\\\"0\\\" src=\\\"images/wpe44.gif\\\" width=\\\"348\\\" height=\\\"73\\\"></p>\\n      <p class=\\\"MsoNormal\\\" align=\\\"center\\\" style=\\\"text-align:center\\\"><span style=\\\"mso-ignore:vglayout;position:\\nrelative;z-index:11;left:-26px;top:24px;width:185px;height:79px\\\"><img src=\\\"images/abendk2.gif\\\" alt=\\\"Putensnacks\\\" v:shapes=\\\"_x0000_s1035\\\" width=\\\"185\\\" height=\\\"55\\\"></span><span style=\\\"font-size:16.0pt;mso-bidi-font-size:12.0pt;font-family:&quot;Book Antiqua&quot;\\\">&nbsp;</span></p>\\n      <h4><!--mstheme--><font color=\\\"#0033CC\\\"><span lang=\\\"FR\\\" style=\\\"font-family:&quot;Book Antiqua&quot;;mso-ansi-language:\\nFR\\\">Mit pommes frites und Currysauce&nbsp; </span><span lang=\\\"FR\\\" style=\\\"font-family:\\n&quot;Book Antiqua&quot;;mso-ansi-language:FR\\\">12,00 DM / </span><span lang=\\\"FR\\\" style=\\\"font-size:10.0pt;mso-bidi-font-size:12.0pt;font-family:&quot;Book Antiqua&quot;;\\nmso-ansi-language:FR\\\">6,14&#128;</span><!--mstheme--></font></h4>\\n      <p class=\\\"MsoNormal\\\" style=\\\"margin-left:354.0pt\\\">&nbsp;</p>\\n      <p class=\\\"MsoNormal\\\"><span lang=\\\"FR\\\" style=\\\"font-family:&quot;Book Antiqua&quot;;mso-ansi-language:\\nFR\\\">&nbsp;</span><span style=\\\"mso-ignore:vglayout\\\"><img src=\\\"images/abendk3.gif\\\" alt=\\\"Bockwurst\\\" v:shapes=\\\"_x0000_s1036\\\" width=\\\"142\\\" height=\\\"57\\\"></span></p>\\n      <h4><!--mstheme--><font color=\\\"#0033CC\\\"><span lang=\\\"FR\\\" style=\\\"font-family:&quot;Book Antiqua&quot;;mso-ansi-language:FR\\\">Pommes\\n      frites&nbsp; </span><span lang=\\\"FR\\\" style=\\\"font-family:\\n&quot;Book Antiqua&quot;;mso-ansi-language:FR\\\"><span style=\\\"mso-spacerun:\\nyes\\\"></span>5,50 DM / </span><span lang=\\\"FR\\\" style=\\\"font-size:10.0pt;mso-bidi-font-size:\\n12.0pt;font-family:&quot;Book Antiqua&quot;;mso-ansi-language:FR\\\">2,80&#128;</span><!--mstheme--></font></h4>\\n      <p>&nbsp;</p>\\n      <p class=\\\"MsoNormal\\\"><span style=\\\"mso-ignore:vglayout;position:\\nrelative;z-index:13;left:-9px;top:7px;width:272px;height:232px\\\"><img src=\\\"images/abendk4.gif\\\" alt=\\\"Kleines Schnitzel\\\" v:shapes=\\\"_x0000_s1037\\\" width=\\\"166\\\" height=\\\"66\\\"><img src=\\\"images/abendk5.gif\\\" v:shapes=\\\"_x0000_s1038\\\" align=\\\"right\\\" width=\\\"107\\\" height=\\\"156\\\"></span>\\n      <h4><!--mstheme--><font color=\\\"#0033CC\\\"><span lang=\\\"FR\\\" style=\\\"font-family:&quot;Book Antiqua&quot;;mso-ansi-language:\\nFR\\\">Pommes frites</span><!--mstheme--></font></h4>\\n      <h4><!--mstheme--><font color=\\\"#0033CC\\\"><span lang=\\\"FR\\\" style=\\\"font-family:&quot;Book Antiqua&quot;;mso-ansi-language:\\nFR\\\">Salatteller</span><span lang=\\\"FR\\\" style=\\\"font-family:\\n&quot;Book Antiqua&quot;;mso-ansi-language:FR\\\">&nbsp; 11,00 DM / </span><span lang=\\\"FR\\\" style=\\\"font-size:10.0pt;mso-bidi-font-size:12.0pt;font-family:&quot;Book Antiqua&quot;;\\nmso-ansi-language:FR\\\">5,60&#128;</span><!--mstheme--></font></h4>\\n      <p class=\\\"MsoNormal\\\" style=\\\"margin-left:354.0pt\\\">&nbsp;</p>\\n      <p class=\\\"MsoNormal\\\"><span lang=\\\"FR\\\" style=\\\"font-family:&quot;Book Antiqua&quot;;mso-ansi-language:\\nFR\\\">&nbsp;</span></p>\\n      <!--msthemeseparator--><p align=\\\"center\\\"><img src=\\\"_themes/ponyhof/acdrule.gif\\\" width=\\\"600\\\" height=\\\"10\\\"></p>\\n      <h2><!--mstheme--><font color=\\\"#0033CC\\\"><span lang=\\\"FR\\\">Salate</span><!--mstheme--></font></h2>\\n      <p class=\\\"MsoNormal\\\"><span lang=\\\"FR\\\" style=\\\"font-family:&quot;Book Antiqua&quot;;mso-ansi-language:\\nFR\\\">&nbsp;</span></p>\\n      <!--mstheme--></font><!--msthemelist--><table border=\\\"0\\\" cellpadding=\\\"0\\\" cellspacing=\\\"0\\\" width=\\\"100%\\\">\\n        <!--msthemelist--><tr><td valign=\\\"baseline\\\" width=\\\"42\\\"><img src=\\\"_themes/ponyhof/acdbull1.gif\\\" width=\\\"15\\\" height=\\\"15\\\" hspace=\\\"13\\\"></td><td valign=\\\"top\\\" width=\\\"100%\\\"><!--mstheme--><font face=\\\"verdana, arial, helvetica\\\">\\n          <h3><!--mstheme--><font color=\\\"#0033CC\\\">Gemischter Salatteller<!--mstheme--></font></h3>\\n        <!--mstheme--></font><!--msthemelist--></td></tr>\\n      <!--msthemelist--></table><!--mstheme--><font face=\\\"verdana, arial, helvetica\\\">\\n      <h4><!--mstheme--><font color=\\\"#0033CC\\\">&nbsp;&nbsp;&nbsp;&nbsp;&nbsp; <span style=\\\"font-family:&quot;Book Antiqua&quot;\\\">4,00\\n      DM /<span style=\\\"mso-spacerun: yes\\\">&nbsp; </span></span><span style=\\\"font-size:10.0pt;mso-bidi-font-size:12.0pt;\\nfont-family:&quot;Book Antiqua&quot;\\\">2,10&#128;</span><!--mstheme--></font></h4>\\n      <!--mstheme--></font><!--msthemelist--><table border=\\\"0\\\" cellpadding=\\\"0\\\" cellspacing=\\\"0\\\" width=\\\"100%\\\">\\n        <!--msthemelist--><tr><td valign=\\\"baseline\\\" width=\\\"42\\\"><img src=\\\"_themes/ponyhof/acdbull1.gif\\\" width=\\\"15\\\" height=\\\"15\\\" hspace=\\\"13\\\"></td><td valign=\\\"top\\\" width=\\\"100%\\\"><!--mstheme--><font face=\\\"verdana, arial, helvetica\\\">\\n          <h3><!--mstheme--><font color=\\\"#0033CC\\\">Tomatensalat<!--mstheme--></font></h3>\\n        <!--mstheme--></font><!--msthemelist--></td></tr>\\n      <!--msthemelist--></table><!--mstheme--><font face=\\\"verdana, arial, helvetica\\\">\\n      <h4 style=\\\"margin-left:18.0pt\\\"><!--mstheme--><font color=\\\"#0033CC\\\"><span style=\\\"font-family:&quot;Book Antiqua&quot;\\\">Mit\\n      Schafsk�se und Basilikum&nbsp; </span><span style=\\\"font-size:\\n10.0pt;mso-bidi-font-size:12.0pt;font-family:&quot;Book Antiqua&quot;\\\">4,10&#128;</span><!--mstheme--></font></h4>\\n      <p class=\\\"MsoNormal\\\" style=\\\"margin-left:354.0pt\\\"><span style=\\\"mso-spacerun: yes; font-size: 14.0pt; mso-bidi-font-size: 12.0pt; font-family: Book Antiqua\\\">&nbsp;</span></p>\\n      <!--mstheme--></font><!--msthemelist--><table border=\\\"0\\\" cellpadding=\\\"0\\\" cellspacing=\\\"0\\\" width=\\\"100%\\\">\\n        <!--msthemelist--><tr><td valign=\\\"baseline\\\" width=\\\"42\\\"><img src=\\\"_themes/ponyhof/acdbull1.gif\\\" width=\\\"15\\\" height=\\\"15\\\" hspace=\\\"13\\\"></td><td valign=\\\"top\\\" width=\\\"100%\\\"><!--mstheme--><font face=\\\"verdana, arial, helvetica\\\">\\n          <h3><!--mstheme--><font color=\\\"#0033CC\\\"><span style=\\\"font-size:14.0pt;mso-bidi-font-size:12.0pt;\\nfont-family:&quot;Book Antiqua&quot;\\\">&nbsp;</span><span style=\\\"font-size:14.0pt;\\nmso-bidi-font-size:12.0pt;font-family:&quot;Book Antiqua&quot;\\\">Gro�e\\n          Salatplatte</span><!--mstheme--></font></h3>\\n        <!--mstheme--></font><!--msthemelist--></td></tr>\\n      <!--msthemelist--></table><!--mstheme--><font face=\\\"verdana, arial, helvetica\\\">\\n      <h4 style=\\\"margin-left:18.0pt\\\"><!--mstheme--><font color=\\\"#0033CC\\\"><span style=\\\"font-family:&quot;Book Antiqua&quot;\\\">Verschiedene\\n      Salate der Saison</span><!--mstheme--></font></h4>\\n      <h4 style=\\\"margin-left:18.0pt\\\"><!--mstheme--><font color=\\\"#0033CC\\\"><span style=\\\"font-family:&quot;Book Antiqua&quot;\\\">Mit\\n      gekochtem Ei</span><!--mstheme--></font></h4>\\n      <h4 style=\\\"margin-left:18.0pt\\\"><!--mstheme--><font color=\\\"#0033CC\\\"><span style=\\\"font-family:&quot;Book Antiqua&quot;\\\">Schinken\\n      und K�se garniert&nbsp; </span><span style=\\\"font-size:\\n10.0pt;mso-bidi-font-size:12.0pt;font-family:&quot;Book Antiqua&quot;\\\">7,20&#128;</span><!--mstheme--></font></h4>\\n      <p style=\\\"margin-left:18.0pt\\\">&nbsp;</p>\\n      <!--mstheme--></font><!--msthemelist--><table border=\\\"0\\\" cellpadding=\\\"0\\\" cellspacing=\\\"0\\\" width=\\\"100%\\\">\\n        <!--msthemelist--><tr><td valign=\\\"baseline\\\" width=\\\"42\\\"><img src=\\\"_themes/ponyhof/acdbull1.gif\\\" width=\\\"15\\\" height=\\\"15\\\" hspace=\\\"13\\\"></td><td valign=\\\"top\\\" width=\\\"100%\\\"><!--mstheme--><font face=\\\"verdana, arial, helvetica\\\">\\n          <h3 style=\\\"margin-left:18.0pt\\\"><!--mstheme--><font color=\\\"#0033CC\\\">Salatsch�ssel<!--mstheme--></font></h3>\\n        <!--mstheme--></font><!--msthemelist--></td></tr>\\n      <!--msthemelist--></table><!--mstheme--><font face=\\\"verdana, arial, helvetica\\\">\\n      <h4 style=\\\"margin-left:18.0pt\\\"><!--mstheme--><font color=\\\"#0033CC\\\"><span style=\\\"font-family:&quot;Book Antiqua&quot;\\\">Gemischter\\n      Blattsalat mit Tomaten,</span><!--mstheme--></font></h4>\\n      <h4 style=\\\"margin-left:18.0pt\\\"><!--mstheme--><font color=\\\"#0033CC\\\"><span style=\\\"font-family:&quot;Book Antiqua&quot;\\\">K�se,\\n      Zwiebeln, Schinken, Eiern</span><!--mstheme--></font></h4>\\n      <h4 style=\\\"margin-left:18.0pt\\\"><!--mstheme--><font color=\\\"#0033CC\\\"><span style=\\\"font-family:&quot;Book Antiqua&quot;\\\">Essig-\\n      �l Dressing</span><span style=\\\"font-size:\\n10.0pt;mso-bidi-font-size:12.0pt;font-family:&quot;Book Antiqua&quot;\\\">9,00</span><!--mstheme--></font></h4>\\n      <!--msthemeseparator--><p align=\\\"center\\\"><img src=\\\"_themes/ponyhof/acdrule.gif\\\" width=\\\"600\\\" height=\\\"10\\\"></p>\\n      <p style=\\\"margin-left:18.0pt\\\">&nbsp;</p>\\n      <h2><!--mstheme--><font color=\\\"#0033CC\\\">Nudelgerichte<!--mstheme--></font></h2>\\n      <h2><!--mstheme--><font color=\\\"#0033CC\\\">&nbsp;<!--mstheme--></font></h2>\\n      <!--mstheme--></font><!--msthemelist--><table border=\\\"0\\\" cellpadding=\\\"0\\\" cellspacing=\\\"0\\\" width=\\\"100%\\\">\\n        <!--msthemelist--><tr><td valign=\\\"baseline\\\" width=\\\"42\\\"><img src=\\\"_themes/ponyhof/acdbull1.gif\\\" width=\\\"15\\\" height=\\\"15\\\" hspace=\\\"13\\\"></td><td valign=\\\"top\\\" width=\\\"100%\\\"><!--mstheme--><font face=\\\"verdana, arial, helvetica\\\">\\n          <h3><!--mstheme--><font color=\\\"#0033CC\\\"><span style=\\\"font-size:14.0pt;\\nmso-bidi-font-size:12.0pt;font-family:&quot;Book Antiqua&quot;\\\">Gr�ne\\n          Bandnudeln</span><!--mstheme--></font></h3>\\n        <!--mstheme--></font><!--msthemelist--></td></tr>\\n      <!--msthemelist--></table><!--mstheme--><font face=\\\"verdana, arial, helvetica\\\">\\n      <h4 style=\\\"margin-left:18.0pt\\\"><!--mstheme--><font color=\\\"#0033CC\\\"><span style=\\\"font-family:&quot;Book Antiqua&quot;\\\">In\\n      Schinken- Sahnesauce </span><!--mstheme--></font></h4>\\n      <h4 style=\\\"margin-left:18.0pt\\\"><!--mstheme--><font color=\\\"#0033CC\\\"><span style=\\\"font-family:&quot;Book Antiqua&quot;\\\">Mit\\n      Knoblauch</span><!--mstheme--></font></h4>\\n      <h4 style=\\\"margin-left:18.0pt\\\"><!--mstheme--><font color=\\\"#0033CC\\\"><span style=\\\"font-family:&quot;Book Antiqua&quot;\\\">Salatteller&nbsp;\\n      15,00 DM / </span><span style=\\\"font-size:10.0pt;mso-bidi-font-size:12.0pt;font-family:\\n&quot;Book Antiqua&quot;\\\">7,70&#128;</span><!--mstheme--></font></h4>\\n      <h4 style=\\\"margin-left:18.0pt\\\"><!--mstheme--><font color=\\\"#0033CC\\\">&nbsp;<!--mstheme--></font></h4>\\n      <!--mstheme--></font><!--msthemelist--><table border=\\\"0\\\" cellpadding=\\\"0\\\" cellspacing=\\\"0\\\" width=\\\"100%\\\">\\n        <!--msthemelist--><tr><td valign=\\\"baseline\\\" width=\\\"42\\\"><img src=\\\"_themes/ponyhof/acdbull1.gif\\\" width=\\\"15\\\" height=\\\"15\\\" hspace=\\\"13\\\"></td><td valign=\\\"top\\\" width=\\\"100%\\\"><!--mstheme--><font face=\\\"verdana, arial, helvetica\\\">\\n          <h3 style=\\\"margin-left:18.0pt\\\"><!--mstheme--><font color=\\\"#0033CC\\\"><span style=\\\"font-size:14.0pt;\\nmso-bidi-font-size:12.0pt;font-family:&quot;Book Antiqua&quot;\\\">Tortelinie mit\\n          Blattspinatf�llung</span><!--mstheme--></font></h3>\\n        <!--mstheme--></font><!--msthemelist--></td></tr>\\n      <!--msthemelist--></table><!--mstheme--><font face=\\\"verdana, arial, helvetica\\\">\\n      <h4 style=\\\"margin-left:18.0pt\\\"><!--mstheme--><font color=\\\"#0033CC\\\"><span style=\\\"font-family:&quot;Book Antiqua&quot;\\\">Tomatensauce</span><!--mstheme--></font></h4>\\n      <h4 style=\\\"margin-left:18.0pt\\\"><!--mstheme--><font color=\\\"#0033CC\\\"><span style=\\\"font-family:&quot;Book Antiqua&quot;\\\">Salatteller\\n      &nbsp; 14,50 DM / </span><span style=\\\"font-size:10.0pt;mso-bidi-font-size:12.0pt;font-family:\\n&quot;Book Antiqua&quot;\\\">7,50&#128;</span><!--mstheme--></font></h4>\\n      <p class=\\\"MsoNormal\\\">&nbsp;</p>\\n      <!--mstheme--></font><!--msthemelist--><table border=\\\"0\\\" cellpadding=\\\"0\\\" cellspacing=\\\"0\\\" width=\\\"100%\\\">\\n        <!--msthemelist--><tr><td valign=\\\"baseline\\\" width=\\\"42\\\"><img src=\\\"_themes/ponyhof/acdbull1.gif\\\" width=\\\"15\\\" height=\\\"15\\\" hspace=\\\"13\\\"></td><td valign=\\\"top\\\" width=\\\"100%\\\"><!--mstheme--><font face=\\\"verdana, arial, helvetica\\\">\\n          <h3><!--mstheme--><font color=\\\"#0033CC\\\"><span style=\\\"font-size:14.0pt;\\nmso-bidi-font-size:12.0pt;font-family:&quot;Book Antiqua&quot;\\\">Eiersp�tzle</span><!--mstheme--></font></h3>\\n        <!--mstheme--></font><!--msthemelist--></td></tr>\\n      <!--msthemelist--></table><!--mstheme--><font face=\\\"verdana, arial, helvetica\\\">\\n      <h4 style=\\\"margin-left:18.0pt\\\"><!--mstheme--><font color=\\\"#0033CC\\\"><span style=\\\"font-family:&quot;Book Antiqua&quot;\\\">In\\n      der Pfanne mit Gem�se</span><!--mstheme--></font></h4>\\n      <h4 style=\\\"margin-left:18.0pt\\\"><!--mstheme--><font color=\\\"#0033CC\\\"><span style=\\\"font-family:&quot;Book Antiqua&quot;\\\">Und\\n      K�se �berbacken</span><span style=\\\"font-size:10.0pt;mso-bidi-font-size:12.0pt;font-family:\\n&quot;Book Antiqua&quot;\\\">9,00&#128;</span><!--mstheme--></font></h4>\\n      <!--msthemeseparator--><p align=\\\"center\\\"><img src=\\\"_themes/ponyhof/acdrule.gif\\\" width=\\\"600\\\" height=\\\"10\\\"></p>\\n      <h2><!--mstheme--><font color=\\\"#0033CC\\\">Kalte Speisen<!--mstheme--></font></h2>\\n      <!--mstheme--></font><!--msthemelist--><table border=\\\"0\\\" cellpadding=\\\"0\\\" cellspacing=\\\"0\\\" width=\\\"100%\\\">\\n        <!--msthemelist--><tr><td valign=\\\"baseline\\\" width=\\\"42\\\"><img src=\\\"_themes/ponyhof/acdbull1.gif\\\" width=\\\"15\\\" height=\\\"15\\\" hspace=\\\"13\\\"></td><td valign=\\\"top\\\" width=\\\"100%\\\"><!--mstheme--><font face=\\\"verdana, arial, helvetica\\\">\\n          <h3><!--mstheme--><font color=\\\"#0033CC\\\">Gemischte Aufschnittplatte<!--mstheme--></font></h3>\\n        <!--mstheme--></font><!--msthemelist--></td></tr>\\n      <!--msthemelist--></table><!--mstheme--><font face=\\\"verdana, arial, helvetica\\\">\\n      <h4 style=\\\"margin-left:18.0pt\\\"><!--mstheme--><font color=\\\"#0033CC\\\"><span style=\\\"font-family:&quot;Book Antiqua&quot;\\\">Mit\\n      Brot und Butter&nbsp; 16,00 DM / </span><span style=\\\"font-size:10.0pt;mso-bidi-font-size:12.0pt;font-family:\\n&quot;Book Antiqua&quot;\\\">8,20&#128;</span><!--mstheme--></font></h4>\\n      <h4 style=\\\"margin-left:18.0pt\\\"><!--mstheme--><font color=\\\"#0033CC\\\">&nbsp;<!--mstheme--></font></h4>\\n      <!--mstheme--></font><!--msthemelist--><table border=\\\"0\\\" cellpadding=\\\"0\\\" cellspacing=\\\"0\\\" width=\\\"100%\\\">\\n        <!--msthemelist--><tr><td valign=\\\"baseline\\\" width=\\\"42\\\"><img src=\\\"_themes/ponyhof/acdbull1.gif\\\" width=\\\"15\\\" height=\\\"15\\\" hspace=\\\"13\\\"></td><td valign=\\\"top\\\" width=\\\"100%\\\"><!--mstheme--><font face=\\\"verdana, arial, helvetica\\\">\\n          <h3 style=\\\"margin-left:18.0pt\\\"><!--mstheme--><font color=\\\"#0033CC\\\">Schinkenplatte<!--mstheme--></font></h3>\\n        <!--mstheme--></font><!--msthemelist--></td></tr>\\n      <!--msthemelist--></table><!--mstheme--><font face=\\\"verdana, arial, helvetica\\\">\\n      <h4 style=\\\"margin-left:18.0pt\\\"><!--mstheme--><font color=\\\"#0033CC\\\"><span style=\\\"font-family:&quot;Book Antiqua&quot;\\\">Mit\\n      Brot und Butter&nbsp; 16,00 DM / </span><span style=\\\"font-size:10.0pt;mso-bidi-font-size:12.0pt;font-family:\\n&quot;Book Antiqua&quot;\\\">8,20&#128;</span><!--mstheme--></font></h4>\\n      <h4 style=\\\"margin-left:18.0pt\\\"><!--mstheme--><font color=\\\"#0033CC\\\">&nbsp;<!--mstheme--></font></h4>\\n      <!--mstheme--></font><!--msthemelist--><table border=\\\"0\\\" cellpadding=\\\"0\\\" cellspacing=\\\"0\\\" width=\\\"100%\\\">\\n        <!--msthemelist--><tr><td valign=\\\"baseline\\\" width=\\\"42\\\"><img src=\\\"_themes/ponyhof/acdbull1.gif\\\" width=\\\"15\\\" height=\\\"15\\\" hspace=\\\"13\\\"></td><td valign=\\\"top\\\" width=\\\"100%\\\"><!--mstheme--><font face=\\\"verdana, arial, helvetica\\\">\\n          <h3 style=\\\"margin-left:18.0pt\\\"><!--mstheme--><font color=\\\"#0033CC\\\">Schweinebratenplatte<!--mstheme--></font></h3>\\n        <!--mstheme--></font><!--msthemelist--></td></tr>\\n      <!--msthemelist--></table><!--mstheme--><font face=\\\"verdana, arial, helvetica\\\">\\n      <h4 style=\\\"margin-left:18.0pt\\\"><!--mstheme--><font color=\\\"#0033CC\\\"><span style=\\\"font-family:&quot;Book Antiqua&quot;\\\">Remouladensauce</span><!--mstheme--></font></h4>\\n      <h4 style=\\\"margin-left:18.0pt\\\"><!--mstheme--><font color=\\\"#0033CC\\\"><span style=\\\"font-family:&quot;Book Antiqua&quot;\\\">Brot\\n      und Butter&nbsp; 16,50 DM / </span><span style=\\\"font-size:10.0pt;mso-bidi-font-size:12.0pt;font-family:\\n&quot;Book Antiqua&quot;\\\">8,50&#128;</span><!--mstheme--></font></h4>\\n      <p class=\\\"MsoNormal\\\" style=\\\"margin-left:354.0pt\\\">&nbsp;</p>\\n      <!--mstheme--></font><!--msthemelist--><table border=\\\"0\\\" cellpadding=\\\"0\\\" cellspacing=\\\"0\\\" width=\\\"100%\\\">\\n        <!--msthemelist--><tr><td valign=\\\"baseline\\\" width=\\\"42\\\"><img src=\\\"_themes/ponyhof/acdbull1.gif\\\" width=\\\"15\\\" height=\\\"15\\\" hspace=\\\"13\\\"></td><td valign=\\\"top\\\" width=\\\"100%\\\"><!--mstheme--><font face=\\\"verdana, arial, helvetica\\\">\\n          <h3 style=\\\"margin-left:18.0pt\\\"><!--mstheme--><font color=\\\"#0033CC\\\"><span style=\\\"font-family:&quot;Book Antiqua&quot;\\\">&nbsp;</span><span style=\\\"font-size:14.0pt;\\nmso-bidi-font-size:12.0pt;font-family:&quot;Book Antiqua&quot;\\\">Hausmacher\\n          Wurstschnittchen</span><!--mstheme--></font></h3>\\n        <!--mstheme--></font><!--msthemelist--></td></tr>\\n      <!--msthemelist--></table><!--mstheme--><font face=\\\"verdana, arial, helvetica\\\">\\n      <h4 style=\\\"margin-left:18.0pt\\\"><!--mstheme--><font color=\\\"#0033CC\\\"><span style=\\\"font-family:&quot;Book Antiqua&quot;\\\">Blut\\n      und Leberwurst aus Hausschlachtung<span style=\\\"mso-spacerun: yes\\\">&nbsp;&nbsp;\\n      </span>9,00 DM / </span><span style=\\\"font-size:10.0pt;\\nmso-bidi-font-size:12.0pt;font-family:&quot;Book Antiqua&quot;\\\">4,60&#128;</span><!--mstheme--></font></h4>\\n      <p class=\\\"MsoNormal\\\" style=\\\"margin-left:354.0pt\\\">&nbsp;</p>\\n      <!--mstheme--></font><!--msthemelist--><table border=\\\"0\\\" cellpadding=\\\"0\\\" cellspacing=\\\"0\\\" width=\\\"100%\\\">\\n        <!--msthemelist--><tr><td valign=\\\"baseline\\\" width=\\\"42\\\"><img src=\\\"_themes/ponyhof/acdbull1.gif\\\" width=\\\"15\\\" height=\\\"15\\\" hspace=\\\"13\\\"></td><td valign=\\\"top\\\" width=\\\"100%\\\"><!--mstheme--><font face=\\\"verdana, arial, helvetica\\\">\\n          <h3 style=\\\"margin-left:18.0pt\\\"><!--mstheme--><font color=\\\"#0033CC\\\"><span style=\\\"font-family:&quot;Book Antiqua&quot;\\\">&nbsp;</span><span style=\\\"font-size:14.0pt;\\nmso-bidi-font-size:12.0pt;font-family:&quot;Book Antiqua&quot;\\\">Ponyhofplatte</span><!--mstheme--></font></h3>\\n        <!--mstheme--></font><!--msthemelist--></td></tr>\\n      <!--msthemelist--></table><!--mstheme--><font face=\\\"verdana, arial, helvetica\\\">\\n      <h4 style=\\\"margin-left:18.0pt\\\"><!--mstheme--><font color=\\\"#0033CC\\\"><span style=\\\"font-family:&quot;Book Antiqua&quot;\\\">13,50\\n      DM / </span><span style=\\\"font-size:10.0pt;mso-bidi-font-size:12.0pt;font-family:\\n&quot;Book Antiqua&quot;\\\">6,90&#128;</span><!--mstheme--></font></h4>\\n      <p class=\\\"MsoNormal\\\" style=\\\"margin-left:354.0pt\\\">&nbsp;</p>\\n      <!--mstheme--></font><!--msthemelist--><table border=\\\"0\\\" cellpadding=\\\"0\\\" cellspacing=\\\"0\\\" width=\\\"100%\\\">\\n        <!--msthemelist--><tr><td valign=\\\"baseline\\\" width=\\\"42\\\"><img src=\\\"_themes/ponyhof/acdbull1.gif\\\" width=\\\"15\\\" height=\\\"15\\\" hspace=\\\"13\\\"></td><td valign=\\\"top\\\" width=\\\"100%\\\"><!--mstheme--><font face=\\\"verdana, arial, helvetica\\\">\\n          <h3><!--mstheme--><font color=\\\"#0033CC\\\"><span style=\\\"font-size:14.0pt;mso-bidi-font-size:12.0pt;\\nfont-family:&quot;Book Antiqua&quot;\\\">&nbsp;</span><span style=\\\"font-size:14.0pt;\\nmso-bidi-font-size:12.0pt;font-family:&quot;Book Antiqua&quot;\\\">K�seplatte</span><!--mstheme--></font></h3>\\n        <!--mstheme--></font><!--msthemelist--></td></tr>\\n      <!--msthemelist--></table><!--mstheme--><font face=\\\"verdana, arial, helvetica\\\">\\n      <h4 style=\\\"margin-left:18.0pt\\\"><!--mstheme--><font color=\\\"#0033CC\\\"><span style=\\\"font-family:&quot;Book Antiqua&quot;\\\">Brot\\n      und Butter&nbsp; 16,50 DM / </span><span style=\\\"font-size:10.0pt;mso-bidi-font-size:12.0pt;font-family:\\n&quot;Book Antiqua&quot;\\\">8,50&#128;</span><span style=\\\"font-family:&quot;Book Antiqua&quot;\\\">\\n      </span><!--mstheme--></font></h4>\\n      <p class=\\\"MsoNormal\\\" style=\\\"margin-left:354.0pt\\\">&nbsp;</p>\\n      <!--mstheme--></font><!--msthemelist--><table border=\\\"0\\\" cellpadding=\\\"0\\\" cellspacing=\\\"0\\\" width=\\\"100%\\\">\\n        <!--msthemelist--><tr><td valign=\\\"baseline\\\" width=\\\"42\\\"><img src=\\\"_themes/ponyhof/acdbull1.gif\\\" width=\\\"15\\\" height=\\\"15\\\" hspace=\\\"13\\\"></td><td valign=\\\"top\\\" width=\\\"100%\\\"><!--mstheme--><font face=\\\"verdana, arial, helvetica\\\">\\n          <h3 style=\\\"margin-left:18.0pt\\\"><!--mstheme--><font color=\\\"#0033CC\\\"><span style=\\\"font-family:&quot;Book Antiqua&quot;\\\">&nbsp;</span><span style=\\\"font-size:14.0pt;\\nmso-bidi-font-size:12.0pt;font-family:&quot;Book Antiqua&quot;\\\">K�seschnittchen</span><!--mstheme--></font></h3>\\n        <!--mstheme--></font><!--msthemelist--></td></tr>\\n      <!--msthemelist--></table><!--mstheme--><font face=\\\"verdana, arial, helvetica\\\">\\n      <h4 style=\\\"margin-left:18.0pt\\\"><!--mstheme--><font color=\\\"#0033CC\\\"><span style=\\\"font-family:&quot;Book Antiqua&quot;\\\">9,50\\n      DM / </span><span style=\\\"font-size:10.0pt;mso-bidi-font-size:12.0pt;font-family:\\n&quot;Book Antiqua&quot;\\\">4,90&#128;</span><!--mstheme--></font></h4>\\n      <p class=\\\"MsoNormal\\\" style=\\\"margin-left:354.0pt\\\"><span style=\\\"mso-spacerun: yes; font-size: 14.0pt; mso-bidi-font-size: 12.0pt; font-family: Book Antiqua\\\">&nbsp;</span></p>\\n      <!--mstheme--></font><!--msthemelist--><table border=\\\"0\\\" cellpadding=\\\"0\\\" cellspacing=\\\"0\\\" width=\\\"100%\\\">\\n        <!--msthemelist--><tr><td valign=\\\"baseline\\\" width=\\\"42\\\"><img src=\\\"_themes/ponyhof/acdbull1.gif\\\" width=\\\"15\\\" height=\\\"15\\\" hspace=\\\"13\\\"></td><td valign=\\\"top\\\" width=\\\"100%\\\"><!--mstheme--><font face=\\\"verdana, arial, helvetica\\\">\\n          <h3><!--mstheme--><font color=\\\"#0033CC\\\"><span style=\\\"font-size:14.0pt;mso-bidi-font-size:12.0pt;\\nfont-family:&quot;Book Antiqua&quot;\\\">&nbsp;</span>Strammer Max<!--mstheme--></font></h3>\\n        <!--mstheme--></font><!--msthemelist--></td></tr>\\n      <!--msthemelist--></table><!--mstheme--><font face=\\\"verdana, arial, helvetica\\\">\\n      <h4 style=\\\"margin-left:18.0pt\\\"><!--mstheme--><font color=\\\"#0033CC\\\"><span style=\\\"font-family:&quot;Book Antiqua&quot;\\\">Mit\\n      einem Ei&nbsp; 14,00 DM / </span><span style=\\\"font-size:10.0pt;mso-bidi-font-size:12.0pt;font-family:\\n&quot;Book Antiqua&quot;\\\">7,20&#128;</span><!--mstheme--></font></h4>\\n      <!--msthemeseparator--><p align=\\\"center\\\"><img src=\\\"_themes/ponyhof/acdrule.gif\\\" width=\\\"600\\\" height=\\\"10\\\"></p>\\n      <h2><!--mstheme--><font color=\\\"#0033CC\\\"><span style=\\\"font-size: 20.0pt; mso-bidi-font-size: 12.0pt; font-family: Book Antiqua\\\">Getr�nkekarte</span><!--mstheme--></font></h2>\\n      <!--msthemeseparator--><p align=\\\"center\\\"><img src=\\\"_themes/ponyhof/acdrule.gif\\\" width=\\\"600\\\" height=\\\"10\\\"></p>\\n      <h4 style=\\\"tab-stops:100.5pt 248.25pt 347.25pt right 417.65pt;\\nmso-layout-grid-align:none;text-autospace:none\\\"><!--mstheme--><font color=\\\"#0033CC\\\"><span style=\\\"font-size: 10.0pt; mso-bidi-font-size: 12.0pt; font-family: Book Antiqua\\\">Cola\\n      0,3<span style=\\\"mso-tab-count:1\\\">&nbsp;&nbsp;&nbsp;&nbsp;&nbsp;&nbsp;&nbsp;&nbsp;&nbsp;&nbsp;&nbsp;&nbsp;&nbsp;&nbsp;&nbsp;&nbsp;&nbsp;&nbsp;&nbsp;&nbsp;&nbsp;&nbsp;&nbsp;&nbsp;&nbsp;&nbsp;&nbsp;&nbsp;\\n      </span>DM 3,20 / </span><span style=\\\"font-size: 8.0pt; mso-bidi-font-size: 12.0pt; font-family: Book Antiqua\\\">1,70&#128;</span><span style=\\\"font-size: 10.0pt; mso-bidi-font-size: 12.0pt; font-family: Book Antiqua\\\"><span style=\\\"mso-tab-count:\\n1\\\">&nbsp;&nbsp;&nbsp;&nbsp;&nbsp;&nbsp;&nbsp;&nbsp;&nbsp;&nbsp;&nbsp;&nbsp;&nbsp;&nbsp;&nbsp;&nbsp;&nbsp;&nbsp;&nbsp;&nbsp;&nbsp;&nbsp;&nbsp;&nbsp;&nbsp;&nbsp;&nbsp;&nbsp;&nbsp;&nbsp;&nbsp;&nbsp;&nbsp;&nbsp;&nbsp;\\n      </span>Whisky<span style=\\\"mso-tab-count:\\n1\\\">&nbsp;&nbsp;&nbsp;&nbsp;&nbsp;&nbsp;&nbsp;&nbsp;&nbsp;&nbsp;&nbsp;&nbsp;&nbsp;&nbsp;&nbsp;&nbsp;&nbsp;&nbsp;&nbsp;&nbsp;&nbsp;&nbsp;&nbsp;&nbsp;&nbsp;&nbsp;&nbsp;&nbsp;\\n      </span>DM 4,00 / </span><span style=\\\"font-size: 8.0pt; mso-bidi-font-size: 12.0pt; font-family: Book Antiqua\\\">2,10&#128;<o:p>\\n      </o:p>\\n      </span><!--mstheme--></font></h4>\\n      <h4 style=\\\"tab-stops:100.5pt 248.25pt 347.25pt right 417.65pt;\\nmso-layout-grid-align:none;text-autospace:none\\\"><!--mstheme--><font color=\\\"#0033CC\\\"><span style=\\\"font-size: 10.0pt; mso-bidi-font-size: 12.0pt; font-family: Book Antiqua\\\">Cola\\n      0,2<span style=\\\"mso-tab-count:1\\\">&nbsp;&nbsp;&nbsp;&nbsp;&nbsp;&nbsp;&nbsp;&nbsp;&nbsp;&nbsp;&nbsp;&nbsp;&nbsp;&nbsp;&nbsp;&nbsp;&nbsp;&nbsp;&nbsp;&nbsp;&nbsp;&nbsp;&nbsp;&nbsp;&nbsp;&nbsp;&nbsp;&nbsp;\\n      </span>DM 2,40 / </span><span style=\\\"font-size: 8.0pt; mso-bidi-font-size: 12.0pt; font-family: Book Antiqua\\\">1,30&#128;</span><span style=\\\"font-size: 10.0pt; mso-bidi-font-size: 12.0pt; font-family: Book Antiqua\\\"><span style=\\\"mso-tab-count:\\n1\\\">&nbsp;&nbsp;&nbsp;&nbsp;&nbsp;&nbsp;&nbsp;&nbsp;&nbsp;&nbsp;&nbsp;&nbsp;&nbsp;&nbsp;&nbsp;&nbsp;&nbsp;&nbsp;&nbsp;&nbsp;&nbsp;&nbsp;&nbsp;&nbsp;&nbsp;&nbsp;&nbsp;&nbsp;&nbsp;&nbsp;&nbsp;&nbsp;&nbsp;&nbsp;&nbsp;\\n      </span>Wodka<span style=\\\"mso-tab-count:\\n1\\\">&nbsp;&nbsp;&nbsp;&nbsp;&nbsp;&nbsp;&nbsp;&nbsp;&nbsp;&nbsp;&nbsp;&nbsp;&nbsp;&nbsp;&nbsp;&nbsp;&nbsp;&nbsp;&nbsp;&nbsp;&nbsp;&nbsp;&nbsp;&nbsp;&nbsp;&nbsp;&nbsp;&nbsp;&nbsp;\\n      </span>DM 3,50 / </span><span style=\\\"font-size: 8.0pt; mso-bidi-font-size: 12.0pt; font-family: Book Antiqua\\\">1,80&#128;<o:p>\\n      </o:p>\\n      </span><!--mstheme--></font></h4>\\n      <h4 style=\\\"tab-stops:100.5pt 248.25pt 347.25pt right 417.65pt;\\nmso-layout-grid-align:none;text-autospace:none\\\"><!--mstheme--><font color=\\\"#0033CC\\\"><span style=\\\"font-size: 10.0pt; mso-bidi-font-size: 12.0pt; font-family: Book Antiqua\\\">Fanta\\n      0,3<span style=\\\"mso-tab-count:1\\\">&nbsp;&nbsp;&nbsp;&nbsp;&nbsp;&nbsp;&nbsp;&nbsp;&nbsp;&nbsp;&nbsp;&nbsp;&nbsp;&nbsp;&nbsp;&nbsp;&nbsp;&nbsp;&nbsp;&nbsp;&nbsp;&nbsp;&nbsp;&nbsp;&nbsp;&nbsp;\\n      </span>DM 3,20 / </span><span style=\\\"font-size: 8.0pt; mso-bidi-font-size: 12.0pt; font-family: Book Antiqua\\\">1,70&#128;</span><span style=\\\"font-size: 10.0pt; mso-bidi-font-size: 12.0pt; font-family: Book Antiqua\\\"><span style=\\\"mso-tab-count:\\n1\\\">&nbsp;&nbsp;&nbsp;&nbsp;&nbsp;&nbsp;&nbsp;&nbsp;&nbsp;&nbsp;&nbsp;&nbsp;&nbsp;&nbsp;&nbsp;&nbsp;&nbsp;&nbsp;&nbsp;&nbsp;&nbsp;&nbsp;&nbsp;&nbsp;&nbsp;&nbsp;&nbsp;&nbsp;&nbsp;&nbsp;&nbsp;&nbsp;&nbsp;&nbsp;&nbsp;\\n      </span>Gin<span style=\\\"mso-tab-count:\\n1\\\">&nbsp;&nbsp;&nbsp;&nbsp;&nbsp;&nbsp;&nbsp;&nbsp;&nbsp;&nbsp;&nbsp;&nbsp;&nbsp;&nbsp;&nbsp;&nbsp;&nbsp;&nbsp;&nbsp;&nbsp;&nbsp;&nbsp;&nbsp;&nbsp;&nbsp;&nbsp;&nbsp;&nbsp;&nbsp;&nbsp;&nbsp;&nbsp;&nbsp;&nbsp;&nbsp;&nbsp;\\n      </span>DM 3,20 / </span><span style=\\\"font-size: 8.0pt; mso-bidi-font-size: 12.0pt; font-family: Book Antiqua\\\">1,70&#128;<o:p>\\n      </o:p>\\n      </span><!--mstheme--></font></h4>\\n      <h4 style=\\\"tab-stops:100.5pt 248.25pt 347.25pt right 417.65pt;\\nmso-layout-grid-align:none;text-autospace:none\\\"><!--mstheme--><font color=\\\"#0033CC\\\"><span lang=\\\"EN-GB\\\" style=\\\"font-size: 10.0pt; mso-bidi-font-size: 12.0pt; font-family: Book Antiqua; mso-ansi-language: EN-GB\\\">Fanta\\n      0,2<span style=\\\"mso-tab-count:\\n1\\\">&nbsp;&nbsp;&nbsp;&nbsp;&nbsp;&nbsp;&nbsp;&nbsp;&nbsp;&nbsp;&nbsp;&nbsp;&nbsp;&nbsp;&nbsp;&nbsp;&nbsp;&nbsp;&nbsp;&nbsp;&nbsp;&nbsp;&nbsp;&nbsp;&nbsp;&nbsp;\\n      </span>DM 2,40 / </span><span lang=\\\"EN-GB\\\" style=\\\"font-size: 8.0pt; mso-bidi-font-size: 12.0pt; font-family: Book Antiqua; mso-ansi-language: EN-GB\\\">1,30&#128;</span><span lang=\\\"EN-GB\\\" style=\\\"font-size: 10.0pt; mso-bidi-font-size: 12.0pt; font-family: Book Antiqua; mso-ansi-language: EN-GB\\\"><span style=\\\"mso-tab-count:1\\\">&nbsp;&nbsp;&nbsp;&nbsp;&nbsp;&nbsp;&nbsp;&nbsp;&nbsp;&nbsp;&nbsp;&nbsp;&nbsp;&nbsp;&nbsp;&nbsp;&nbsp;&nbsp;&nbsp;&nbsp;&nbsp;&nbsp;&nbsp;&nbsp;&nbsp;&nbsp;&nbsp;&nbsp;&nbsp;&nbsp;&nbsp;&nbsp;&nbsp;&nbsp;&nbsp;\\n      </span>Gin-Tonic<span style=\\\"mso-tab-count:1\\\">&nbsp;&nbsp;&nbsp;&nbsp;&nbsp;&nbsp;&nbsp;&nbsp;&nbsp;&nbsp;&nbsp;&nbsp;&nbsp;&nbsp;&nbsp;&nbsp;&nbsp;&nbsp;&nbsp;&nbsp;&nbsp;&nbsp;&nbsp;\\n      </span>DM 6,00 / </span><span lang=\\\"EN-GB\\\" style=\\\"font-size: 8.0pt; mso-bidi-font-size: 12.0pt; font-family: Book Antiqua; mso-ansi-language: EN-GB\\\">3,10&#128;</span><span lang=\\\"EN-GB\\\" style=\\\"font-size: 10.0pt; mso-bidi-font-size: 12.0pt; font-family: Book Antiqua; mso-ansi-language: EN-GB\\\"><o:p>\\n      </o:p>\\n      </span><!--mstheme--></font></h4>\\n      <h4 style=\\\"tab-stops:100.5pt 248.25pt 347.25pt right 417.65pt;\\nmso-layout-grid-align:none;text-autospace:none\\\"><!--mstheme--><font color=\\\"#0033CC\\\"><span style=\\\"font-size: 10.0pt; mso-bidi-font-size: 12.0pt; font-family: Book Antiqua\\\">Wasser<span style=\\\"mso-tab-count:1\\\">&nbsp;&nbsp;&nbsp;&nbsp;&nbsp;&nbsp;&nbsp;&nbsp;&nbsp;&nbsp;&nbsp;&nbsp;&nbsp;&nbsp;&nbsp;&nbsp;&nbsp;&nbsp;&nbsp;&nbsp;&nbsp;&nbsp;&nbsp;&nbsp;&nbsp;&nbsp;&nbsp;&nbsp;&nbsp;\\n      </span>DM 2,70 / </span><span style=\\\"font-size: 8.0pt; mso-bidi-font-size: 12.0pt; font-family: Book Antiqua\\\">1,40&#128;</span><span style=\\\"font-size: 10.0pt; mso-bidi-font-size: 12.0pt; font-family: Book Antiqua\\\"><span style=\\\"mso-tab-count:\\n1\\\">&nbsp;&nbsp;&nbsp;&nbsp;&nbsp;&nbsp;&nbsp;&nbsp;&nbsp;&nbsp;&nbsp;&nbsp;&nbsp;&nbsp;&nbsp;&nbsp;&nbsp;&nbsp;&nbsp;&nbsp;&nbsp;&nbsp;&nbsp;&nbsp;&nbsp;&nbsp;&nbsp;&nbsp;&nbsp;&nbsp;&nbsp;&nbsp;&nbsp;&nbsp;&nbsp;\\n      </span>Asbach<span style=\\\"mso-tab-count:\\n1\\\">&nbsp;&nbsp;&nbsp;&nbsp;&nbsp;&nbsp;&nbsp;&nbsp;&nbsp;&nbsp;&nbsp;&nbsp;&nbsp;&nbsp;&nbsp;&nbsp;&nbsp;&nbsp;&nbsp;&nbsp;&nbsp;&nbsp;&nbsp;&nbsp;&nbsp;&nbsp;&nbsp;&nbsp;\\n      </span>DM 4,00 / </span><span style=\\\"font-size: 8.0pt; mso-bidi-font-size: 12.0pt; font-family: Book Antiqua\\\">2,10&#128;<o:p>\\n      </o:p>\\n      </span><!--mstheme--></font></h4>\\n      <h4 style=\\\"tab-stops:100.5pt 248.25pt 347.25pt right 417.65pt;\\nmso-layout-grid-align:none;text-autospace:none\\\"><!--mstheme--><font color=\\\"#0033CC\\\"><span style=\\\"font-size: 10.0pt; mso-bidi-font-size: 12.0pt; font-family: Book Antiqua\\\">&nbsp;<o:p>\\n      </o:p>\\n      </span><!--mstheme--></font></h4>\\n      <h4 style=\\\"tab-stops:100.5pt 246.75pt 345.0pt right 417.65pt;\\nmso-layout-grid-align:none;text-autospace:none\\\"><!--mstheme--><font color=\\\"#0033CC\\\"><span style=\\\"font-size: 10.0pt; mso-bidi-font-size: 12.0pt; font-family: Book Antiqua\\\">Fachinger<span style=\\\"mso-tab-count:1\\\">&nbsp;&nbsp;&nbsp;&nbsp;&nbsp;&nbsp;&nbsp;&nbsp;&nbsp;&nbsp;&nbsp;&nbsp;&nbsp;&nbsp;&nbsp;&nbsp;&nbsp;&nbsp;&nbsp;&nbsp;&nbsp;&nbsp;&nbsp;&nbsp;\\n      </span>DM 4,00 / </span><span style=\\\"font-size: 8.0pt; mso-bidi-font-size: 12.0pt; font-family: Book Antiqua\\\">2,10&#128;</span><span style=\\\"font-size: 10.0pt; mso-bidi-font-size: 12.0pt; font-family: Book Antiqua\\\"><span style=\\\"mso-tab-count:\\n1\\\">&nbsp;&nbsp;&nbsp;&nbsp;&nbsp;&nbsp;&nbsp;&nbsp;&nbsp;&nbsp;&nbsp;&nbsp;&nbsp;&nbsp;&nbsp;&nbsp;&nbsp;&nbsp;&nbsp;&nbsp;&nbsp;&nbsp;&nbsp;&nbsp;&nbsp;&nbsp;&nbsp;&nbsp;&nbsp;&nbsp;&nbsp;&nbsp;&nbsp;&nbsp;\\n      </span>Remi-Martin<span style=\\\"mso-tab-count:\\n1\\\">&nbsp;&nbsp;&nbsp;&nbsp;&nbsp;&nbsp;&nbsp;&nbsp;&nbsp;&nbsp;&nbsp;&nbsp;&nbsp;&nbsp;&nbsp;&nbsp;&nbsp;&nbsp;\\n      </span>DM 5,00 / </span><span style=\\\"font-size: 8.0pt; mso-bidi-font-size: 12.0pt; font-family: Book Antiqua\\\">2,60&#128;</span><span style=\\\"font-size: 10.0pt; mso-bidi-font-size: 12.0pt; font-family: Book Antiqua\\\"><o:p>\\n      </o:p>\\n      </span><!--mstheme--></font></h4>\\n      <h4 style=\\\"tab-stops:100.5pt 246.75pt 345.0pt right 417.65pt;\\nmso-layout-grid-align:none;text-autospace:none\\\"><!--mstheme--><font color=\\\"#0033CC\\\"><span style=\\\"font-size: 10.0pt; mso-bidi-font-size: 12.0pt; font-family: Book Antiqua\\\">Orangensaft<span style=\\\"mso-tab-count:1\\\">&nbsp;&nbsp;&nbsp;&nbsp;&nbsp;&nbsp;&nbsp;&nbsp;&nbsp;&nbsp;&nbsp;&nbsp;&nbsp;&nbsp;&nbsp;&nbsp;&nbsp;&nbsp;&nbsp;&nbsp;\\n      </span>DM 4,00 / </span><span style=\\\"font-size: 8.0pt; mso-bidi-font-size: 12.0pt; font-family: Book Antiqua\\\">2,10&#128;</span><span style=\\\"font-size: 10.0pt; mso-bidi-font-size: 12.0pt; font-family: Book Antiqua\\\"><span style=\\\"mso-tab-count:\\n1\\\">&nbsp;&nbsp;&nbsp;&nbsp;&nbsp;&nbsp;&nbsp;&nbsp;&nbsp;&nbsp;&nbsp;&nbsp;&nbsp;&nbsp;&nbsp;&nbsp;&nbsp;&nbsp;&nbsp;&nbsp;&nbsp;&nbsp;&nbsp;&nbsp;&nbsp;&nbsp;&nbsp;&nbsp;&nbsp;&nbsp;&nbsp;&nbsp;&nbsp;&nbsp;\\n      </span>Eierlik�r<span style=\\\"mso-tab-count:\\n1\\\">&nbsp;&nbsp;&nbsp;&nbsp;&nbsp;&nbsp;&nbsp;&nbsp;&nbsp;&nbsp;&nbsp;&nbsp;&nbsp;&nbsp;&nbsp;&nbsp;&nbsp;&nbsp;&nbsp;&nbsp;&nbsp;&nbsp;&nbsp;&nbsp;&nbsp;&nbsp;\\n      </span>DM 3,00 / </span><span style=\\\"font-size: 8.0pt; mso-bidi-font-size: 12.0pt; font-family: Book Antiqua\\\">1,60&#128;</span><span style=\\\"font-size: 10.0pt; mso-bidi-font-size: 12.0pt; font-family: Book Antiqua\\\"><o:p>\\n      </o:p>\\n      </span><!--mstheme--></font></h4>\\n      <h4 style=\\\"tab-stops:100.5pt 246.75pt 345.0pt right 417.65pt;\\nmso-layout-grid-align:none;text-autospace:none\\\"><!--mstheme--><font color=\\\"#0033CC\\\"><span style=\\\"font-size: 10.0pt; mso-bidi-font-size: 12.0pt; font-family: Book Antiqua\\\">Apfelsaft<span style=\\\"mso-tab-count:1\\\">&nbsp;&nbsp;&nbsp;&nbsp;&nbsp;&nbsp;&nbsp;&nbsp;&nbsp;&nbsp;&nbsp;&nbsp;&nbsp;&nbsp;&nbsp;&nbsp;&nbsp;&nbsp;&nbsp;&nbsp;&nbsp;&nbsp;&nbsp;&nbsp;&nbsp;&nbsp;\\n      </span>DM 3,20 / </span><span style=\\\"font-size: 8.0pt; mso-bidi-font-size: 12.0pt; font-family: Book Antiqua\\\">1,70&#128;</span><span style=\\\"font-size: 10.0pt; mso-bidi-font-size: 12.0pt; font-family: Book Antiqua\\\"><span style=\\\"mso-tab-count:\\n1\\\">&nbsp;&nbsp;&nbsp;&nbsp;&nbsp;&nbsp;&nbsp;&nbsp;&nbsp;&nbsp;&nbsp;&nbsp;&nbsp;&nbsp;&nbsp;&nbsp;&nbsp;&nbsp;&nbsp;&nbsp;&nbsp;&nbsp;&nbsp;&nbsp;&nbsp;&nbsp;&nbsp;&nbsp;&nbsp;&nbsp;&nbsp;&nbsp;&nbsp;&nbsp;\\n      </span>Amaretto<span style=\\\"mso-tab-count:\\n1\\\">&nbsp;&nbsp;&nbsp;&nbsp;&nbsp;&nbsp;&nbsp;&nbsp;&nbsp;&nbsp;&nbsp;&nbsp;&nbsp;&nbsp;&nbsp;&nbsp;&nbsp;&nbsp;&nbsp;&nbsp;&nbsp;&nbsp;&nbsp;&nbsp;&nbsp;\\n      </span>DM 3,50 / </span><span style=\\\"font-size: 8.0pt; mso-bidi-font-size: 12.0pt; font-family: Book Antiqua\\\">1,80&#128;<o:p>\\n      </o:p>\\n      </span><!--mstheme--></font></h4>\\n      <h4 style=\\\"tab-stops:100.5pt 246.75pt 345.0pt right 417.65pt;\\nmso-layout-grid-align:none;text-autospace:none\\\"><!--mstheme--><font color=\\\"#0033CC\\\"><span style=\\\"font-size: 10.0pt; mso-bidi-font-size: 12.0pt; font-family: Book Antiqua\\\">Traubensaft<span style=\\\"mso-tab-count:1\\\">&nbsp;&nbsp;&nbsp;&nbsp;&nbsp;&nbsp;&nbsp;&nbsp;&nbsp;&nbsp;&nbsp;&nbsp;&nbsp;&nbsp;&nbsp;&nbsp;&nbsp;&nbsp;&nbsp;&nbsp;\\n      </span>DM 3,50 / </span><span style=\\\"font-size: 8.0pt; mso-bidi-font-size: 12.0pt; font-family: Book Antiqua\\\">1,80&#128;</span><span style=\\\"font-size: 10.0pt; mso-bidi-font-size: 12.0pt; font-family: Book Antiqua\\\"><span style=\\\"mso-tab-count:\\n1\\\">&nbsp;&nbsp;&nbsp;&nbsp;&nbsp;&nbsp;&nbsp;&nbsp;&nbsp;&nbsp;&nbsp;&nbsp;&nbsp;&nbsp;&nbsp;&nbsp;&nbsp;&nbsp;&nbsp;&nbsp;&nbsp;&nbsp;&nbsp;&nbsp;&nbsp;&nbsp;&nbsp;&nbsp;&nbsp;&nbsp;&nbsp;&nbsp;&nbsp;&nbsp;\\n      </span>Underberg<span style=\\\"mso-tab-count:\\n1\\\">&nbsp;&nbsp;&nbsp;&nbsp;&nbsp;&nbsp;&nbsp;&nbsp;&nbsp;&nbsp;&nbsp;&nbsp;&nbsp;&nbsp;&nbsp;&nbsp;&nbsp;&nbsp;&nbsp;&nbsp;&nbsp;&nbsp;\\n      </span>DM 3,00 / </span><span style=\\\"font-size: 8.0pt; mso-bidi-font-size: 12.0pt; font-family: Book Antiqua\\\">1,60&#128;<o:p>\\n      </o:p>\\n      </span><!--mstheme--></font></h4>\\n      <h4 style=\\\"tab-stops:100.5pt 246.75pt 345.0pt right 417.65pt;\\nmso-layout-grid-align:none;text-autospace:none\\\"><!--mstheme--><font color=\\\"#0033CC\\\"><span style=\\\"font-size: 10.0pt; mso-bidi-font-size: 12.0pt; font-family: Book Antiqua\\\">Apfelschorle<span style=\\\"mso-tab-count:1\\\">&nbsp;&nbsp;&nbsp;&nbsp;&nbsp;&nbsp;&nbsp;&nbsp;&nbsp;&nbsp;&nbsp;&nbsp;&nbsp;&nbsp;&nbsp;&nbsp;&nbsp;&nbsp;&nbsp;\\n      </span>DM 4,00 / </span><span style=\\\"font-size: 8.0pt; mso-bidi-font-size: 12.0pt; font-family: Book Antiqua\\\">2,10&#128;</span><span style=\\\"font-size: 10.0pt; mso-bidi-font-size: 12.0pt; font-family: Book Antiqua\\\"><span style=\\\"mso-tab-count:\\n1\\\">&nbsp;&nbsp;&nbsp;&nbsp;&nbsp;&nbsp;&nbsp;&nbsp;&nbsp;&nbsp;&nbsp;&nbsp;&nbsp;&nbsp;&nbsp;&nbsp;&nbsp;&nbsp;&nbsp;&nbsp;&nbsp;&nbsp;&nbsp;&nbsp;&nbsp;&nbsp;&nbsp;&nbsp;&nbsp;&nbsp;&nbsp;&nbsp;&nbsp;&nbsp;\\n      </span>Rum<span style=\\\"mso-tab-count:\\n1\\\">&nbsp;&nbsp;&nbsp;&nbsp;&nbsp;&nbsp;&nbsp;&nbsp;&nbsp;&nbsp;&nbsp;&nbsp;&nbsp;&nbsp;&nbsp;&nbsp;&nbsp;&nbsp;&nbsp;&nbsp;&nbsp;&nbsp;&nbsp;&nbsp;&nbsp;&nbsp;&nbsp;&nbsp;&nbsp;&nbsp;&nbsp;&nbsp;&nbsp;\\n      </span>DM </span><span style=\\\"font-size: 10.0pt; mso-bidi-font-size: 12.0pt; font-family: Book Antiqua; mso-bidi-font-family: Arial\\\">3,50</span><span style=\\\"font-size: 8.0pt; mso-bidi-font-size: 12.0pt; font-family: Book Antiqua; mso-bidi-font-family: Arial\\\">\\n      / </span><span style=\\\"font-size: 8.0pt; mso-bidi-font-size: 12.0pt; font-family: Book Antiqua\\\">1,80&#128;</span><span style=\\\"font-size: 10.0pt; mso-bidi-font-size: 12.0pt; font-family: Book Antiqua\\\"><o:p>\\n      </o:p>\\n      </span><!--mstheme--></font></h4>\\n      <h4 style=\\\"tab-stops:100.5pt 246.75pt 345.0pt right 417.65pt;\\nmso-layout-grid-align:none;text-autospace:none\\\"><!--mstheme--><font color=\\\"#0033CC\\\"><span style=\\\"font-size: 10.0pt; mso-bidi-font-size: 12.0pt; font-family: Book Antiqua\\\">Bitter-Lemon<span style=\\\"mso-tab-count:1\\\">&nbsp;&nbsp;&nbsp;&nbsp;&nbsp;&nbsp;&nbsp;&nbsp;&nbsp;&nbsp;&nbsp;&nbsp;&nbsp;&nbsp;&nbsp;&nbsp;&nbsp;&nbsp;&nbsp;\\n      </span>DM 3,50 / </span><span style=\\\"font-size: 8.0pt; mso-bidi-font-size: 12.0pt; font-family: Book Antiqua\\\">1,80&#128;</span><span style=\\\"font-size: 10.0pt; mso-bidi-font-size: 12.0pt; font-family: Book Antiqua\\\"><span style=\\\"mso-tab-count:\\n1\\\">&nbsp;&nbsp;&nbsp;&nbsp;&nbsp;&nbsp;&nbsp;&nbsp;&nbsp;&nbsp;&nbsp;&nbsp;&nbsp;&nbsp;&nbsp;&nbsp;&nbsp;&nbsp;&nbsp;&nbsp;&nbsp;&nbsp;&nbsp;&nbsp;&nbsp;&nbsp;&nbsp;&nbsp;&nbsp;&nbsp;&nbsp;&nbsp;&nbsp;&nbsp;\\n      </span>K�mmerling<span style=\\\"mso-tab-count:\\n1\\\">&nbsp;&nbsp;&nbsp;&nbsp;&nbsp;&nbsp;&nbsp;&nbsp;&nbsp;&nbsp;&nbsp;&nbsp;&nbsp;&nbsp;&nbsp;&nbsp;&nbsp;&nbsp;\\n      </span>DM 3,00 / </span><span style=\\\"font-size: 8.0pt; mso-bidi-font-size: 12.0pt; font-family: Book Antiqua\\\">1,60&#128;<o:p>\\n      </o:p>\\n      </span><!--mstheme--></font></h4>\\n      <h4 style=\\\"tab-stops:100.5pt 246.75pt 345.0pt right 417.65pt;\\nmso-layout-grid-align:none;text-autospace:none\\\"><!--mstheme--><font color=\\\"#0033CC\\\"><span style=\\\"font-size: 10.0pt; mso-bidi-font-size: 12.0pt; font-family: Book Antiqua\\\">Tonicwasser<span style=\\\"mso-tab-count:1\\\">&nbsp;&nbsp;&nbsp;&nbsp;&nbsp;&nbsp;&nbsp;&nbsp;&nbsp;&nbsp;&nbsp;&nbsp;&nbsp;&nbsp;&nbsp;&nbsp;&nbsp;&nbsp;&nbsp;\\n      </span>DM 3,50 / </span><span style=\\\"font-size: 8.0pt; mso-bidi-font-size: 12.0pt; font-family: Book Antiqua\\\">1,80&#128;</span><span style=\\\"font-size: 10.0pt; mso-bidi-font-size: 12.0pt; font-family: Book Antiqua\\\"><span style=\\\"mso-tab-count:\\n1\\\">&nbsp;&nbsp;&nbsp;&nbsp;&nbsp;&nbsp;&nbsp;&nbsp;&nbsp;&nbsp;&nbsp;&nbsp;&nbsp;&nbsp;&nbsp;&nbsp;&nbsp;&nbsp;&nbsp;&nbsp;&nbsp;&nbsp;&nbsp;&nbsp;&nbsp;&nbsp;&nbsp;&nbsp;&nbsp;&nbsp;&nbsp;&nbsp;&nbsp;&nbsp;\\n      </span>Fernet<span style=\\\"mso-tab-count:\\n1\\\">&nbsp;&nbsp;&nbsp;&nbsp;&nbsp;&nbsp;&nbsp;&nbsp;&nbsp;&nbsp;&nbsp;&nbsp;&nbsp;&nbsp;&nbsp;&nbsp;&nbsp;&nbsp;&nbsp;&nbsp;&nbsp;&nbsp;&nbsp;&nbsp;&nbsp;&nbsp;&nbsp;&nbsp;&nbsp;&nbsp;&nbsp;\\n      </span>DM 3,00 / </span><span style=\\\"font-size: 8.0pt; mso-bidi-font-size: 12.0pt; font-family: Book Antiqua\\\">1,60&#128;<o:p>\\n      </o:p>\\n      </span><!--mstheme--></font></h4>\\n      <h4 style=\\\"tab-stops:100.5pt 246.75pt 345.0pt right 417.65pt;\\nmso-layout-grid-align:none;text-autospace:none\\\"><!--mstheme--><font color=\\\"#0033CC\\\"><span style=\\\"font-size: 10.0pt; mso-bidi-font-size: 12.0pt; font-family: Book Antiqua\\\">Korn<span style=\\\"mso-tab-count:1\\\">&nbsp;&nbsp;&nbsp;&nbsp;&nbsp;&nbsp;&nbsp;&nbsp;&nbsp;&nbsp;&nbsp;&nbsp;&nbsp;&nbsp;&nbsp;&nbsp;&nbsp;&nbsp;&nbsp;&nbsp;&nbsp;&nbsp;&nbsp;&nbsp;&nbsp;&nbsp;&nbsp;&nbsp;&nbsp;&nbsp;&nbsp;&nbsp;&nbsp;&nbsp;\\n      </span>DM 2,20 /</span><span style=\\\"font-size: 8.0pt; mso-bidi-font-size: 12.0pt; font-family: Book Antiqua\\\">\\n      1,20&#128;</span><span style=\\\"font-size: 10.0pt; mso-bidi-font-size: 12.0pt; font-family: Book Antiqua\\\"><span style=\\\"mso-tab-count:\\n1\\\">&nbsp;&nbsp;&nbsp;&nbsp;&nbsp;&nbsp;&nbsp;&nbsp;&nbsp;&nbsp;&nbsp;&nbsp;&nbsp;&nbsp;&nbsp;&nbsp;&nbsp;&nbsp;&nbsp;&nbsp;&nbsp;&nbsp;&nbsp;&nbsp;&nbsp;&nbsp;&nbsp;&nbsp;&nbsp;&nbsp;&nbsp;&nbsp;&nbsp;&nbsp;\\n      </span>Campari<span style=\\\"mso-tab-count:\\n1\\\">&nbsp;&nbsp;&nbsp;&nbsp;&nbsp;&nbsp;&nbsp;&nbsp;&nbsp;&nbsp;&nbsp;&nbsp;&nbsp;&nbsp;&nbsp;&nbsp;&nbsp;&nbsp;&nbsp;&nbsp;&nbsp;&nbsp;&nbsp;&nbsp;&nbsp;&nbsp;\\n      </span>DM 3,50 / </span><span style=\\\"font-size: 8.0pt; mso-bidi-font-size: 12.0pt; font-family: Book Antiqua\\\">1,80&#128;<o:p>\\n      </o:p>\\n      </span><!--mstheme--></font></h4>\\n      <h4 style=\\\"tab-stops:100.5pt 246.75pt 345.0pt right 417.65pt;\\nmso-layout-grid-align:none;text-autospace:none\\\"><!--mstheme--><font color=\\\"#0033CC\\\"><span style=\\\"font-size: 10.0pt; mso-bidi-font-size: 12.0pt; font-family: Book Antiqua\\\">Wacholder<span style=\\\"mso-tab-count:1\\\">&nbsp;&nbsp;&nbsp;&nbsp;&nbsp;&nbsp;&nbsp;&nbsp;&nbsp;&nbsp;&nbsp;&nbsp;&nbsp;&nbsp;&nbsp;&nbsp;&nbsp;&nbsp;&nbsp;&nbsp;&nbsp;&nbsp;\\n      </span>DM 2,20 / </span><span style=\\\"font-size: 8.0pt; mso-bidi-font-size: 12.0pt; font-family: Book Antiqua\\\">1,20&#128;</span><span style=\\\"font-size: 10.0pt; mso-bidi-font-size: 12.0pt; font-family: Book Antiqua\\\"><span style=\\\"mso-tab-count:\\n1\\\">&nbsp;&nbsp;&nbsp;&nbsp;&nbsp;&nbsp;&nbsp;&nbsp;&nbsp;&nbsp;&nbsp;&nbsp;&nbsp;&nbsp;&nbsp;&nbsp;&nbsp;&nbsp;&nbsp;&nbsp;&nbsp;&nbsp;&nbsp;&nbsp;&nbsp;&nbsp;&nbsp;&nbsp;&nbsp;&nbsp;&nbsp;&nbsp;&nbsp;&nbsp;\\n      </span>Campari-Orange<span style=\\\"mso-tab-count:1\\\">&nbsp;&nbsp;&nbsp;&nbsp;&nbsp;&nbsp;&nbsp;&nbsp;&nbsp;&nbsp;\\n      </span>DM 6,00 / </span><span style=\\\"font-size: 8.0pt; mso-bidi-font-size: 12.0pt; font-family: Book Antiqua\\\">3,10&#128;<o:p>\\n      </o:p>\\n      </span><!--mstheme--></font></h4>\\n      <h4 style=\\\"tab-stops:100.5pt 246.75pt 345.0pt right 417.65pt;\\nmso-layout-grid-align:none;text-autospace:none\\\"><!--mstheme--><font color=\\\"#0033CC\\\"><span style=\\\"font-size: 10.0pt; mso-bidi-font-size: 12.0pt; font-family: Book Antiqua\\\">Gespritzter<span style=\\\"mso-tab-count:1\\\">&nbsp;&nbsp;&nbsp;&nbsp;&nbsp;&nbsp;&nbsp;&nbsp;&nbsp;&nbsp;&nbsp;&nbsp;&nbsp;&nbsp;&nbsp;&nbsp;&nbsp;&nbsp;&nbsp;&nbsp;&nbsp;&nbsp;\\n      </span>DM 2,20 / </span><span style=\\\"font-size: 8.0pt; mso-bidi-font-size: 12.0pt; font-family: Book Antiqua\\\">1,20&#128;</span><span style=\\\"font-size: 10.0pt; mso-bidi-font-size: 12.0pt; font-family: Book Antiqua\\\"><span style=\\\"mso-tab-count:\\n1\\\">&nbsp;&nbsp;&nbsp;&nbsp;&nbsp;&nbsp;&nbsp;&nbsp;&nbsp;&nbsp;&nbsp;&nbsp;&nbsp;&nbsp;&nbsp;&nbsp;&nbsp;&nbsp;&nbsp;&nbsp;&nbsp;&nbsp;&nbsp;&nbsp;&nbsp;&nbsp;&nbsp;&nbsp;&nbsp;&nbsp;&nbsp;&nbsp;&nbsp;&nbsp;\\n      </span>Jubi-Aquavit<span style=\\\"mso-tab-count:1\\\">&nbsp;&nbsp;&nbsp;&nbsp;&nbsp;&nbsp;&nbsp;&nbsp;&nbsp;&nbsp;&nbsp;&nbsp;&nbsp;&nbsp;&nbsp;&nbsp;&nbsp;&nbsp;\\n      </span>DM 4,00 / </span><span style=\\\"font-size: 8.0pt; mso-bidi-font-size: 12.0pt; font-family: Book Antiqua\\\">2,10&#128;<o:p>\\n      </o:p>\\n      </span><!--mstheme--></font></h4>\\n      <h4 style=\\\"tab-stops:100.5pt 246.75pt 345.0pt right 417.65pt;\\nmso-layout-grid-align:none;text-autospace:none\\\"><!--mstheme--><font color=\\\"#0033CC\\\"><span style=\\\"font-size: 10.0pt; mso-bidi-font-size: 12.0pt; font-family: Book Antiqua\\\">&nbsp;<o:p>\\n      </o:p>\\n      </span><!--mstheme--></font></h4>\\n      <h4 style=\\\"tab-stops:99.75pt 291.75pt right 417.65pt;mso-layout-grid-align:\\nnone;text-autospace:none\\\"><!--mstheme--><font color=\\\"#0033CC\\\"><span style=\\\"font-size: 10.0pt; mso-bidi-font-size: 12.0pt; font-family: Book Antiqua\\\">Roter\\n      Jenever<span style=\\\"mso-tab-count:1\\\">&nbsp;&nbsp;&nbsp;&nbsp;&nbsp;&nbsp;&nbsp;&nbsp;&nbsp;&nbsp;&nbsp;&nbsp;&nbsp;&nbsp;&nbsp;&nbsp;&nbsp;&nbsp;\\n      </span>DM 2,20 / </span><span style=\\\"font-size: 8.0pt; mso-bidi-font-size: 12.0pt; font-family: Book Antiqua\\\">1,20&#128;<o:p>\\n      </o:p>\\n      </span><!--mstheme--></font></h4>\\n      <h4 style=\\\"tab-stops:99.75pt 291.75pt right 417.65pt;mso-layout-grid-align:\\nnone;text-autospace:none\\\"><!--mstheme--><font color=\\\"#0033CC\\\"><span style=\\\"font-size: 10.0pt; mso-bidi-font-size: 12.0pt; font-family: Book Antiqua\\\">Bismark<span style=\\\"mso-tab-count:1\\\">&nbsp;&nbsp;&nbsp;&nbsp;&nbsp;&nbsp;&nbsp;&nbsp;&nbsp;&nbsp;&nbsp;&nbsp;&nbsp;&nbsp;&nbsp;&nbsp;&nbsp;&nbsp;&nbsp;&nbsp;&nbsp;&nbsp;&nbsp;&nbsp;&nbsp;&nbsp;&nbsp;\\n      </span>DM 2,50 / </span><span style=\\\"font-size: 8.0pt; mso-bidi-font-size: 12.0pt; font-family: Book Antiqua\\\">1,30&#128;</span><span style=\\\"font-size: 10.0pt; mso-bidi-font-size: 12.0pt; font-family: Book Antiqua\\\"><o:p>\\n      </o:p>\\n      </span><!--mstheme--></font></h4>\\n      <h4 style=\\\"tab-stops:99.75pt 291.75pt right 417.65pt;mso-layout-grid-align:\\nnone;text-autospace:none\\\"><!--mstheme--><font color=\\\"#0033CC\\\"><span style=\\\"font-size: 10.0pt; mso-bidi-font-size: 12.0pt; font-family: Book Antiqua\\\">Kab�nes<span style=\\\"mso-tab-count:1\\\">&nbsp;&nbsp;&nbsp;&nbsp;&nbsp;&nbsp;&nbsp;&nbsp;&nbsp;&nbsp;&nbsp;&nbsp;&nbsp;&nbsp;&nbsp;&nbsp;&nbsp;&nbsp;&nbsp;&nbsp;&nbsp;&nbsp;&nbsp;&nbsp;&nbsp;&nbsp;&nbsp;\\n      </span>DM 2,80 / </span><span style=\\\"font-size: 8.0pt; mso-bidi-font-size: 12.0pt; font-family: Book Antiqua\\\">1,50&#128;</span><span style=\\\"mso-tab-count: 1; font-size: 10.0pt; mso-bidi-font-size: 12.0pt; font-family: Book Antiqua\\\">&nbsp;&nbsp;&nbsp;&nbsp;&nbsp;&nbsp;&nbsp;&nbsp;&nbsp;&nbsp;&nbsp;&nbsp;&nbsp;&nbsp;&nbsp;&nbsp;&nbsp;&nbsp;&nbsp;&nbsp;&nbsp;&nbsp;&nbsp;&nbsp;&nbsp;&nbsp;&nbsp;&nbsp;&nbsp;&nbsp;&nbsp;&nbsp;&nbsp;&nbsp;&nbsp;&nbsp;&nbsp;&nbsp;&nbsp;&nbsp;&nbsp;&nbsp;&nbsp;&nbsp;&nbsp;&nbsp;&nbsp;&nbsp;&nbsp;&nbsp;&nbsp;&nbsp;&nbsp;&nbsp;\\n      </span><span style=\\\"font-size: 20.0pt; mso-bidi-font-size: 12.0pt; font-family: Book Antiqua\\\">Biere</span><span style=\\\"font-size: 17.0pt; mso-bidi-font-size: 12.0pt; font-family: Book Antiqua\\\"><o:p>\\n      </o:p>\\n      </span><!--mstheme--></font></h4>\\n      <h4 style=\\\"tab-stops:99.75pt 291.75pt right 417.65pt;mso-layout-grid-align:\\nnone;text-autospace:none\\\"><!--mstheme--><font color=\\\"#0033CC\\\"><span style=\\\"font-size: 10.0pt; mso-bidi-font-size: 12.0pt; font-family: Book Antiqua\\\">Maltheser<span style=\\\"mso-tab-count:1\\\">&nbsp;&nbsp;&nbsp;&nbsp;&nbsp;&nbsp;&nbsp;&nbsp;&nbsp;&nbsp;&nbsp;&nbsp;&nbsp;&nbsp;&nbsp;&nbsp;&nbsp;&nbsp;&nbsp;&nbsp;&nbsp;&nbsp;&nbsp;&nbsp;\\n      </span>DM 3,50 / </span><span style=\\\"font-size: 8.0pt; mso-bidi-font-size: 12.0pt; font-family: Book Antiqua\\\">1,80&#128;<o:p>\\n      </o:p>\\n      </span><!--mstheme--></font></h4>\\n      <h4 style=\\\"tab-stops:99.75pt 291.75pt right 417.65pt;mso-layout-grid-align:\\nnone;text-autospace:none\\\"><!--mstheme--><font color=\\\"#0033CC\\\"><span style=\\\"font-size: 10.0pt; mso-bidi-font-size: 12.0pt; font-family: Book Antiqua\\\">&nbsp;<o:p>\\n      </o:p>\\n      </span><!--mstheme--></font></h4>\\n      <h4 style=\\\"text-align:justify;mso-layout-grid-align:none;\\ntext-autospace:none\\\"><!--mstheme--><font color=\\\"#0033CC\\\"><span style=\\\"font-size: 10.0pt; mso-bidi-font-size: 12.0pt; font-family: Book Antiqua\\\">Alkoholfreies\\n      Bier<span style=\\\"mso-spacerun: yes\\\">&nbsp;&nbsp;&nbsp;&nbsp;&nbsp;&nbsp;&nbsp;\\n      </span>DM 3,70 / </span><span style=\\\"font-size: 8.0pt; mso-bidi-font-size: 12.0pt; font-family: Book Antiqua\\\">1,90&#128;</span><span style=\\\"font-size: 10.0pt; mso-bidi-font-size: 12.0pt; font-family: Book Antiqua\\\"><o:p>\\n      </o:p>\\n      </span><!--mstheme--></font></h4>\\n      <h4 style=\\\"mso-layout-grid-align:none;text-autospace:none\\\"><!--mstheme--><font color=\\\"#0033CC\\\"><span style=\\\"font-size: 10.0pt; mso-bidi-font-size: 12.0pt; font-family: Book Antiqua\\\">&nbsp;<o:p>\\n      </o:p>\\n      </span><!--mstheme--></font></h4>\\n      <h4 style=\\\"tab-stops:101.25pt 252.75pt 360.0pt right 417.65pt;\\nmso-layout-grid-align:none;text-autospace:none\\\"><!--mstheme--><font color=\\\"#0033CC\\\"><span style=\\\"font-size: 10.0pt; mso-bidi-font-size: 12.0pt; font-family: Book Antiqua\\\">Bommulunder<span style=\\\"mso-tab-count:1\\\">&nbsp;&nbsp;&nbsp;&nbsp;&nbsp;&nbsp;&nbsp;&nbsp;&nbsp;&nbsp;&nbsp;&nbsp;&nbsp;&nbsp;&nbsp;&nbsp;\\n      </span>DM 3,20 / </span><span style=\\\"font-size: 8.0pt; mso-bidi-font-size: 12.0pt; font-family: Book Antiqua\\\">1,70&#128;<o:p>\\n      </o:p>\\n      </span><!--mstheme--></font></h4>\\n      <h4 style=\\\"tab-stops:101.25pt 252.75pt 360.0pt right 417.65pt;\\nmso-layout-grid-align:none;text-autospace:none\\\"><!--mstheme--><font color=\\\"#0033CC\\\"><span style=\\\"font-size: 10.0pt; mso-bidi-font-size: 12.0pt; font-family: Book Antiqua\\\"><span style=\\\"mso-tab-count:2\\\">&nbsp;&nbsp;&nbsp;&nbsp;&nbsp;&nbsp;&nbsp;&nbsp;&nbsp;&nbsp;&nbsp;&nbsp;&nbsp;&nbsp;&nbsp;&nbsp;&nbsp;&nbsp;&nbsp;&nbsp;&nbsp;&nbsp;&nbsp;&nbsp;&nbsp;&nbsp;&nbsp;&nbsp;&nbsp;&nbsp;&nbsp;&nbsp;&nbsp;&nbsp;&nbsp;&nbsp;&nbsp;&nbsp;&nbsp;&nbsp;&nbsp;&nbsp;&nbsp;&nbsp;&nbsp;&nbsp;&nbsp;&nbsp;&nbsp;&nbsp;&nbsp;&nbsp;&nbsp;&nbsp;&nbsp;&nbsp;&nbsp;&nbsp;&nbsp;&nbsp;&nbsp;&nbsp;&nbsp;&nbsp;&nbsp;&nbsp;&nbsp;&nbsp;&nbsp;&nbsp;&nbsp;&nbsp;&nbsp;&nbsp;&nbsp;&nbsp;&nbsp;&nbsp;&nbsp;&nbsp;&nbsp;&nbsp;&nbsp;&nbsp;&nbsp;&nbsp;&nbsp;&nbsp;&nbsp;&nbsp;&nbsp;&nbsp;&nbsp;&nbsp;&nbsp;&nbsp;&nbsp;&nbsp;&nbsp;&nbsp;&nbsp;&nbsp;&nbsp;&nbsp;&nbsp;&nbsp;&nbsp;&nbsp;&nbsp;&nbsp;&nbsp;\\n      </span>Pils 0,3<span style=\\\"mso-tab-count:1\\\">&nbsp;&nbsp;&nbsp;&nbsp;&nbsp;&nbsp;&nbsp;&nbsp;&nbsp;&nbsp;&nbsp;&nbsp;&nbsp;&nbsp;&nbsp;&nbsp;&nbsp;&nbsp;&nbsp;&nbsp;&nbsp;&nbsp;&nbsp;&nbsp;&nbsp;&nbsp;&nbsp;&nbsp;&nbsp;&nbsp;&nbsp;&nbsp;&nbsp;\\n      </span>DM<span style=\\\"mso-spacerun: yes\\\">&nbsp; </span>3,50 / </span><span style=\\\"font-size: 8.0pt; mso-bidi-font-size: 12.0pt; font-family: Book Antiqua\\\">1,80&#128;<o:p>\\n      </o:p>\\n      </span><!--mstheme--></font></h4>\\n      <h4 style=\\\"tab-stops:101.25pt 252.75pt 360.0pt right 417.65pt;\\nmso-layout-grid-align:none;text-autospace:none\\\"><!--mstheme--><font color=\\\"#0033CC\\\"><span style=\\\"font-size: 10.0pt; mso-bidi-font-size: 12.0pt; font-family: Book Antiqua\\\">Kirschwasser<span style=\\\"mso-tab-count:1\\\">&nbsp;&nbsp;&nbsp;&nbsp;&nbsp;&nbsp;&nbsp;&nbsp;&nbsp;&nbsp;&nbsp;&nbsp;&nbsp;&nbsp;&nbsp;&nbsp;&nbsp;&nbsp;\\n      </span>DM 4,00 / </span><span style=\\\"font-size: 8.0pt; mso-bidi-font-size: 12.0pt; font-family: Book Antiqua\\\">2,10&#128;<o:p>\\n      </o:p>\\n      </span><!--mstheme--></font></h4>\\n      <h4 style=\\\"tab-stops:101.25pt 252.75pt 360.0pt right 417.65pt;\\nmso-layout-grid-align:none;text-autospace:none\\\"><!--mstheme--><font color=\\\"#0033CC\\\"><span style=\\\"font-size: 10.0pt; mso-bidi-font-size: 12.0pt; font-family: Book Antiqua\\\"><span style=\\\"mso-tab-count:2\\\">&nbsp;&nbsp;&nbsp;&nbsp;&nbsp;&nbsp;&nbsp;&nbsp;&nbsp;&nbsp;&nbsp;&nbsp;&nbsp;&nbsp;&nbsp;&nbsp;&nbsp;&nbsp;&nbsp;&nbsp;&nbsp;&nbsp;&nbsp;&nbsp;&nbsp;&nbsp;&nbsp;&nbsp;&nbsp;&nbsp;&nbsp;&nbsp;&nbsp;&nbsp;&nbsp;&nbsp;&nbsp;&nbsp;&nbsp;&nbsp;&nbsp;&nbsp;&nbsp;&nbsp;&nbsp;&nbsp;&nbsp;&nbsp;&nbsp;&nbsp;&nbsp;&nbsp;&nbsp;&nbsp;&nbsp;&nbsp;&nbsp;&nbsp;&nbsp;&nbsp;&nbsp;&nbsp;&nbsp;&nbsp;&nbsp;&nbsp;&nbsp;&nbsp;&nbsp;&nbsp;&nbsp;&nbsp;&nbsp;&nbsp;&nbsp;&nbsp;&nbsp;&nbsp;&nbsp;&nbsp;&nbsp;&nbsp;&nbsp;&nbsp;&nbsp;&nbsp;&nbsp;&nbsp;&nbsp;&nbsp;&nbsp;&nbsp;&nbsp;&nbsp;&nbsp;&nbsp;&nbsp;&nbsp;&nbsp;&nbsp;&nbsp;&nbsp;&nbsp;&nbsp;&nbsp;&nbsp;&nbsp;&nbsp;&nbsp;&nbsp;&nbsp;\\n      </span>Pils 0,2<span style=\\\"mso-tab-count:1\\\">&nbsp;&nbsp;&nbsp;&nbsp;&nbsp;&nbsp;&nbsp;&nbsp;&nbsp;&nbsp;&nbsp;&nbsp;&nbsp;&nbsp;&nbsp;&nbsp;&nbsp;&nbsp;&nbsp;&nbsp;&nbsp;&nbsp;&nbsp;&nbsp;&nbsp;&nbsp;&nbsp;&nbsp;&nbsp;&nbsp;&nbsp;&nbsp;&nbsp;\\n      </span>DM<span style=\\\"mso-spacerun: yes\\\">&nbsp; </span>2,30 / </span><span style=\\\"font-size: 8.0pt; mso-bidi-font-size: 12.0pt; font-family: Book Antiqua\\\">1,20&#128;</span><span style=\\\"font-size: 10.0pt; mso-bidi-font-size: 12.0pt; font-family: Book Antiqua\\\"><o:p>\\n      </o:p>\\n      </span><!--mstheme--></font></h4>\\n      <h4 style=\\\"tab-stops:101.25pt 252.75pt 360.0pt right 417.65pt;\\nmso-layout-grid-align:none;text-autospace:none\\\"><!--mstheme--><font color=\\\"#0033CC\\\"><span style=\\\"font-size: 10.0pt; mso-bidi-font-size: 12.0pt; font-family: Book Antiqua\\\">Himbeergeist<span style=\\\"mso-tab-count:1\\\">&nbsp;&nbsp;&nbsp;&nbsp;&nbsp;&nbsp;&nbsp;&nbsp;&nbsp;&nbsp;&nbsp;&nbsp;&nbsp;&nbsp;&nbsp;&nbsp;&nbsp;&nbsp;\\n      </span>DM 4,00 / </span><span style=\\\"font-size: 8.0pt; mso-bidi-font-size: 12.0pt; font-family: Book Antiqua\\\">2,10&#128;<o:p>\\n      </o:p>\\n      </span><!--mstheme--></font></h4>\\n      <h4 style=\\\"tab-stops:101.25pt 252.75pt 360.0pt right 417.65pt;\\nmso-layout-grid-align:none;text-autospace:none\\\"><!--mstheme--><font color=\\\"#0033CC\\\"><span style=\\\"font-size: 10.0pt; mso-bidi-font-size: 12.0pt; font-family: Book Antiqua\\\"><span style=\\\"mso-tab-count:2\\\">&nbsp;&nbsp;&nbsp;&nbsp;&nbsp;&nbsp;&nbsp;&nbsp;&nbsp;&nbsp;&nbsp;&nbsp;&nbsp;&nbsp;&nbsp;&nbsp;&nbsp;&nbsp;&nbsp;&nbsp;&nbsp;&nbsp;&nbsp;&nbsp;&nbsp;&nbsp;&nbsp;&nbsp;&nbsp;&nbsp;&nbsp;&nbsp;&nbsp;&nbsp;&nbsp;&nbsp;&nbsp;&nbsp;&nbsp;&nbsp;&nbsp;&nbsp;&nbsp;&nbsp;&nbsp;&nbsp;&nbsp;&nbsp;&nbsp;&nbsp;&nbsp;&nbsp;&nbsp;&nbsp;&nbsp;&nbsp;&nbsp;&nbsp;&nbsp;&nbsp;&nbsp;&nbsp;&nbsp;&nbsp;&nbsp;&nbsp;&nbsp;&nbsp;&nbsp;&nbsp;&nbsp;&nbsp;&nbsp;&nbsp;&nbsp;&nbsp;&nbsp;&nbsp;&nbsp;&nbsp;&nbsp;&nbsp;&nbsp;&nbsp;&nbsp;&nbsp;&nbsp;&nbsp;&nbsp;&nbsp;&nbsp;&nbsp;&nbsp;&nbsp;&nbsp;&nbsp;&nbsp;&nbsp;&nbsp;&nbsp;&nbsp;&nbsp;&nbsp;&nbsp;&nbsp;&nbsp;&nbsp;&nbsp;&nbsp;&nbsp;&nbsp;\\n      </span>K�lsch 0,3<span style=\\\"mso-tab-count:1\\\">&nbsp;&nbsp;&nbsp;&nbsp;&nbsp;&nbsp;&nbsp;&nbsp;&nbsp;&nbsp;&nbsp;&nbsp;&nbsp;&nbsp;&nbsp;&nbsp;&nbsp;&nbsp;&nbsp;&nbsp;&nbsp;&nbsp;&nbsp;&nbsp;&nbsp;&nbsp;&nbsp;\\n      </span>DM<span style=\\\"mso-spacerun: yes\\\">&nbsp; </span>3,50 / </span><span style=\\\"font-size: 8.0pt; mso-bidi-font-size: 12.0pt; font-family: Book Antiqua\\\">1,80&#128;<o:p>\\n      </o:p>\\n      </span><!--mstheme--></font></h4>\\n      <h4 style=\\\"tab-stops:101.25pt 252.75pt 360.0pt right 417.65pt;\\nmso-layout-grid-align:none;text-autospace:none\\\"><!--mstheme--><font color=\\\"#0033CC\\\"><span style=\\\"font-size: 10.0pt; mso-bidi-font-size: 12.0pt; font-family: Book Antiqua\\\">Williamsbirne<span style=\\\"mso-tab-count:1\\\">&nbsp;&nbsp;&nbsp;&nbsp;&nbsp;&nbsp;&nbsp;&nbsp;&nbsp;&nbsp;&nbsp;&nbsp;&nbsp;&nbsp;&nbsp;&nbsp;\\n      </span>DM 4,00 / </span><span style=\\\"font-size: 8.0pt; mso-bidi-font-size: 12.0pt; font-family: Book Antiqua\\\">2,10&#128;<o:p>\\n      </o:p>\\n      </span><!--mstheme--></font></h4>\\n      <h4 style=\\\"tab-stops:101.25pt 252.75pt 360.0pt right 417.65pt;\\nmso-layout-grid-align:none;text-autospace:none\\\"><!--mstheme--><font color=\\\"#0033CC\\\"><span style=\\\"font-size: 10.0pt; mso-bidi-font-size: 12.0pt; font-family: Book Antiqua\\\"><span style=\\\"mso-tab-count:2\\\">&nbsp;&nbsp;&nbsp;&nbsp;&nbsp;&nbsp;&nbsp;&nbsp;&nbsp;&nbsp;&nbsp;&nbsp;&nbsp;&nbsp;&nbsp;&nbsp;&nbsp;&nbsp;&nbsp;&nbsp;&nbsp;&nbsp;&nbsp;&nbsp;&nbsp;&nbsp;&nbsp;&nbsp;&nbsp;&nbsp;&nbsp;&nbsp;&nbsp;&nbsp;&nbsp;&nbsp;&nbsp;&nbsp;&nbsp;&nbsp;&nbsp;&nbsp;&nbsp;&nbsp;&nbsp;&nbsp;&nbsp;&nbsp;&nbsp;&nbsp;&nbsp;&nbsp;&nbsp;&nbsp;&nbsp;&nbsp;&nbsp;&nbsp;&nbsp;&nbsp;&nbsp;&nbsp;&nbsp;&nbsp;&nbsp;&nbsp;&nbsp;&nbsp;&nbsp;&nbsp;&nbsp;&nbsp;&nbsp;&nbsp;&nbsp;&nbsp;&nbsp;&nbsp;&nbsp;&nbsp;&nbsp;&nbsp;&nbsp;&nbsp;&nbsp;&nbsp;&nbsp;&nbsp;&nbsp;&nbsp;&nbsp;&nbsp;&nbsp;&nbsp;&nbsp;&nbsp;&nbsp;&nbsp;&nbsp;&nbsp;&nbsp;&nbsp;&nbsp;&nbsp;&nbsp;&nbsp;&nbsp;&nbsp;&nbsp;&nbsp;&nbsp;\\n      </span>K�lsch 0,2<span style=\\\"mso-tab-count:1\\\">&nbsp;&nbsp;&nbsp;&nbsp;&nbsp;&nbsp;&nbsp;&nbsp;&nbsp;&nbsp;&nbsp;&nbsp;&nbsp;&nbsp;&nbsp;&nbsp;&nbsp;&nbsp;&nbsp;&nbsp;&nbsp;&nbsp;&nbsp;&nbsp;&nbsp;&nbsp;&nbsp;\\n      </span>DM<span style=\\\"mso-spacerun: yes\\\">&nbsp; </span>2,3o / </span><span style=\\\"font-size: 8.0pt; mso-bidi-font-size: 12.0pt; font-family: Book Antiqua\\\">1,20&#128;<o:p>\\n      </o:p>\\n      </span><!--mstheme--></font></h4>\\n      <h4 style=\\\"tab-stops:101.25pt 252.75pt 360.0pt right 417.65pt;\\nmso-layout-grid-align:none;text-autospace:none\\\"><!--mstheme--><font color=\\\"#0033CC\\\"><span style=\\\"font-size: 10.0pt; mso-bidi-font-size: 12.0pt; font-family: Book Antiqua\\\">Obstler<span style=\\\"mso-tab-count:1\\\">&nbsp;&nbsp;&nbsp;&nbsp;&nbsp;&nbsp;&nbsp;&nbsp;&nbsp;&nbsp;&nbsp;&nbsp;&nbsp;&nbsp;&nbsp;&nbsp;&nbsp;&nbsp;&nbsp;&nbsp;&nbsp;&nbsp;&nbsp;&nbsp;&nbsp;&nbsp;&nbsp;&nbsp;&nbsp;&nbsp;\\n      </span>DM 4,00 / </span><span style=\\\"font-size: 8.0pt; mso-bidi-font-size: 12.0pt; font-family: Book Antiqua\\\">2,10&#128;<o:p>\\n      </o:p>\\n      </span><!--mstheme--></font></h4>\\n      <h4 style=\\\"tab-stops:101.25pt 252.75pt 360.0pt right 417.65pt;\\nmso-layout-grid-align:none;text-autospace:none\\\"><!--mstheme--><font color=\\\"#0033CC\\\"><span style=\\\"font-size: 10.0pt; mso-bidi-font-size: 12.0pt; font-family: Book Antiqua\\\"><span style=\\\"mso-tab-count:2\\\">&nbsp;&nbsp;&nbsp;&nbsp;&nbsp;&nbsp;&nbsp;&nbsp;&nbsp;&nbsp;&nbsp;&nbsp;&nbsp;&nbsp;&nbsp;&nbsp;&nbsp;&nbsp;&nbsp;&nbsp;&nbsp;&nbsp;&nbsp;&nbsp;&nbsp;&nbsp;&nbsp;&nbsp;&nbsp;&nbsp;&nbsp;&nbsp;&nbsp;&nbsp;&nbsp;&nbsp;&nbsp;&nbsp;&nbsp;&nbsp;&nbsp;&nbsp;&nbsp;&nbsp;&nbsp;&nbsp;&nbsp;&nbsp;&nbsp;&nbsp;&nbsp;&nbsp;&nbsp;&nbsp;&nbsp;&nbsp;&nbsp;&nbsp;&nbsp;&nbsp;&nbsp;&nbsp;&nbsp;&nbsp;&nbsp;&nbsp;&nbsp;&nbsp;&nbsp;&nbsp;&nbsp;&nbsp;&nbsp;&nbsp;&nbsp;&nbsp;&nbsp;&nbsp;&nbsp;&nbsp;&nbsp;&nbsp;&nbsp;&nbsp;&nbsp;&nbsp;&nbsp;&nbsp;&nbsp;&nbsp;&nbsp;&nbsp;&nbsp;&nbsp;&nbsp;&nbsp;&nbsp;&nbsp;&nbsp;&nbsp;&nbsp;&nbsp;&nbsp;&nbsp;&nbsp;&nbsp;&nbsp;&nbsp;&nbsp;&nbsp;&nbsp;\\n      </span>Veltins 0,3<span style=\\\"mso-tab-count:1\\\">&nbsp;&nbsp;&nbsp;&nbsp;&nbsp;&nbsp;&nbsp;&nbsp;&nbsp;&nbsp;&nbsp;&nbsp;&nbsp;&nbsp;&nbsp;&nbsp;&nbsp;&nbsp;&nbsp;&nbsp;&nbsp;&nbsp;&nbsp;&nbsp;&nbsp;&nbsp;\\n      </span>DM<span style=\\\"mso-spacerun: yes\\\">&nbsp; </span>3,80 / </span><span style=\\\"font-size: 8.0pt; mso-bidi-font-size: 12.0pt; font-family: Book Antiqua\\\">2,00&#128;</span><span style=\\\"font-size: 10.0pt; mso-bidi-font-size: 12.0pt; font-family: Book Antiqua\\\"><o:p>\\n      </o:p>\\n      </span><!--mstheme--></font></h4>\\n      <h4 style=\\\"tab-stops:101.25pt 252.75pt 360.0pt right 417.65pt;\\nmso-layout-grid-align:none;text-autospace:none\\\"><!--mstheme--><font color=\\\"#0033CC\\\"><span style=\\\"font-size: 10.0pt; mso-bidi-font-size: 12.0pt; font-family: Book Antiqua\\\"><span style=\\\"mso-tab-count:2\\\">&nbsp;&nbsp;&nbsp;&nbsp;&nbsp;&nbsp;&nbsp;&nbsp;&nbsp;&nbsp;&nbsp;&nbsp;&nbsp;&nbsp;&nbsp;&nbsp;&nbsp;&nbsp;&nbsp;&nbsp;&nbsp;&nbsp;&nbsp;&nbsp;&nbsp;&nbsp;&nbsp;&nbsp;&nbsp;&nbsp;&nbsp;&nbsp;&nbsp;&nbsp;&nbsp;&nbsp;&nbsp;&nbsp;&nbsp;&nbsp;&nbsp;&nbsp;&nbsp;&nbsp;&nbsp;&nbsp;&nbsp;&nbsp;&nbsp;&nbsp;&nbsp;&nbsp;&nbsp;&nbsp;&nbsp;&nbsp;&nbsp;&nbsp;&nbsp;&nbsp;&nbsp;&nbsp;&nbsp;&nbsp;&nbsp;&nbsp;&nbsp;&nbsp;&nbsp;&nbsp;&nbsp;&nbsp;&nbsp;&nbsp;&nbsp;&nbsp;&nbsp;&nbsp;&nbsp;&nbsp;&nbsp;&nbsp;&nbsp;&nbsp;&nbsp;&nbsp;&nbsp;&nbsp;&nbsp;&nbsp;&nbsp;&nbsp;&nbsp;&nbsp;&nbsp;&nbsp;&nbsp;&nbsp;&nbsp;&nbsp;&nbsp;&nbsp;&nbsp;&nbsp;&nbsp;&nbsp;&nbsp;&nbsp;&nbsp;&nbsp;&nbsp;\\n      </span><o:p>\\n      </o:p>\\n      </span><!--mstheme--></font></h4>\\n      <h4 style=\\\"tab-stops:101.25pt 252.75pt 360.0pt right 417.65pt;\\nmso-layout-grid-align:none;text-autospace:none\\\"><!--mstheme--><font color=\\\"#0033CC\\\"><span style=\\\"font-size: 10.0pt; mso-bidi-font-size: 12.0pt; font-family: Book Antiqua\\\"><span style=\\\"mso-spacerun: yes\\\">&nbsp;&nbsp;&nbsp;&nbsp;&nbsp;&nbsp;&nbsp;&nbsp;\\n      </span><span style=\\\"mso-spacerun:\\nyes\\\">&nbsp;&nbsp;&nbsp;&nbsp;&nbsp;&nbsp;&nbsp;&nbsp;&nbsp;&nbsp;&nbsp;&nbsp;&nbsp;&nbsp;&nbsp;&nbsp;&nbsp;&nbsp;&nbsp;&nbsp;&nbsp;&nbsp;&nbsp;&nbsp;&nbsp;&nbsp;&nbsp;&nbsp;&nbsp;&nbsp;&nbsp;&nbsp;&nbsp;&nbsp;&nbsp;&nbsp;&nbsp;&nbsp;&nbsp;&nbsp;&nbsp;&nbsp;&nbsp;&nbsp;&nbsp;&nbsp;&nbsp;&nbsp;&nbsp;&nbsp;&nbsp;&nbsp;&nbsp;&nbsp;&nbsp;&nbsp;&nbsp;&nbsp;&nbsp;&nbsp;&nbsp;&nbsp;&nbsp;&nbsp;&nbsp;&nbsp;&nbsp;&nbsp;&nbsp;&nbsp;&nbsp;&nbsp;&nbsp;&nbsp;&nbsp;&nbsp;&nbsp;&nbsp;&nbsp;&nbsp;&nbsp;&nbsp;&nbsp;&nbsp;&nbsp;&nbsp;&nbsp;&nbsp;&nbsp;&nbsp;&nbsp;&nbsp;</span>Veltins\\n      0,2<span style=\\\"mso-tab-count:1\\\">&nbsp;&nbsp;&nbsp;&nbsp;&nbsp;&nbsp;&nbsp;&nbsp;&nbsp;&nbsp;&nbsp;&nbsp;&nbsp;&nbsp;&nbsp;&nbsp;&nbsp;&nbsp;&nbsp;&nbsp;&nbsp;&nbsp;&nbsp;&nbsp;&nbsp;&nbsp;&nbsp;&nbsp;&nbsp;&nbsp;&nbsp;&nbsp;&nbsp;&nbsp;&nbsp;&nbsp;&nbsp;&nbsp;\\n      </span>DM<span style=\\\"mso-spacerun: yes\\\">&nbsp; </span>2,50 / </span><span style=\\\"font-size: 8.0pt; mso-bidi-font-size: 12.0pt; font-family: Book Antiqua\\\">1,30&#128;<o:p>\\n      </o:p>\\n      </span><!--mstheme--></font></h4>\\n      <h4 style=\\\"tab-stops:101.25pt 252.75pt 360.0pt right 417.65pt;\\nmso-layout-grid-align:none;text-autospace:none\\\"><!--mstheme--><font color=\\\"#0033CC\\\"><span style=\\\"font-size: 10.0pt; mso-bidi-font-size: 12.0pt; font-family: Book Antiqua\\\">&nbsp;<o:p>\\n      </o:p>\\n      </span><!--mstheme--></font></h4>\\n      <h4 style=\\\"tab-stops:101.25pt 252.75pt 360.0pt right 417.65pt;\\nmso-layout-grid-align:none;text-autospace:none\\\"><!--mstheme--><font color=\\\"#0033CC\\\"><span style=\\\"font-size: 10.0pt; mso-bidi-font-size: 12.0pt; font-family: Book Antiqua\\\"><span style=\\\"mso-tab-count:2\\\">&nbsp;&nbsp;&nbsp;&nbsp;&nbsp;&nbsp;&nbsp;&nbsp;&nbsp;&nbsp;&nbsp;&nbsp;&nbsp;&nbsp;&nbsp;&nbsp;&nbsp;&nbsp;&nbsp;&nbsp;&nbsp;&nbsp;&nbsp;&nbsp;&nbsp;&nbsp;&nbsp;&nbsp;&nbsp;&nbsp;&nbsp;&nbsp;&nbsp;&nbsp;&nbsp;&nbsp;&nbsp;&nbsp;&nbsp;&nbsp;&nbsp;&nbsp;&nbsp;&nbsp;&nbsp;&nbsp;&nbsp;&nbsp;&nbsp;&nbsp;&nbsp;&nbsp;&nbsp;&nbsp;&nbsp;&nbsp;&nbsp;&nbsp;&nbsp;&nbsp;&nbsp;&nbsp;&nbsp;&nbsp;&nbsp;&nbsp;&nbsp;&nbsp;&nbsp;&nbsp;&nbsp;&nbsp;&nbsp;&nbsp;&nbsp;&nbsp;&nbsp;&nbsp;&nbsp;&nbsp;&nbsp;&nbsp;&nbsp;&nbsp;&nbsp;&nbsp;&nbsp;&nbsp;&nbsp;&nbsp;&nbsp;&nbsp;&nbsp;&nbsp;&nbsp;&nbsp;&nbsp;&nbsp;&nbsp;&nbsp;&nbsp;&nbsp;&nbsp;&nbsp;&nbsp;&nbsp;&nbsp;&nbsp;&nbsp;&nbsp;&nbsp;\\n      </span>Weizenbier<span style=\\\"mso-tab-count:1\\\">&nbsp;&nbsp;&nbsp;&nbsp;&nbsp;&nbsp;&nbsp;&nbsp;&nbsp;&nbsp;&nbsp;&nbsp;&nbsp;&nbsp;&nbsp;&nbsp;&nbsp;&nbsp;&nbsp;&nbsp;&nbsp;&nbsp;&nbsp;&nbsp;&nbsp;\\n      </span></span><span style=\\\"font-size: 10.0pt; mso-bidi-font-size: 12.0pt; font-family: Book Antiqua; mso-bidi-font-family: Arial\\\">DM<span style=\\\"mso-spacerun:\\nyes\\\">&nbsp; </span>5,00 / </span><span style=\\\"font-size: 8.0pt; mso-bidi-font-size: 12.0pt; font-family: Book Antiqua\\\">2,60&#128;</span><span style=\\\"font-size: 8.0pt; mso-bidi-font-size: 12.0pt; font-family: Book Antiqua; mso-bidi-font-family: Arial\\\"><o:p>\\n      </span><!--mstheme--></font></h4>\\n      <!--msthemeseparator--><p align=\\\"center\\\"><img src=\\\"_themes/ponyhof/acdrule.gif\\\" width=\\\"600\\\" height=\\\"10\\\"></p>\\n      <p style=\\\"tab-stops:101.25pt 252.75pt 360.0pt right 417.65pt;\\nmso-layout-grid-align:none;text-autospace:none\\\">&nbsp;<!--mstheme--></font></td>\\n    <td width=\\\"50%\\\"><!--mstheme--><font face=\\\"verdana, arial, helvetica\\\">&nbsp;<!--mstheme--></font></td>\\n  </tr>\\n</table><!--mstheme--><font face=\\\"verdana, arial, helvetica\\\">&nbsp;<!--mstheme--></font><!--msnavigation--></td></tr><!--msnavigation--></table></body>\\n\\n</html>\",\n",
      "      \"amounts\":[\n",
      "        \"dm15.5\",\n",
      "        \"dm8.0\",\n",
      "        \"dm8.5\",\n",
      "        \"dm6.0\",\n",
      "        \"dm7.5\",\n",
      "        \"dm6.5\",\n",
      "        \"dm22.0\",\n",
      "        \"dm20.0\",\n",
      "        \"dm30.0\",\n",
      "        \"dm23.5\",\n",
      "        \"dm15.0\",\n",
      "        \"dm16.0\",\n",
      "        \"dm15.0\",\n",
      "        \"dm16.5\",\n",
      "        \"dm24.0\",\n",
      "        \"dm24.5\",\n",
      "        \"dm28.0\",\n",
      "        \"dm30.0\",\n",
      "        \"dm12.0\",\n",
      "        \"dm5.5\",\n",
      "        \"dm11.0\",\n",
      "        \"dm15.0\",\n",
      "        \"dm14.5\",\n",
      "        \"dm16.0\",\n",
      "        \"dm16.0\",\n",
      "        \"dm16.5\",\n",
      "        \"dm9.0\",\n",
      "        \"dm16.5\",\n",
      "        \"dm14.0\",\n",
      "        \"dm3.2\",\n",
      "        \"dm4.0\",\n",
      "        \"dm2.4\",\n",
      "        \"dm3.5\",\n",
      "        \"dm3.2\",\n",
      "        \"dm3.2\",\n",
      "        \"dm2.4\",\n",
      "        \"dm6.0\",\n",
      "        \"dm2.7\",\n",
      "        \"dm4.0\",\n",
      "        \"dm4.0\",\n",
      "        \"dm5.0\",\n",
      "        \"dm4.0\",\n",
      "        \"dm3.0\",\n",
      "        \"dm3.2\",\n",
      "        \"dm3.5\",\n",
      "        \"dm3.5\",\n",
      "        \"dm3.0\",\n",
      "        \"dm4.0\",\n",
      "        \"dm3.5\",\n",
      "        \"dm3.0\",\n",
      "        \"dm3.5\",\n",
      "        \"dm3.0\",\n",
      "        \"dm2.2\",\n",
      "        \"dm3.5\",\n",
      "        \"dm2.2\",\n",
      "        \"dm6.0\",\n",
      "        \"dm2.2\",\n",
      "        \"dm4.0\",\n",
      "        \"dm2.2\",\n",
      "        \"dm2.5\",\n",
      "        \"dm2.8\",\n",
      "        \"dm3.5\",\n",
      "        \"dm3.7\",\n",
      "        \"dm3.2\",\n",
      "        \"dm4.0\",\n",
      "        \"dm4.0\",\n",
      "        \"dm4.0\",\n",
      "        \"dm4.0\"\n",
      "      ]\n",
      "    }\n",
      "  }\n",
      "}\n"
     ]
    }
   ],
   "source": [
    "println(level1WithAmounts.peekJson)"
   ]
  },
  {
   "cell_type": "code",
   "execution_count": 107,
   "metadata": {
    "collapsed": false
   },
   "outputs": [],
   "source": [
    "val exchangeRate = 1.95583\n",
    "val euros = level1WithAmounts.union(menusWithAmounts).flatMap{record =>\n",
    "    val values = record.value(amounts).getOrElse(Seq.empty)\n",
    "    val dm = values.filter(_.startsWith(\"dm\")).map{value =>\n",
    "        (value.drop(2).toDouble / exchangeRate, \"dm\")\n",
    "    }\n",
    "    val euros = values.filter(_.startsWith(\"eur\")).map{value =>\n",
    "        (value.drop(3).toDouble, \"eur\")\n",
    "    }\n",
    "    \n",
    "    (dm ++ euros).map((record.url, _))\n",
    "}"
   ]
  },
  {
   "cell_type": "code",
   "execution_count": 108,
   "metadata": {
    "collapsed": false
   },
   "outputs": [
    {
     "data": {
      "text/plain": [
       "(http://hotel-ponyhof-knotte.de/abendkarte.htm,(7.925024158541387,dm))"
      ]
     },
     "execution_count": 108,
     "metadata": {},
     "output_type": "execute_result"
    }
   ],
   "source": [
    "euros.peek"
   ]
  },
  {
   "cell_type": "code",
   "execution_count": 109,
   "metadata": {
    "collapsed": false
   },
   "outputs": [],
   "source": [
    "val originUrls = recordsWithContents.map(r => (r.url, r.url)).union(outLinks.map{case (from, year, to) => (to, from)}).distinct"
   ]
  },
  {
   "cell_type": "code",
   "execution_count": 110,
   "metadata": {
    "collapsed": false
   },
   "outputs": [],
   "source": [
    "val urlAmounts = originUrls.join(euros).map{case (url, (from, (amount, currency))) =>\n",
    "    ((from, currency), (amount, 1))\n",
    "}"
   ]
  },
  {
   "cell_type": "code",
   "execution_count": 118,
   "metadata": {
    "collapsed": false
   },
   "outputs": [
    {
     "data": {
      "text/plain": [
       "((http://home.t-online.de/home/gasthaus.sonne/speisekarte.html,dm),(4.70388530700521,1))"
      ]
     },
     "execution_count": 118,
     "metadata": {},
     "output_type": "execute_result"
    }
   ],
   "source": [
    "urlAmounts.peek"
   ]
  },
  {
   "cell_type": "code",
   "execution_count": 119,
   "metadata": {
    "collapsed": false
   },
   "outputs": [],
   "source": [
    "val currencyAvg = urlAmounts.reduceByKey{case ((a1, c1), (a2, c2)) =>\n",
    "    (a1 + a2, c1 + c2)\n",
    "}.map{case ((from, currency), (amount, count)) => (currency, (amount / count, 1))}"
   ]
  },
  {
   "cell_type": "code",
   "execution_count": 120,
   "metadata": {
    "collapsed": false
   },
   "outputs": [
    {
     "data": {
      "text/plain": [
       "37"
      ]
     },
     "execution_count": 120,
     "metadata": {},
     "output_type": "execute_result"
    }
   ],
   "source": [
    "currencyAvg.filter{case (currency, _) => currency == \"dm\"}.count"
   ]
  },
  {
   "cell_type": "code",
   "execution_count": 121,
   "metadata": {
    "collapsed": false
   },
   "outputs": [
    {
     "data": {
      "text/plain": [
       "12"
      ]
     },
     "execution_count": 121,
     "metadata": {},
     "output_type": "execute_result"
    }
   ],
   "source": [
    "currencyAvg.filter{case (currency, _) => currency == \"eur\"}.count"
   ]
  },
  {
   "cell_type": "code",
   "execution_count": 122,
   "metadata": {
    "collapsed": false
   },
   "outputs": [],
   "source": [
    "val avgMap = currencyAvg.reduceByKey{case ((a1, c1), (a2, c2)) =>\n",
    "    (a1 + a2, c1 + c2)\n",
    "}.map{case (currency, (amount, count)) => (currency, amount / count)}.collectAsMap"
   ]
  },
  {
   "cell_type": "code",
   "execution_count": 123,
   "metadata": {
    "collapsed": false
   },
   "outputs": [
    {
     "data": {
      "text/plain": [
       "Map(eur -> 9.584057992679567, dm -> 7.787867861750461)"
      ]
     },
     "execution_count": 123,
     "metadata": {},
     "output_type": "execute_result"
    }
   ],
   "source": [
    "avgMap"
   ]
  },
  {
   "cell_type": "code",
   "execution_count": 124,
   "metadata": {
    "collapsed": false
   },
   "outputs": [
    {
     "data": {
      "text/plain": [
       "1.230639523270671"
      ]
     },
     "execution_count": 124,
     "metadata": {},
     "output_type": "execute_result"
    }
   ],
   "source": [
    "avgMap(\"eur\") / avgMap(\"dm\")"
   ]
  }
 ],
 "metadata": {
  "kernelspec": {
   "display_name": "MHLonArchiveSpark",
   "language": "",
   "name": "archivespark_mhl"
  },
  "language_info": {
   "name": "scala",
   "version": "2.11.8"
  }
 },
 "nbformat": 4,
 "nbformat_minor": 0
}
